{
 "cells": [
  {
   "cell_type": "markdown",
   "id": "particular-audio",
   "metadata": {},
   "source": [
    "<img src=\"images/banner_introRProg.png\" align=\"left\" />"
   ]
  },
  {
   "cell_type": "markdown",
   "id": "alien-austria",
   "metadata": {},
   "source": [
    "<table style=\"float:right;\">\n",
    "    <tr>\n",
    "        <td>                      \n",
    "            <div style=\"text-align: right\"><a href=\"https://www.research.manchester.ac.uk/portal/mudassar.iqbal.html\" target=\"_blank\">Mudassar Iqbal</a></div>\n",
    "            <div style=\"text-align: right\">Lecturer in Health Data Sciences</div>\n",
    "            <div style=\"text-align: right\">University of Manchester</div>\n",
    "         </td>\n",
    "         <td>\n",
    "             <img src=\"images/mudassar_iqbal.png\" width=\"50%\" />\n",
    "         </td>\n",
    "     </tr>\n",
    "</table>"
   ]
  },
  {
   "cell_type": "markdown",
   "id": "dense-operator",
   "metadata": {},
   "source": [
    "# RNA-seq: Exploratory analysis and differential expression\n",
    "****"
   ]
  },
  {
   "cell_type": "markdown",
   "id": "suspended-investing",
   "metadata": {},
   "source": [
    "#### About this Notebook\n",
    "This notebook follows the differential expression [RNA-seq workflow](https://f1000research.com/articles/4-1070) and helps you practice some exploratory analysis using different packages in R and Bioconductor.\n",
    "\n",
    "For help in using this Jupyter notebook please refer to the [Jupyter Notebook User Guide](https://online.manchester.ac.uk/bbcswebdav/orgs/I3116-ADHOC-I3HS-HUB-1/Jupyter%20Notebooks/content/index.html#/)"
   ]
  },
  {
   "cell_type": "markdown",
   "id": "charming-survey",
   "metadata": {},
   "source": [
    "Level: <code>intermediate</code> "
   ]
  },
  {
   "cell_type": "markdown",
   "id": "congressional-georgia",
   "metadata": {},
   "source": [
    "Duration: Approximately 3 to 4 hours to complete"
   ]
  },
  {
   "cell_type": "markdown",
   "id": "acknowledged-parker",
   "metadata": {},
   "source": [
    "<div class=\"alert alert-block alert-warning\"><b>Learning Objectives:</b> \n",
    "<br/> At the end of this notebook you will be able to:\n",
    "    \n",
    "- Follow the differential expression RNA-seq workflow \n",
    "    \n",
    "- Investigate how to complete some exploratory data analysis \n",
    "    \n",
    "- Practice using the following Bioconductor packages:\n",
    "    - airway\n",
    "    - txumeta\n",
    "    - DESeq2\n",
    "    - vsn\n",
    "    - apeglm\n",
    "    - genefilter\n",
    "    \n",
    "- Practice using the following R packages: \n",
    "    - dplyr\n",
    "    - ggplot2\n",
    "    - pheatmap\n",
    "    - RColorBrewer\n",
    "    - ggbeeswarm\n",
    "\n",
    "\n",
    "</div> "
   ]
  },
  {
   "cell_type": "markdown",
   "id": "genetic-boulder",
   "metadata": {},
   "source": [
    "<a id=\"top\"></a>\n",
    "\n",
    "<b>Table of contents</b><br>\n",
    "\n",
    "1.0 [About the Data](#data)\n",
    "\n",
    "2.0 [Workflow ](#workflow)\n",
    "\n",
    "3.0 [Quantification](quantification)\n",
    "\n",
    "4.0 [The DESeqDataSet object, sample information and the design formula](seqobject)\n",
    "\n",
    "5.0 [The variance stabilizing transformation and the rlog](rlog)\n",
    "\n",
    "6.0 [Sample distances](sample)\n",
    "\n",
    "7.0 [Differential expression analysis](dea)\n",
    "\n",
    "8.0 [Plotting results](plotting)\n",
    "\n",
    "9.0 [Gene clustering](clustering)\n",
    "\n",
    "10.0 [Annotating and exporting results](results)\n",
    "\n",
    "11.0 [Your Turn](#yourturn)\n",
    "\n",
    "\n",
    "*****"
   ]
  },
  {
   "cell_type": "markdown",
   "id": "metropolitan-bristol",
   "metadata": {},
   "source": [
    "<a id=\"data\"></a>\n",
    "\n",
    "## About the Data\n",
    "\n",
    "We will use RNA-seq data from an experiment wherein airway smooth muscle cells were treated with dexamethasone, a synthetic glucocorticoid steroid with anti-inflammatory effects (Himes et al. 2014). In the experiment, four primary human airway smooth muscle cell lines were treated with 1 micromolar dexamethasone for 18 hours. For each of the four cell lines, we have a treated and an untreated sample. For more description of the experiment see the PubMed entry 24926665 and for raw data see the GEO entry GSE52778.\n",
    "\n",
    "For full details on how to prepare input files to DE analysis tools/packges, see section 2.1 https://bioconductor.org/packages/release/workflows/vignettes/rnaseqGene/inst/doc/rnaseqGene.html\n",
    "\n",
    "If you would like to dig into analysis of raw RNA-seq data, transcript and gene-based quantifications, here are tutorials for two popular methods, Salmon and Kallisto:\n",
    "\n",
    "https://combine-lab.github.io/salmon/getting_started/\n",
    "\n",
    "https://pachterlab.github.io/kallisto/starting\n",
    "\n",
    "Here, we will just load the airway package which include the data we need (Salmon output)."
   ]
  },
  {
   "cell_type": "code",
   "execution_count": 1,
   "id": "broad-beach",
   "metadata": {},
   "outputs": [
    {
     "ename": "ERROR",
     "evalue": "Error in library(\"airway\"): there is no package called 'airway'\n",
     "output_type": "error",
     "traceback": [
      "Error in library(\"airway\"): there is no package called 'airway'\nTraceback:\n",
      "1. library(\"airway\")"
     ]
    }
   ],
   "source": [
    "library(\"airway\")"
   ]
  },
  {
   "cell_type": "markdown",
   "id": "clinical-photograph",
   "metadata": {},
   "source": [
    "We will use R funrtion ‘system.file’ to find out where ‘airway’ package has stored the data."
   ]
  },
  {
   "cell_type": "code",
   "execution_count": 2,
   "id": "opposite-geology",
   "metadata": {},
   "outputs": [
    {
     "ename": "ERROR",
     "evalue": "Error in system.file(\"extdata\", package = \"airway\", mustWork = TRUE): no file found\n",
     "output_type": "error",
     "traceback": [
      "Error in system.file(\"extdata\", package = \"airway\", mustWork = TRUE): no file found\nTraceback:\n",
      "1. system.file(\"extdata\", package = \"airway\", mustWork = TRUE)",
      "2. stop(\"no file found\")"
     ]
    }
   ],
   "source": [
    "dir <- system.file(\"extdata\", package=\"airway\", mustWork=TRUE)\n",
    "list.files(dir)"
   ]
  },
  {
   "cell_type": "markdown",
   "id": "august-sudan",
   "metadata": {},
   "source": [
    "\n",
    "*****\n",
    "[back to the top](#top)"
   ]
  },
  {
   "cell_type": "markdown",
   "id": "modern-ready",
   "metadata": {},
   "source": [
    "<a id=\"workflow\"></a>\n",
    "\n",
    "## About the workflow"
   ]
  },
  {
   "cell_type": "markdown",
   "id": "later-accreditation",
   "metadata": {},
   "source": [
    "<img src=\"images/rnaseq-workflow.png\"/>"
   ]
  },
  {
   "cell_type": "markdown",
   "id": "threaded-tomorrow",
   "metadata": {},
   "source": [
    "Info about the workflow - can use image to denote each step??"
   ]
  },
  {
   "cell_type": "markdown",
   "id": "adaptive-monitor",
   "metadata": {},
   "source": [
    "*****\n",
    "[back to the top](#top)"
   ]
  },
  {
   "cell_type": "markdown",
   "id": "charitable-replacement",
   "metadata": {},
   "source": [
    "<a href id=\"#quantification\"></a>\n",
    "\n",
    "## Quantification\n",
    "\n",
    "This includes all the alighnment (bam) files but also ‘quants’ folder which contains Salmon output. For now, we will work with Salmon output using ‘tximeta’ package."
   ]
  },
  {
   "cell_type": "code",
   "execution_count": 3,
   "id": "public-bruce",
   "metadata": {},
   "outputs": [
    {
     "ename": "ERROR",
     "evalue": "Error in file.path(dir, \"quants\"): cannot coerce type 'closure' to vector of type 'character'\n",
     "output_type": "error",
     "traceback": [
      "Error in file.path(dir, \"quants\"): cannot coerce type 'closure' to vector of type 'character'\nTraceback:\n",
      "1. list.files(file.path(dir, \"quants\"))",
      "2. file.path(dir, \"quants\")"
     ]
    }
   ],
   "source": [
    "list.files(file.path(dir, \"quants\"))"
   ]
  },
  {
   "cell_type": "markdown",
   "id": "narrative-playback",
   "metadata": {},
   "source": [
    "Typically, we have a table with detailed information for each of our samples that links samples to the associated FASTQ and Salmon directories. For your own project, you might create such a comma-separated value (CSV) file using a text editor or spreadsheet software such as Excel.\n",
    "\n",
    "We load such a CSV file with read.csv:"
   ]
  },
  {
   "cell_type": "code",
   "execution_count": 4,
   "id": "prescription-landing",
   "metadata": {},
   "outputs": [
    {
     "ename": "ERROR",
     "evalue": "Error in file.path(dir, \"sample_table.csv\"): cannot coerce type 'closure' to vector of type 'character'\n",
     "output_type": "error",
     "traceback": [
      "Error in file.path(dir, \"sample_table.csv\"): cannot coerce type 'closure' to vector of type 'character'\nTraceback:\n",
      "1. file.path(dir, \"sample_table.csv\")"
     ]
    }
   ],
   "source": [
    "csvfile <- file.path(dir, \"sample_table.csv\")\n",
    "coldata <- read.csv(csvfile, row.names=1, stringsAsFactors=FALSE)\n",
    "coldata"
   ]
  },
  {
   "cell_type": "markdown",
   "id": "addressed-rider",
   "metadata": {},
   "source": [
    "To demonstrate loading Salmon quantifiation data into R, we will just work with the two samples that are provided in the airway package. We create a column called ‘names’ and a column called ‘files’:"
   ]
  },
  {
   "cell_type": "code",
   "execution_count": 5,
   "id": "statutory-oxygen",
   "metadata": {},
   "outputs": [
    {
     "ename": "ERROR",
     "evalue": "Error in eval(expr, envir, enclos): object 'coldata' not found\n",
     "output_type": "error",
     "traceback": [
      "Error in eval(expr, envir, enclos): object 'coldata' not found\nTraceback:\n"
     ]
    }
   ],
   "source": [
    "coldata <- coldata[1:2,]\n",
    "coldata$names <- coldata$Run\n",
    "coldata$files <- file.path(dir, \"quants\", coldata$names, \"quant.sf.gz\")\n",
    "file.exists(coldata$files)"
   ]
  },
  {
   "cell_type": "markdown",
   "id": "congressional-premises",
   "metadata": {},
   "source": [
    "‘tximeta’ package - to import transcript quantifications from Salmon, performs many tasks in terms of gathering annotations etc automatically, details here [tiximeta](https://bioconductor.org/packages/3.11/bioc/vignettes/tximeta/inst/doc/tximeta.html) - Select an option for directory to use, this will take few minutes!"
   ]
  },
  {
   "cell_type": "code",
   "execution_count": 6,
   "id": "wrong-cargo",
   "metadata": {},
   "outputs": [
    {
     "ename": "ERROR",
     "evalue": "Error in library(\"tximeta\"): there is no package called 'tximeta'\n",
     "output_type": "error",
     "traceback": [
      "Error in library(\"tximeta\"): there is no package called 'tximeta'\nTraceback:\n",
      "1. library(\"tximeta\")"
     ]
    }
   ],
   "source": [
    "library(\"tximeta\")\n",
    "se <- tximeta(coldata)"
   ]
  },
  {
   "cell_type": "markdown",
   "id": "damaged-simulation",
   "metadata": {},
   "source": [
    "tximeta imports data at the transcript level."
   ]
  },
  {
   "cell_type": "code",
   "execution_count": 7,
   "id": "dress-security",
   "metadata": {},
   "outputs": [
    {
     "ename": "ERROR",
     "evalue": "Error in eval(expr, envir, enclos): object 'se' not found\n",
     "output_type": "error",
     "traceback": [
      "Error in eval(expr, envir, enclos): object 'se' not found\nTraceback:\n"
     ]
    }
   ],
   "source": [
    "dim(se)"
   ]
  },
  {
   "cell_type": "markdown",
   "id": "greek-sheriff",
   "metadata": {},
   "source": [
    "Display few transcript names"
   ]
  },
  {
   "cell_type": "code",
   "execution_count": 8,
   "id": "fifteen-homeless",
   "metadata": {},
   "outputs": [
    {
     "ename": "ERROR",
     "evalue": "Error in rownames(se): object 'se' not found\n",
     "output_type": "error",
     "traceback": [
      "Error in rownames(se): object 'se' not found\nTraceback:\n",
      "1. head(rownames(se))",
      "2. rownames(se)"
     ]
    }
   ],
   "source": [
    "head(rownames(se))"
   ]
  },
  {
   "cell_type": "markdown",
   "id": "continued-sense",
   "metadata": {},
   "source": [
    "We can summarize the transcript-level quantifications to the gene-level\n",
    "\n"
   ]
  },
  {
   "cell_type": "code",
   "execution_count": 9,
   "id": "informative-surfing",
   "metadata": {},
   "outputs": [
    {
     "ename": "ERROR",
     "evalue": "Error in summarizeToGene(se): could not find function \"summarizeToGene\"\n",
     "output_type": "error",
     "traceback": [
      "Error in summarizeToGene(se): could not find function \"summarizeToGene\"\nTraceback:\n"
     ]
    }
   ],
   "source": [
    "gse <- summarizeToGene(se)"
   ]
  },
  {
   "cell_type": "code",
   "execution_count": 10,
   "id": "modified-newark",
   "metadata": {},
   "outputs": [
    {
     "ename": "ERROR",
     "evalue": "Error in eval(expr, envir, enclos): object 'gse' not found\n",
     "output_type": "error",
     "traceback": [
      "Error in eval(expr, envir, enclos): object 'gse' not found\nTraceback:\n"
     ]
    }
   ],
   "source": [
    "dim(gse)"
   ]
  },
  {
   "cell_type": "code",
   "execution_count": 11,
   "id": "following-representative",
   "metadata": {},
   "outputs": [
    {
     "ename": "ERROR",
     "evalue": "Error in rownames(gse): object 'gse' not found\n",
     "output_type": "error",
     "traceback": [
      "Error in rownames(gse): object 'gse' not found\nTraceback:\n",
      "1. head(rownames(gse))",
      "2. rownames(gse)"
     ]
    }
   ],
   "source": [
    "head(rownames(gse))"
   ]
  },
  {
   "cell_type": "markdown",
   "id": "excellent-omaha",
   "metadata": {},
   "source": [
    "You can see tximeta is saving you a lot of hassle here!"
   ]
  },
  {
   "cell_type": "markdown",
   "id": "indoor-tribe",
   "metadata": {},
   "source": [
    "### Other methods\n",
    "While the above section described use of Salmon and tximeta, there are many possible inputs to DESeq2, each of which have their own dedicated import functions. The following tools can be used to generate or compile count data for use with DESeq2: tximport (Soneson, Love, and Robinson 2015), tximeta (Love et al. 2020), htseq-count (Anders, Pyl, and Huber 2015), featureCounts (Liao, Smyth, and Shi 2014), summarizeOverlaps (Lawrence et al. 2013).\n",
    "\n",
    "Import functions and corresponding DESeq2 input function:\n",
    "\n",
    "tximport (tximport, R/Bioconductor) - DESeqDataSetFromTximport\n",
    "tximeta (tximeta, R/Bioconductor) - DESeqDataSet\n",
    "htseq-count (Python, HTSeq) - DESeqDataSetFromHTSeq\n",
    "featureCounts (Rsubread, R/Bioconductor) - DESeqDataSetFromMatrix\n",
    "summarizeOverlaps (GenomicAlignments, R/Bioconductor) - DESeqDataSet\n",
    "\n",
    "#### The SummarizedExperiment"
   ]
  },
  {
   "cell_type": "code",
   "execution_count": 12,
   "id": "later-administrator",
   "metadata": {},
   "outputs": [
    {
     "data": {
      "image/png": "[encoded data removed]",
      "text/plain": [
       "plot without title"
      ]
     },
     "metadata": {},
     "output_type": "display_data"
    }
   ],
   "source": [
    "par(mar=c(0,0,0,0))\n",
    "plot(1,1,xlim=c(0,100),ylim=c(0,100),bty=\"n\",\n",
    "     type=\"n\",xlab=\"\",ylab=\"\",xaxt=\"n\",yaxt=\"n\")\n",
    "polygon(c(45,90,90,45),c(5,5,70,70),col=\"pink\",border=NA)"
   ]
  },
  {
   "cell_type": "code",
   "execution_count": 13,
   "id": "perceived-order",
   "metadata": {},
   "outputs": [
    {
     "ename": "ERROR",
     "evalue": "Error in polygon(c(45, 90, 90, 45), c(68, 68, 70, 70), col = \"pink3\", : plot.new has not been called yet\n",
     "output_type": "error",
     "traceback": [
      "Error in polygon(c(45, 90, 90, 45), c(68, 68, 70, 70), col = \"pink3\", : plot.new has not been called yet\nTraceback:\n",
      "1. polygon(c(45, 90, 90, 45), c(68, 68, 70, 70), col = \"pink3\", \n .     border = NA)"
     ]
    }
   ],
   "source": [
    "polygon(c(45,90,90,45),c(68,68,70,70),col=\"pink3\",border=NA)\n",
    "text(67.5,40,\"assay(s)\")"
   ]
  },
  {
   "cell_type": "code",
   "execution_count": 14,
   "id": "boring-retailer",
   "metadata": {},
   "outputs": [
    {
     "ename": "ERROR",
     "evalue": "Error in text.default(67.5, 35, \"e.g. \\\"counts\\\", ...\"): plot.new has not been called yet\n",
     "output_type": "error",
     "traceback": [
      "Error in text.default(67.5, 35, \"e.g. \\\"counts\\\", ...\"): plot.new has not been called yet\nTraceback:\n",
      "1. text(67.5, 35, \"e.g. \\\"counts\\\", ...\")",
      "2. text.default(67.5, 35, \"e.g. \\\"counts\\\", ...\")"
     ]
    }
   ],
   "source": [
    "text(67.5,35,'e.g. \"counts\", ...')\n",
    "polygon(c(10,40,40,10),c(5,5,70,70),col=\"skyblue\",border=NA)"
   ]
  },
  {
   "cell_type": "code",
   "execution_count": 15,
   "id": "proper-bristol",
   "metadata": {},
   "outputs": [
    {
     "ename": "ERROR",
     "evalue": "Error in polygon(c(10, 40, 40, 10), c(68, 68, 70, 70), col = \"skyblue3\", : plot.new has not been called yet\n",
     "output_type": "error",
     "traceback": [
      "Error in polygon(c(10, 40, 40, 10), c(68, 68, 70, 70), col = \"skyblue3\", : plot.new has not been called yet\nTraceback:\n",
      "1. polygon(c(10, 40, 40, 10), c(68, 68, 70, 70), col = \"skyblue3\", \n .     border = NA)"
     ]
    }
   ],
   "source": [
    "polygon(c(10,40,40,10),c(68,68,70,70),col=\"skyblue3\",border=NA)\n",
    "text(25,40,\"rowRanges\")"
   ]
  },
  {
   "cell_type": "code",
   "execution_count": 16,
   "id": "derived-conspiracy",
   "metadata": {},
   "outputs": [
    {
     "ename": "ERROR",
     "evalue": "Error in polygon(c(45, 90, 90, 45), c(75, 75, 95, 95), col = \"palegreen\", : plot.new has not been called yet\n",
     "output_type": "error",
     "traceback": [
      "Error in polygon(c(45, 90, 90, 45), c(75, 75, 95, 95), col = \"palegreen\", : plot.new has not been called yet\nTraceback:\n",
      "1. polygon(c(45, 90, 90, 45), c(75, 75, 95, 95), col = \"palegreen\", \n .     border = NA)"
     ]
    }
   ],
   "source": [
    "polygon(c(45,90,90,45),c(75,75,95,95),col=\"palegreen\",border=NA)\n",
    "polygon(c(45,47,47,45),c(75,75,95,95),col=\"palegreen3\",border=NA)"
   ]
  },
  {
   "cell_type": "code",
   "execution_count": 17,
   "id": "amateur-closing",
   "metadata": {},
   "outputs": [
    {
     "ename": "ERROR",
     "evalue": "Error in text.default(67.5, 85, \"colData\"): plot.new has not been called yet\n",
     "output_type": "error",
     "traceback": [
      "Error in text.default(67.5, 85, \"colData\"): plot.new has not been called yet\nTraceback:\n",
      "1. text(67.5, 85, \"colData\")",
      "2. text.default(67.5, 85, \"colData\")"
     ]
    }
   ],
   "source": [
    "text(67.5,85,\"colData\")"
   ]
  },
  {
   "cell_type": "markdown",
   "id": "normal-cycling",
   "metadata": {},
   "source": [
    "<img src=\"images/coldata.png\"/>\n",
    "\n",
    "The assay (pink block) contains the matrix of counts, the rowRanges (blue block) contains information about the genomic ranges and the colData (green block) contains information about the samples. The highlighted line in each block represents the first row (note that the first row of colData lines up with the first column of the assay).\n",
    "\n",
    "The SummarizedExperiment container is diagrammed in the Figure above and discussed in the latest Bioconductor paper (Huber et al. 2015). In our case, tximeta has created an object gse with three matrices: “counts” - the estimated fragment counts for each gene and sample, “abundance” - the estimated transcript abundances in TPM, and “length” - the effective gene lengths which include changes in length due to biases as well as due to transcript usage. The names of the assays can be examined with assayNames, and the assays themselves are stored as assays (a list of matrices). The first matrix in the list can be pulled out via assay. The rowRanges for our object is the GRanges of the genes (from the left-most position of all the transcripts to the right-most position of all the transcripts). The component parts of the SummarizedExperiment are accessed with an R function of the same name: assay (or assays), rowRanges and colData.\n",
    "\n",
    "We now will load the full count matrix corresponding to all samples and all data, which is provided in the airway package, and will continue the analysis with the full data object."
   ]
  },
  {
   "cell_type": "code",
   "execution_count": 18,
   "id": "cordless-strip",
   "metadata": {},
   "outputs": [
    {
     "name": "stderr",
     "output_type": "stream",
     "text": [
      "Warning message in data(gse):\n",
      "\"data set 'gse' not found\""
     ]
    },
    {
     "ename": "ERROR",
     "evalue": "Error in eval(expr, envir, enclos): object 'gse' not found\n",
     "output_type": "error",
     "traceback": [
      "Error in eval(expr, envir, enclos): object 'gse' not found\nTraceback:\n"
     ]
    }
   ],
   "source": [
    "data(gse)\n",
    "gse"
   ]
  },
  {
   "cell_type": "markdown",
   "id": "passing-camcorder",
   "metadata": {},
   "source": [
    "The counts are the first matrix, so we can examine them with just assay:"
   ]
  },
  {
   "cell_type": "code",
   "execution_count": 19,
   "id": "pacific-complexity",
   "metadata": {},
   "outputs": [
    {
     "ename": "ERROR",
     "evalue": "Error in assayNames(gse): could not find function \"assayNames\"\n",
     "output_type": "error",
     "traceback": [
      "Error in assayNames(gse): could not find function \"assayNames\"\nTraceback:\n"
     ]
    }
   ],
   "source": [
    "assayNames(gse)"
   ]
  },
  {
   "cell_type": "code",
   "execution_count": 20,
   "id": "apparent-carry",
   "metadata": {},
   "outputs": [
    {
     "ename": "ERROR",
     "evalue": "Error in assay(gse): could not find function \"assay\"\n",
     "output_type": "error",
     "traceback": [
      "Error in assay(gse): could not find function \"assay\"\nTraceback:\n",
      "1. head(assay(gse), 3)"
     ]
    }
   ],
   "source": [
    "head(assay(gse), 3)"
   ]
  },
  {
   "cell_type": "code",
   "execution_count": 21,
   "id": "effective-paradise",
   "metadata": {},
   "outputs": [
    {
     "ename": "ERROR",
     "evalue": "Error in assay(gse): could not find function \"assay\"\n",
     "output_type": "error",
     "traceback": [
      "Error in assay(gse): could not find function \"assay\"\nTraceback:\n",
      "1. colSums(assay(gse))",
      "2. is.data.frame(x)"
     ]
    }
   ],
   "source": [
    "colSums(assay(gse))"
   ]
  },
  {
   "cell_type": "markdown",
   "id": "still-chain",
   "metadata": {},
   "source": [
    "The rowRanges, when printed, shows the ranges for the first five and last five genes:"
   ]
  },
  {
   "cell_type": "code",
   "execution_count": 22,
   "id": "original-lightweight",
   "metadata": {},
   "outputs": [
    {
     "ename": "ERROR",
     "evalue": "Error in rowRanges(gse): could not find function \"rowRanges\"\n",
     "output_type": "error",
     "traceback": [
      "Error in rowRanges(gse): could not find function \"rowRanges\"\nTraceback:\n"
     ]
    }
   ],
   "source": [
    "rowRanges(gse)"
   ]
  },
  {
   "cell_type": "markdown",
   "id": "devoted-security",
   "metadata": {},
   "source": [
    "The rowRanges also contains metadata about the sequences (chromosomes in our case) in the seqinfo slot:"
   ]
  },
  {
   "cell_type": "code",
   "execution_count": 23,
   "id": "marked-supply",
   "metadata": {},
   "outputs": [
    {
     "ename": "ERROR",
     "evalue": "Error in seqinfo(rowRanges(gse)): could not find function \"seqinfo\"\n",
     "output_type": "error",
     "traceback": [
      "Error in seqinfo(rowRanges(gse)): could not find function \"seqinfo\"\nTraceback:\n"
     ]
    }
   ],
   "source": [
    "seqinfo(rowRanges(gse))"
   ]
  },
  {
   "cell_type": "code",
   "execution_count": 24,
   "id": "damaged-rescue",
   "metadata": {},
   "outputs": [
    {
     "ename": "ERROR",
     "evalue": "Error in parse(text = x, srcfile = src): <text>:1:9: unexpected symbol\n1: Seqinfo object\n            ^\n",
     "output_type": "error",
     "traceback": [
      "Error in parse(text = x, srcfile = src): <text>:1:9: unexpected symbol\n1: Seqinfo object\n            ^\nTraceback:\n"
     ]
    }
   ],
   "source": [
    "Seqinfo object with 25 sequences (1 circular) from hg38 genome:"
   ]
  },
  {
   "cell_type": "markdown",
   "id": "romantic-saint",
   "metadata": {},
   "source": [
    "The colData for the SummarizedExperiment reflects the data.frame that was provided to the tximeta function for importing the quantification data. Here we can see that there are columns indicating sample names, as well as the donor ID, and the treatment condition (treated with dexamethasone or untreated)."
   ]
  },
  {
   "cell_type": "code",
   "execution_count": 25,
   "id": "unavailable-mystery",
   "metadata": {},
   "outputs": [
    {
     "ename": "ERROR",
     "evalue": "Error in colData(gse): could not find function \"colData\"\n",
     "output_type": "error",
     "traceback": [
      "Error in colData(gse): could not find function \"colData\"\nTraceback:\n"
     ]
    }
   ],
   "source": [
    "colData(gse)"
   ]
  },
  {
   "cell_type": "markdown",
   "id": "portuguese-toolbox",
   "metadata": {},
   "source": [
    "There are many methods for DE analysis, here we will show how to use summarizedExperiment object to create the data object used by DESeq2 (Love, Huber, and Anders 2014)..\n",
    "\n",
    "\n",
    "*****\n",
    "[back to the top](#top)"
   ]
  },
  {
   "cell_type": "markdown",
   "id": "piano-redhead",
   "metadata": {},
   "source": [
    "<a href id=\"#seqobject\"></a>\n",
    "\n",
    "## The DESeqDataSet object, sample information and the design formula\n",
    "\n",
    "To work with DESeq2, we will create the custom class called DESeqDataSet. It is built on top of the SummarizedExperiment class, and it is easy to convert SummarizedExperiment objects into DESeqDataSet objects. One of the two main differences is that the assay slot is instead accessed using the counts accessor function, and the DESeqDataSet class enforces that the values in this matrix are non-negative integers. A second difference is that the DESeqDataSet has an associated design formula. The experimental design is specified at the beginning of the analysis, as it will inform many of the DESeq2 functions how to treat the samples in the analysis (one exception is the size factor estimation, i.e., the adjustment for differing library sizes, which does not depend on the design formula). The design formula tells which columns in the sample information table (colData) specify the experimental design and how these factors should be used in the analysis.\n",
    "\n",
    "First, let’s examine the columns of the colData of gse. We can see each of the columns just using the $ directly on the SummarizedExperiment or DESeqDataSet."
   ]
  },
  {
   "cell_type": "code",
   "execution_count": 26,
   "id": "disturbed-saturday",
   "metadata": {},
   "outputs": [
    {
     "ename": "ERROR",
     "evalue": "Error in eval(expr, envir, enclos): object 'gse' not found\n",
     "output_type": "error",
     "traceback": [
      "Error in eval(expr, envir, enclos): object 'gse' not found\nTraceback:\n"
     ]
    }
   ],
   "source": [
    "gse$donor"
   ]
  },
  {
   "cell_type": "code",
   "execution_count": 27,
   "id": "twelve-button",
   "metadata": {},
   "outputs": [
    {
     "ename": "ERROR",
     "evalue": "Error in eval(expr, envir, enclos): object 'gse' not found\n",
     "output_type": "error",
     "traceback": [
      "Error in eval(expr, envir, enclos): object 'gse' not found\nTraceback:\n"
     ]
    }
   ],
   "source": [
    "gse$condition"
   ]
  },
  {
   "cell_type": "markdown",
   "id": "indonesian-arkansas",
   "metadata": {},
   "source": [
    "We can rename our variables if we want. Let’s use cell to denote the donor cell line, and dex to denote the treatment condition."
   ]
  },
  {
   "cell_type": "code",
   "execution_count": 28,
   "id": "decimal-blair",
   "metadata": {},
   "outputs": [
    {
     "ename": "ERROR",
     "evalue": "Error in eval(expr, envir, enclos): object 'gse' not found\n",
     "output_type": "error",
     "traceback": [
      "Error in eval(expr, envir, enclos): object 'gse' not found\nTraceback:\n"
     ]
    }
   ],
   "source": [
    "gse$cell <- gse$donor\n",
    "gse$dex <- gse$condition"
   ]
  },
  {
   "cell_type": "markdown",
   "id": "settled-awareness",
   "metadata": {},
   "source": [
    "We can also change the names of the levels. It is critical when one renames levels to not change the order. Here we will rename “Untreated” as “untrt” and “Dexamethasone” as “trt”:"
   ]
  },
  {
   "cell_type": "code",
   "execution_count": 29,
   "id": "enhanced-elephant",
   "metadata": {},
   "outputs": [
    {
     "ename": "ERROR",
     "evalue": "Error in levels(gse$dex): object 'gse' not found\n",
     "output_type": "error",
     "traceback": [
      "Error in levels(gse$dex): object 'gse' not found\nTraceback:\n",
      "1. levels(gse$dex)"
     ]
    }
   ],
   "source": [
    "levels(gse$dex)"
   ]
  },
  {
   "cell_type": "code",
   "execution_count": 30,
   "id": "quality-dakota",
   "metadata": {},
   "outputs": [
    {
     "ename": "ERROR",
     "evalue": "Error in levels(gse$dex) <- c(\"untrt\", \"trt\"): object 'gse' not found\n",
     "output_type": "error",
     "traceback": [
      "Error in levels(gse$dex) <- c(\"untrt\", \"trt\"): object 'gse' not found\nTraceback:\n"
     ]
    }
   ],
   "source": [
    "# when renaming levels, the order must be preserved!\n",
    "levels(gse$dex) <- c(\"untrt\", \"trt\")"
   ]
  },
  {
   "cell_type": "markdown",
   "id": "useful-whale",
   "metadata": {},
   "source": [
    "The simplest design formula for differential expression would be ~condition, where condition is a column in colData(dds) that specifies which of two (or more groups) the samples belong to. For the airway experiment, we will specify ~cell + dex meaning that we want to test for the effect of dexamethasone (dex) controlling for the effect of different cell line (cell).\n",
    "\n",
    "In the following sections, we will demonstrate the construction of the DESeqDataSet from two starting points:\n",
    "\n",
    "-from a SummarizedExperiment object\n",
    "\n",
    "-from a count matrix and a sample information table\n",
    "\n",
    "For a full example of using the HTSeq Python package for read counting, please see [bioconductor packages](https://bioconductor.org/packages/3.12/data/experiment/html/pasilla.html) And for an example of generating the DESeqDataSet from files produced by htseq-count, please see the DESeq2 vignette."
   ]
  },
  {
   "cell_type": "markdown",
   "id": "integral-oasis",
   "metadata": {},
   "source": [
    "### Starting from SummarizedExperiment"
   ]
  },
  {
   "cell_type": "code",
   "execution_count": 31,
   "id": "elegant-sight",
   "metadata": {},
   "outputs": [
    {
     "ename": "ERROR",
     "evalue": "Error in library(\"DESeq2\"): there is no package called 'DESeq2'\n",
     "output_type": "error",
     "traceback": [
      "Error in library(\"DESeq2\"): there is no package called 'DESeq2'\nTraceback:\n",
      "1. library(\"DESeq2\")"
     ]
    }
   ],
   "source": [
    "library(\"DESeq2\")"
   ]
  },
  {
   "cell_type": "code",
   "execution_count": 32,
   "id": "regulated-universe",
   "metadata": {},
   "outputs": [
    {
     "ename": "ERROR",
     "evalue": "Error in DESeqDataSet(gse, design = ~cell + dex): could not find function \"DESeqDataSet\"\n",
     "output_type": "error",
     "traceback": [
      "Error in DESeqDataSet(gse, design = ~cell + dex): could not find function \"DESeqDataSet\"\nTraceback:\n"
     ]
    }
   ],
   "source": [
    "dds <- DESeqDataSet(gse, design = ~ cell + dex)"
   ]
  },
  {
   "cell_type": "markdown",
   "id": "pressed-integrity",
   "metadata": {},
   "source": [
    "dds <- DESeqDataSet(gse, design = ~ cell + dex)"
   ]
  },
  {
   "cell_type": "markdown",
   "id": "creative-reputation",
   "metadata": {},
   "source": [
    "### Starting from count matrices\n",
    "This is just to show how to use to count matrices to work with DESeq2.\n",
    "\n",
    "While the previous section would be used to construct a DESeqDataSet from a SummarizedExperiment, here we first extract the individual object (count matrix and sample info) from the SummarizedExperiment in order to build it back into a new object – only for demonstration purposes. In practice, the count matrix would either be read in from a file or perhaps generated by an R function like featureCounts from the Rsubread package (Liao, Smyth, and Shi 2014)."
   ]
  },
  {
   "cell_type": "code",
   "execution_count": 33,
   "id": "negative-rough",
   "metadata": {},
   "outputs": [
    {
     "ename": "ERROR",
     "evalue": "Error in assays(gse): could not find function \"assays\"\n",
     "output_type": "error",
     "traceback": [
      "Error in assays(gse): could not find function \"assays\"\nTraceback:\n"
     ]
    }
   ],
   "source": [
    "countdata <- round(assays(gse)[[\"counts\"]])\n",
    "head(countdata, 3)"
   ]
  },
  {
   "cell_type": "code",
   "execution_count": 34,
   "id": "specialized-declaration",
   "metadata": {},
   "outputs": [
    {
     "ename": "ERROR",
     "evalue": "Error in colData(gse): could not find function \"colData\"\n",
     "output_type": "error",
     "traceback": [
      "Error in colData(gse): could not find function \"colData\"\nTraceback:\n"
     ]
    }
   ],
   "source": [
    "coldata <- colData(gse)"
   ]
  },
  {
   "cell_type": "code",
   "execution_count": 35,
   "id": "laden-midwest",
   "metadata": {},
   "outputs": [
    {
     "ename": "ERROR",
     "evalue": "Error in DESeqDataSetFromMatrix(countData = countdata, colData = coldata, : could not find function \"DESeqDataSetFromMatrix\"\n",
     "output_type": "error",
     "traceback": [
      "Error in DESeqDataSetFromMatrix(countData = countdata, colData = coldata, : could not find function \"DESeqDataSetFromMatrix\"\nTraceback:\n"
     ]
    }
   ],
   "source": [
    "ddsMat <- DESeqDataSetFromMatrix(countData = countdata,\n",
    "                                 colData = coldata,\n",
    "                                 design = ~ cell + dex)"
   ]
  },
  {
   "cell_type": "markdown",
   "id": "loved-siemens",
   "metadata": {},
   "source": [
    "### Exploratory analysis and visualization\n",
    "\n",
    "#### Some filtering\n"
   ]
  },
  {
   "cell_type": "code",
   "execution_count": 36,
   "id": "bacterial-frontier",
   "metadata": {},
   "outputs": [
    {
     "ename": "ERROR",
     "evalue": "Error in nrow(dds): object 'dds' not found\n",
     "output_type": "error",
     "traceback": [
      "Error in nrow(dds): object 'dds' not found\nTraceback:\n",
      "1. nrow(dds)"
     ]
    }
   ],
   "source": [
    "nrow(dds)"
   ]
  },
  {
   "cell_type": "markdown",
   "id": "racial-angle",
   "metadata": {},
   "source": [
    "Keeping rows with more than 1 read (you could change this to )"
   ]
  },
  {
   "cell_type": "code",
   "execution_count": 37,
   "id": "sacred-alpha",
   "metadata": {},
   "outputs": [
    {
     "ename": "ERROR",
     "evalue": "Error in counts(dds): could not find function \"counts\"\n",
     "output_type": "error",
     "traceback": [
      "Error in counts(dds): could not find function \"counts\"\nTraceback:\n",
      "1. rowSums(counts(dds))",
      "2. is.data.frame(x)"
     ]
    }
   ],
   "source": [
    "keep <- rowSums(counts(dds)) > 1\n",
    "dds <- dds[keep,]\n",
    "nrow(dds)"
   ]
  },
  {
   "cell_type": "markdown",
   "id": "level-button",
   "metadata": {},
   "source": [
    "One could change this filtering to at least 3 samples have a count of 10 or higher\n",
    "\n",
    "\n",
    "*****\n",
    "[back to the top](#top)"
   ]
  },
  {
   "cell_type": "markdown",
   "id": "fewer-commerce",
   "metadata": {},
   "source": [
    "<a href id=\"#rlog\"></a>\n",
    "\n",
    "## The variance stabilizing transformation and the rlog\n",
    "\n",
    "For RNA-seq counts, however, the expected variance grows with the mean (heteroskedasticity). For example, if one performs PCA directly on a matrix of counts or normalized counts (e.g. correcting for differences in sequencing depth), the resulting plot typically depends mostly on the genes with highest counts because they show the largest absolute differences between samples. A simple and often used strategy to avoid this is to take the logarithm of the normalized count values plus a pseudocount of 1; however, depending on the choice of pseudocount, now the genes with the very lowest counts will contribute a great deal of noise to the resulting plot, because taking the logarithm of small counts actually inflates their variance. We can quickly show this property of counts with some simulated data (here, Poisson counts with a range of lambda from 0.1 to 100). We plot the standard deviation of each row (genes) against the mean:"
   ]
  },
  {
   "cell_type": "code",
   "execution_count": 38,
   "id": "amber-montgomery",
   "metadata": {},
   "outputs": [
    {
     "ename": "ERROR",
     "evalue": "Error in library(\"vsn\"): there is no package called 'vsn'\n",
     "output_type": "error",
     "traceback": [
      "Error in library(\"vsn\"): there is no package called 'vsn'\nTraceback:\n",
      "1. library(\"vsn\")"
     ]
    }
   ],
   "source": [
    "lambda <- 10^seq(from = -1, to = 2, length = 1000)\n",
    "cts <- matrix(rpois(1000*100, lambda), ncol = 100)\n",
    "library(\"vsn\")\n",
    "meanSdPlot(cts, ranks = FALSE)"
   ]
  },
  {
   "cell_type": "code",
   "execution_count": 39,
   "id": "negative-greensboro",
   "metadata": {},
   "outputs": [
    {
     "ename": "ERROR",
     "evalue": "Error in meanSdPlot(log.cts.one, ranks = FALSE): could not find function \"meanSdPlot\"\n",
     "output_type": "error",
     "traceback": [
      "Error in meanSdPlot(log.cts.one, ranks = FALSE): could not find function \"meanSdPlot\"\nTraceback:\n"
     ]
    }
   ],
   "source": [
    "log.cts.one <- log2(cts + 1)\n",
    "meanSdPlot(log.cts.one, ranks = FALSE)"
   ]
  },
  {
   "cell_type": "markdown",
   "id": "dried-onion",
   "metadata": {},
   "source": [
    "The logarithm with a small pseudocount amplifies differences when the values are close to 0. The low count genes with low signal-to-noise ratio will overly contribute to sample-sample distances and PCA plots.\n",
    "\n",
    "As a solution, DESeq2 offers two transformations for count data that stabilize the variance across the mean: the variance stabilizing transformation (VST) for negative binomial data with a dispersion-mean trend (Anders and Huber 2010), implemented in the vst function, and the regularized-logarithm transformation or rlog (Love, Huber, and Anders 2014).\n",
    "\n",
    "For genes with high counts, both the VST and the rlog will give similar result to the ordinary log2 transformation of normalized counts. For genes with lower counts, however, the values are shrunken towards a middle value. The VST or rlog-transformed data then become approximately homoskedastic (more flat trend in the meanSdPlot), and can be used directly for computing distances between samples, making PCA plots, or as input to downstream methods which perform best with homoskedastic data. <em>Which transformation to choose?</em> The VST is much faster to compute and is less sensitive to high count outliers than the rlog. The rlog tends to work well on small datasets (n < 30), potentially outperforming the VST when there is a wide range of sequencing depth across samples (an order of magnitude difference). We therefore recommend the VST for medium-to-large datasets (n > 30). You can perform both transformations and compare the meanSdPlot or PCA plots generated, as described below.\n",
    "\n"
   ]
  },
  {
   "cell_type": "code",
   "execution_count": 40,
   "id": "refined-airfare",
   "metadata": {},
   "outputs": [
    {
     "ename": "ERROR",
     "evalue": "Error in vst(dds, blind = FALSE): could not find function \"vst\"\n",
     "output_type": "error",
     "traceback": [
      "Error in vst(dds, blind = FALSE): could not find function \"vst\"\nTraceback:\n"
     ]
    }
   ],
   "source": [
    "vsd <- vst(dds, blind = FALSE)"
   ]
  },
  {
   "cell_type": "code",
   "execution_count": 41,
   "id": "included-crest",
   "metadata": {},
   "outputs": [
    {
     "ename": "ERROR",
     "evalue": "Error in assay(vsd): could not find function \"assay\"\n",
     "output_type": "error",
     "traceback": [
      "Error in assay(vsd): could not find function \"assay\"\nTraceback:\n",
      "1. head(assay(vsd), 3)"
     ]
    }
   ],
   "source": [
    "head(assay(vsd), 3)"
   ]
  },
  {
   "cell_type": "code",
   "execution_count": 42,
   "id": "honey-cornell",
   "metadata": {},
   "outputs": [
    {
     "ename": "ERROR",
     "evalue": "Error in rlog(dds, blind = FALSE): could not find function \"rlog\"\n",
     "output_type": "error",
     "traceback": [
      "Error in rlog(dds, blind = FALSE): could not find function \"rlog\"\nTraceback:\n"
     ]
    }
   ],
   "source": [
    "rld <- rlog(dds, blind = FALSE)"
   ]
  },
  {
   "cell_type": "code",
   "execution_count": 43,
   "id": "educated-bennett",
   "metadata": {},
   "outputs": [
    {
     "ename": "ERROR",
     "evalue": "Error in assay(rld): could not find function \"assay\"\n",
     "output_type": "error",
     "traceback": [
      "Error in assay(rld): could not find function \"assay\"\nTraceback:\n",
      "1. head(assay(rld), 3)"
     ]
    }
   ],
   "source": [
    "head(assay(rld), 3)"
   ]
  },
  {
   "cell_type": "markdown",
   "id": "alien-event",
   "metadata": {},
   "source": [
    "In the above function calls, we specified blind = FALSE, which means that differences between cell lines and treatment (the variables in the design) will not contribute to the expected variance-mean trend of the experiment. The experimental design is not used directly in the transformation, only in estimating the global amount of variability in the counts. For a fully unsupervised transformation, one can set blind = TRUE (which is the default).\n",
    "\n",
    "To show the effect of the transformation, in the figure below we plot the first sample against the second, first simply using the log2 function (after adding 1, to avoid taking the log of zero), and then using the VST and rlog-transformed values. For the log2 approach, we need to first estimate size factors to account for sequencing depth, and then specify normalized=TRUE. Sequencing depth correction is done automatically for the vst and rlog."
   ]
  },
  {
   "cell_type": "code",
   "execution_count": 44,
   "id": "friendly-dancing",
   "metadata": {},
   "outputs": [
    {
     "name": "stderr",
     "output_type": "stream",
     "text": [
      "\n",
      "Attaching package: 'dplyr'\n",
      "\n",
      "The following objects are masked from 'package:stats':\n",
      "\n",
      "    filter, lag\n",
      "\n",
      "The following objects are masked from 'package:base':\n",
      "\n",
      "    intersect, setdiff, setequal, union\n",
      "\n",
      "Registered S3 methods overwritten by 'ggplot2':\n",
      "  method         from \n",
      "  [.quosures     rlang\n",
      "  c.quosures     rlang\n",
      "  print.quosures rlang\n"
     ]
    }
   ],
   "source": [
    "library(\"dplyr\")\n",
    "library(\"ggplot2\")"
   ]
  },
  {
   "cell_type": "code",
   "execution_count": 45,
   "id": "civil-female",
   "metadata": {},
   "outputs": [
    {
     "ename": "ERROR",
     "evalue": "Error in estimateSizeFactors(dds): could not find function \"estimateSizeFactors\"\n",
     "output_type": "error",
     "traceback": [
      "Error in estimateSizeFactors(dds): could not find function \"estimateSizeFactors\"\nTraceback:\n"
     ]
    }
   ],
   "source": [
    "dds <- estimateSizeFactors(dds)"
   ]
  },
  {
   "cell_type": "code",
   "execution_count": null,
   "id": "aggregate-shanghai",
   "metadata": {},
   "outputs": [],
   "source": [
    "df <- bind_rows(\n",
    "  as_data_frame(log2(counts(dds, normalized=TRUE)[, 1:2]+1)) %>%\n",
    "         mutate(transformation = \"log2(x + 1)\"),\n",
    "  as_data_frame(assay(vsd)[, 1:2]) %>% mutate(transformation = \"vst\"),\n",
    "  as_data_frame(assay(rld)[, 1:2]) %>% mutate(transformation = \"rlog\"))\n",
    "  \n",
    "colnames(df)[1:2] <- c(\"x\", \"y\")  \n",
    "\n",
    "lvls <- c(\"log2(x + 1)\", \"vst\", \"rlog\")\n",
    "df$transformation <- factor(df$transformation, levels=lvls)\n",
    "\n",
    "ggplot(df, aes(x = x, y = y)) + geom_hex(bins = 80) +\n",
    "  coord_fixed() + facet_grid( . ~ transformation)  "
   ]
  },
  {
   "cell_type": "markdown",
   "id": "offensive-image",
   "metadata": {},
   "source": [
    "Scatterplot of transformed counts from two samples. Shown are scatterplots using the log2 transform of normalized counts (left), using the VST (middle), and using the rlog (right). While the rlog is on roughly the same scale as the log2 counts, the VST has a upward shift for the smaller values. It is the differences between samples (deviation from y=x in these scatterplots) which will contribute to the distance calculations and the PCA plot.\n",
    "\n",
    "We can see how genes with low counts (bottom left-hand corner) seem to be excessively variable on the ordinary logarithmic scale, while the VST and rlog compress differences for the low count genes for which the data provide little information about differential expression.\n",
    "\n",
    "\n",
    "\n",
    "\n",
    "*****\n",
    "[back to the top](#top)\n"
   ]
  },
  {
   "cell_type": "markdown",
   "id": "greatest-classic",
   "metadata": {},
   "source": [
    "## Sample distances\n",
    "\n",
    "\n",
    "A useful first step in an RNA-seq analysis is often to assess overall similarity between samples: Which samples are similar to each other, which are different? Does this fit to the expectation from the experiment’s design?\n",
    "\n",
    "We use the R function dist to calculate the Euclidean distance between samples. To ensure we have a roughly equal contribution from all genes, we use it on the VST data. We need to transpose the matrix of values using t, because the dist function expects the different samples to be rows of its argument, and different dimensions (here, genes) to be columns.\n",
    "\n"
   ]
  },
  {
   "cell_type": "code",
   "execution_count": 46,
   "id": "treated-complaint",
   "metadata": {},
   "outputs": [
    {
     "ename": "ERROR",
     "evalue": "Error in assay(vsd): could not find function \"assay\"\n",
     "output_type": "error",
     "traceback": [
      "Error in assay(vsd): could not find function \"assay\"\nTraceback:\n",
      "1. dist(t(assay(vsd)))",
      "2. as.matrix(x)",
      "3. t(assay(vsd))"
     ]
    }
   ],
   "source": [
    "sampleDists <- dist(t(assay(vsd)))\n",
    "sampleDists"
   ]
  },
  {
   "cell_type": "code",
   "execution_count": 47,
   "id": "challenging-reviewer",
   "metadata": {},
   "outputs": [
    {
     "ename": "ERROR",
     "evalue": "Error in library(\"pheatmap\"): there is no package called 'pheatmap'\n",
     "output_type": "error",
     "traceback": [
      "Error in library(\"pheatmap\"): there is no package called 'pheatmap'\nTraceback:\n",
      "1. library(\"pheatmap\")"
     ]
    }
   ],
   "source": [
    "library(\"pheatmap\")\n",
    "library(\"RColorBrewer\")"
   ]
  },
  {
   "cell_type": "code",
   "execution_count": 48,
   "id": "fleet-flavor",
   "metadata": {},
   "outputs": [
    {
     "ename": "ERROR",
     "evalue": "Error in as.matrix(sampleDists): object 'sampleDists' not found\n",
     "output_type": "error",
     "traceback": [
      "Error in as.matrix(sampleDists): object 'sampleDists' not found\nTraceback:\n",
      "1. as.matrix(sampleDists)"
     ]
    }
   ],
   "source": [
    "sampleDistMatrix <- as.matrix( sampleDists )\n",
    "rownames(sampleDistMatrix) <- paste( vsd$dex, vsd$cell, sep = \" - \" )\n",
    "colnames(sampleDistMatrix) <- NULL\n",
    "colors <- colorRampPalette( rev(brewer.pal(9, \"Blues\")) )(255)\n",
    "pheatmap(sampleDistMatrix,\n",
    "         clustering_distance_rows = sampleDists,\n",
    "         clustering_distance_cols = sampleDists,\n",
    "         col = colors)"
   ]
  },
  {
   "cell_type": "markdown",
   "id": "amber-knitting",
   "metadata": {},
   "source": [
    "### PCA plot\n",
    "\n",
    "Another way to visualize sample-to-sample distances is a principal components analysis (PCA). In this ordination method, the data points (here, the samples) are projected onto the 2D plane such that they spread out in the two directions that explain most of the differences (figure below). The x-axis is the direction that separates the data points the most. The values of the samples in this direction are written PC1. The y-axis is a direction (it must be orthogonal to the first direction) that separates the data the second most. The values of the samples in this direction are written PC2. The percent of the total variance that is contained in the direction is printed in the axis label. Note that these percentages do not add to 100%, because there are more dimensions that contain the remaining variance (although each of these remaining dimensions will explain less than the two that we see)."
   ]
  },
  {
   "cell_type": "code",
   "execution_count": 49,
   "id": "binding-consortium",
   "metadata": {},
   "outputs": [
    {
     "ename": "ERROR",
     "evalue": "Error in plotPCA(vsd, intgroup = c(\"dex\", \"cell\"), returnData = TRUE): could not find function \"plotPCA\"\n",
     "output_type": "error",
     "traceback": [
      "Error in plotPCA(vsd, intgroup = c(\"dex\", \"cell\"), returnData = TRUE): could not find function \"plotPCA\"\nTraceback:\n"
     ]
    }
   ],
   "source": [
    "# you can actually get the data\n",
    "pcaData <- plotPCA(vsd, intgroup = c( \"dex\", \"cell\"), returnData = TRUE)\n",
    "#pcaData"
   ]
  },
  {
   "cell_type": "code",
   "execution_count": 50,
   "id": "numeric-support",
   "metadata": {},
   "outputs": [
    {
     "ename": "ERROR",
     "evalue": "Error in eval(expr, envir, enclos): object 'pcaData' not found\n",
     "output_type": "error",
     "traceback": [
      "Error in eval(expr, envir, enclos): object 'pcaData' not found\nTraceback:\n"
     ]
    }
   ],
   "source": [
    "percentVar <- round(100 * attr(pcaData, \"percentVar\"))"
   ]
  },
  {
   "cell_type": "code",
   "execution_count": 51,
   "id": "comfortable-devil",
   "metadata": {},
   "outputs": [
    {
     "ename": "ERROR",
     "evalue": "Error in ggplot(pcaData, aes(x = PC1, y = PC2, color = dex, shape = cell)): object 'pcaData' not found\n",
     "output_type": "error",
     "traceback": [
      "Error in ggplot(pcaData, aes(x = PC1, y = PC2, color = dex, shape = cell)): object 'pcaData' not found\nTraceback:\n",
      "1. ggplot(pcaData, aes(x = PC1, y = PC2, color = dex, shape = cell))"
     ]
    }
   ],
   "source": [
    "ggplot(pcaData, aes(x = PC1, y = PC2, color = dex, shape = cell)) +\n",
    "  geom_point(size =3) +\n",
    "  xlab(paste0(\"PC1: \", percentVar[1], \"% variance\")) +\n",
    "  ylab(paste0(\"PC2: \", percentVar[2], \"% variance\")) +\n",
    "  coord_fixed() +\n",
    "  ggtitle(\"PCA with VST data\")"
   ]
  },
  {
   "cell_type": "markdown",
   "id": "exceptional-avenue",
   "metadata": {},
   "source": [
    "### MDS plot\n",
    "\n",
    "Another plot, very similar to the PCA plot, can be made using the multidimensional scaling (MDS) function in base R. This is useful when we don’t have a matrix of data, but only a matrix of distances. Here we compute the MDS for the distances calculated from the VST data and plot these in a figure below."
   ]
  },
  {
   "cell_type": "code",
   "execution_count": 52,
   "id": "following-literacy",
   "metadata": {},
   "outputs": [
    {
     "ename": "ERROR",
     "evalue": "Error in colData(vsd): could not find function \"colData\"\n",
     "output_type": "error",
     "traceback": [
      "Error in colData(vsd): could not find function \"colData\"\nTraceback:\n",
      "1. as.data.frame(colData(vsd)) %>% cbind(cmdscale(sampleDistMatrix))",
      "2. eval(lhs, parent, parent)",
      "3. eval(lhs, parent, parent)",
      "4. as.data.frame(colData(vsd))"
     ]
    }
   ],
   "source": [
    "mds <- as.data.frame(colData(vsd))  %>%\n",
    "         cbind(cmdscale(sampleDistMatrix))\n",
    "ggplot(mds, aes(x = `1`, y = `2`, color = dex, shape = cell)) +\n",
    "  geom_point(size = 3) + coord_fixed() + ggtitle(\"MDS with VST data\")"
   ]
  },
  {
   "cell_type": "markdown",
   "id": "gentle-medicine",
   "metadata": {},
   "source": [
    "\n",
    "\n",
    "\n",
    "*****\n",
    "[back to the top](#top)"
   ]
  },
  {
   "cell_type": "markdown",
   "id": "cloudy-latvia",
   "metadata": {},
   "source": [
    "<a href id=\"#dea\"></a>\n",
    "\n",
    "## Differential expression analysis\n",
    "\n",
    "As we have already specified an experimental design when we created the DESeqDataSet, we can run the differential expression pipeline on the raw counts with a single call to the function DESeq:"
   ]
  },
  {
   "cell_type": "code",
   "execution_count": 53,
   "id": "graduate-wilson",
   "metadata": {},
   "outputs": [
    {
     "ename": "ERROR",
     "evalue": "Error in DESeq(dds): could not find function \"DESeq\"\n",
     "output_type": "error",
     "traceback": [
      "Error in DESeq(dds): could not find function \"DESeq\"\nTraceback:\n"
     ]
    }
   ],
   "source": [
    "dds <- DESeq(dds)"
   ]
  },
  {
   "cell_type": "markdown",
   "id": "opposite-township",
   "metadata": {},
   "source": [
    "A DESeqDataSet is returned that contains all the fitted parameters within it, and the following section describes how to extract out results tables of interest from this object.\n",
    "\n",
    "Calling results without any arguments will extract the estimated log2 fold changes and p values for the last variable in the design formula. If there are more than 2 levels for this variable, results will extract the results table for a comparison of the last level over the first level. The comparison is printed at the top of the output: dex trt vs untrt.\n",
    "\n"
   ]
  },
  {
   "cell_type": "code",
   "execution_count": 54,
   "id": "shaped-coverage",
   "metadata": {},
   "outputs": [
    {
     "ename": "ERROR",
     "evalue": "Error in results(dds): could not find function \"results\"\n",
     "output_type": "error",
     "traceback": [
      "Error in results(dds): could not find function \"results\"\nTraceback:\n"
     ]
    }
   ],
   "source": [
    "res <- results(dds)\n",
    "res"
   ]
  },
  {
   "cell_type": "markdown",
   "id": "instant-ozone",
   "metadata": {},
   "source": [
    "We could have equivalently produced this results table with the following more specific command. Because dex is the last variable in the design, we could optionally leave off the contrast argument to extract the comparison of the two levels of dex."
   ]
  },
  {
   "cell_type": "code",
   "execution_count": 55,
   "id": "southeast-puppy",
   "metadata": {},
   "outputs": [
    {
     "ename": "ERROR",
     "evalue": "Error in results(dds, contrast = c(\"dex\", \"trt\", \"untrt\")): could not find function \"results\"\n",
     "output_type": "error",
     "traceback": [
      "Error in results(dds, contrast = c(\"dex\", \"trt\", \"untrt\")): could not find function \"results\"\nTraceback:\n"
     ]
    }
   ],
   "source": [
    "res <- results(dds, contrast=c(\"dex\",\"trt\",\"untrt\"))"
   ]
  },
  {
   "cell_type": "code",
   "execution_count": 56,
   "id": "arabic-timothy",
   "metadata": {},
   "outputs": [
    {
     "ename": "ERROR",
     "evalue": "Error in mcols(res, use.names = TRUE): could not find function \"mcols\"\n",
     "output_type": "error",
     "traceback": [
      "Error in mcols(res, use.names = TRUE): could not find function \"mcols\"\nTraceback:\n"
     ]
    }
   ],
   "source": [
    "mcols(res, use.names = TRUE)"
   ]
  },
  {
   "cell_type": "markdown",
   "id": "seven-enlargement",
   "metadata": {},
   "source": [
    "The first column, baseMean, is a just the average of the normalized count values, divided by the size factors, taken over all samples in the DESeqDataSet. The remaining four columns refer to a specific contrast, namely the comparison of the trt level over the untrt level for the factor variable dex. We will find out below how to obtain other contrasts.\n",
    "\n",
    "The column log2FoldChange is the effect size estimate. It tells us how much the gene’s expression seems to have changed due to treatment with dexamethasone in comparison to untreated samples. This value is reported on a logarithmic scale to base 2: for example, a log2 fold change of 1.5 means that the gene’s expression is increased by a multiplicative factor of 21.5≈2.82 .\n",
    "\n",
    "Of course, this estimate has an uncertainty associated with it, which is available in the column lfcSE, the standard error estimate for the log2 fold change estimate. We can also express the uncertainty of a particular effect size estimate as the result of a statistical test. The purpose of a test for differential expression is to test whether the data provides sufficient evidence to conclude that this value is really different from zero. DESeq2 performs for each gene a hypothesis test to see whether evidence is sufficient to decide against the null hypothesis that there is zero effect of the treatment on the gene and that the observed difference between treatment and control was merely caused by experimental variability (i.e., the type of variability that you can expect between different samples in the same treatment group). As usual in statistics, the result of this test is reported as a p value, and it is found in the column pvalue. Remember that a p value indicates the probability that a fold change as strong as the observed one, or even stronger, would be seen under the situation described by the null hypothesis.\n",
    "\n",
    "We can also summarize the results with the following line of code, which reports some additional information, that will be covered in later sections."
   ]
  },
  {
   "cell_type": "code",
   "execution_count": 57,
   "id": "received-installation",
   "metadata": {},
   "outputs": [
    {
     "ename": "ERROR",
     "evalue": "Error in summary(res): object 'res' not found\n",
     "output_type": "error",
     "traceback": [
      "Error in summary(res): object 'res' not found\nTraceback:\n",
      "1. summary(res)"
     ]
    }
   ],
   "source": [
    "summary(res)"
   ]
  },
  {
   "cell_type": "code",
   "execution_count": 58,
   "id": "knowing-pipeline",
   "metadata": {},
   "outputs": [
    {
     "ename": "ERROR",
     "evalue": "Error in results(dds, alpha = 0.05): could not find function \"results\"\n",
     "output_type": "error",
     "traceback": [
      "Error in results(dds, alpha = 0.05): could not find function \"results\"\nTraceback:\n"
     ]
    }
   ],
   "source": [
    "res.05 <- results(dds, alpha = 0.05)\n",
    "table(res.05$padj < 0.05)\n"
   ]
  },
  {
   "cell_type": "markdown",
   "id": "accessible-trailer",
   "metadata": {},
   "source": [
    "Other comparisons"
   ]
  },
  {
   "cell_type": "code",
   "execution_count": 59,
   "id": "olympic-improvement",
   "metadata": {},
   "outputs": [
    {
     "ename": "ERROR",
     "evalue": "Error in results(dds, contrast = c(\"cell\", \"N061011\", \"N61311\")): could not find function \"results\"\n",
     "output_type": "error",
     "traceback": [
      "Error in results(dds, contrast = c(\"cell\", \"N061011\", \"N61311\")): could not find function \"results\"\nTraceback:\n"
     ]
    }
   ],
   "source": [
    "results(dds, contrast = c(\"cell\", \"N061011\", \"N61311\"))"
   ]
  },
  {
   "cell_type": "markdown",
   "id": "utility-clear",
   "metadata": {},
   "source": [
    "#Multiple testing In high-throughput biology, we are careful to not use the p values directly as evidence against the null, but to correct for multiple testing. What would happen if we were to simply threshold the p values at a low value, say 0.05? There are 5170 genes with a p value below 0.05 among the 31604 genes for which the test succeeded in reporting a p value:"
   ]
  },
  {
   "cell_type": "code",
   "execution_count": 60,
   "id": "enormous-forest",
   "metadata": {},
   "outputs": [
    {
     "ename": "ERROR",
     "evalue": "Error in eval(expr, envir, enclos): object 'res' not found\n",
     "output_type": "error",
     "traceback": [
      "Error in eval(expr, envir, enclos): object 'res' not found\nTraceback:\n"
     ]
    }
   ],
   "source": [
    "sum(res$pvalue < 0.05, na.rm=TRUE)"
   ]
  },
  {
   "cell_type": "code",
   "execution_count": 61,
   "id": "coated-ethnic",
   "metadata": {},
   "outputs": [
    {
     "ename": "ERROR",
     "evalue": "Error in eval(expr, envir, enclos): object 'res' not found\n",
     "output_type": "error",
     "traceback": [
      "Error in eval(expr, envir, enclos): object 'res' not found\nTraceback:\n"
     ]
    }
   ],
   "source": [
    "sum(!is.na(res$pvalue))"
   ]
  },
  {
   "cell_type": "markdown",
   "id": "guided-blackjack",
   "metadata": {},
   "source": [
    "Now, assume for a moment that the null hypothesis is true for all genes, i.e., no gene is affected by the treatment with dexamethasone. Then, by the definition of the p value, we expect up to 5% of the genes to have a p value below 0.05. This amounts to 1580 genes. If we just considered the list of genes with a p value below 0.05 as differentially expressed, this list should therefore be expected to contain up to 1580 / 5170 = 31% false positives.\n",
    "\n",
    "DESeq2 uses the Benjamini-Hochberg (BH) adjustment (Benjamini and Hochberg 1995) as implemented in the base R p.adjust function; in brief, this method calculates for each gene an adjusted p value that answers the following question: if one called significant all genes with an adjusted p value less than or equal to this gene’s adjusted p value threshold, what would be the fraction of false positives (the false discovery rate, FDR) among them, in the sense of the calculation outlined above? These values, called the BH-adjusted p values, are given in the column padj of the res object.\n",
    "\n",
    "The FDR is a useful statistic for many high-throughput experiments, as we are often interested in reporting or focusing on a set of interesting genes, and we would like to put an upper bound on the percent of false positives in this set.\n",
    "\n",
    "Hence, if we consider a fraction of 10% false positives acceptable, we can consider all genes with an adjusted p value below 10% = 0.1 as significant. How many such genes are there?\n",
    "\n"
   ]
  },
  {
   "cell_type": "code",
   "execution_count": 62,
   "id": "curious-horizontal",
   "metadata": {},
   "outputs": [
    {
     "ename": "ERROR",
     "evalue": "Error in eval(expr, envir, enclos): object 'res' not found\n",
     "output_type": "error",
     "traceback": [
      "Error in eval(expr, envir, enclos): object 'res' not found\nTraceback:\n"
     ]
    }
   ],
   "source": [
    "sum(res$padj < 0.1, na.rm=TRUE)"
   ]
  },
  {
   "cell_type": "markdown",
   "id": "talented-happening",
   "metadata": {},
   "source": [
    "We subset the results table to these genes and then sort it by the log2 fold change estimate to get the significant genes with the strongest down-regulation:"
   ]
  },
  {
   "cell_type": "code",
   "execution_count": 63,
   "id": "brutal-french",
   "metadata": {},
   "outputs": [
    {
     "ename": "ERROR",
     "evalue": "Error in subset(res, padj < 0.1): object 'res' not found\n",
     "output_type": "error",
     "traceback": [
      "Error in subset(res, padj < 0.1): object 'res' not found\nTraceback:\n",
      "1. subset(res, padj < 0.1)"
     ]
    }
   ],
   "source": [
    "resSig <- subset(res, padj < 0.1)\n",
    "head(resSig[ order(resSig$log2FoldChange), ])"
   ]
  },
  {
   "cell_type": "markdown",
   "id": "molecular-timothy",
   "metadata": {},
   "source": [
    "\n",
    "\n",
    "*****\n",
    "[back to the top](#top)"
   ]
  },
  {
   "cell_type": "markdown",
   "id": "fallen-abuse",
   "metadata": {},
   "source": [
    "<a href id=\"#plotting\"></a>\n",
    "\n",
    "## Plotting results\n",
    "\n",
    "\n",
    "Counts plot"
   ]
  },
  {
   "cell_type": "code",
   "execution_count": 64,
   "id": "designed-fraud",
   "metadata": {},
   "outputs": [
    {
     "ename": "ERROR",
     "evalue": "Error in rownames(res): object 'res' not found\n",
     "output_type": "error",
     "traceback": [
      "Error in rownames(res): object 'res' not found\nTraceback:\n",
      "1. rownames(res)"
     ]
    }
   ],
   "source": [
    "topGene <- rownames(res)[which.min(res$padj)]\n",
    "plotCounts(dds, gene = topGene, intgroup=c(\"dex\"))"
   ]
  },
  {
   "cell_type": "markdown",
   "id": "foreign-polish",
   "metadata": {},
   "source": [
    "Normalized counts for a single gene over treatment group."
   ]
  },
  {
   "cell_type": "code",
   "execution_count": 65,
   "id": "speaking-manhattan",
   "metadata": {},
   "outputs": [
    {
     "ename": "ERROR",
     "evalue": "Error in library(\"ggbeeswarm\"): there is no package called 'ggbeeswarm'\n",
     "output_type": "error",
     "traceback": [
      "Error in library(\"ggbeeswarm\"): there is no package called 'ggbeeswarm'\nTraceback:\n",
      "1. library(\"ggbeeswarm\")"
     ]
    }
   ],
   "source": [
    "library(\"ggbeeswarm\")\n",
    "geneCounts <- plotCounts(dds, gene = topGene, intgroup = c(\"dex\",\"cell\"),\n",
    "                         returnData = TRUE)\n",
    "ggplot(geneCounts, aes(x = dex, y = count, color = cell)) +\n",
    "  scale_y_log10() +  geom_beeswarm(cex = 3)"
   ]
  },
  {
   "cell_type": "code",
   "execution_count": 66,
   "id": "contemporary-final",
   "metadata": {},
   "outputs": [
    {
     "ename": "ERROR",
     "evalue": "Error in ggplot(geneCounts, aes(x = dex, y = count, color = cell, group = cell)): object 'geneCounts' not found\n",
     "output_type": "error",
     "traceback": [
      "Error in ggplot(geneCounts, aes(x = dex, y = count, color = cell, group = cell)): object 'geneCounts' not found\nTraceback:\n",
      "1. ggplot(geneCounts, aes(x = dex, y = count, color = cell, group = cell))"
     ]
    }
   ],
   "source": [
    "ggplot(geneCounts, aes(x = dex, y = count, color = cell, group = cell)) +\n",
    "  scale_y_log10() + geom_point(size = 3) + geom_line()"
   ]
  },
  {
   "cell_type": "markdown",
   "id": "considerable-complaint",
   "metadata": {},
   "source": [
    "### MA plot\n",
    "\n",
    "An MA-plot (Dudoit et al. 2002) provides a useful overview for the distribution of the estimated coefficients in the model, e.g. the comparisons of interest, across all genes. On the y-axis, the “M” stands for “minus” – subtraction of log values is equivalent to the log of the ratio – and on the x-axis, the “A” stands for “average”. You may hear this plot also referred to as a mean-difference plot, or a Bland-Altman plot.\n",
    "\n",
    "Before making the MA-plot, we use the lfcShrink function to shrink the log2 fold changes for the comparison of dex treated vs untreated samples. There are three types of shrinkage estimators in DESeq2, which are covered in the DESeq2 vignette. Here we specify the apeglm method for shrinking coefficients, which is good for shrinking the noisy LFC estimates while giving low bias LFC estimates for true large differences (Zhu, Ibrahim, and Love 2018). To use apeglm we specify a coefficient from the model to shrink, either by name or number as the coefficient appears in resultsNames(dds).\n",
    "\n"
   ]
  },
  {
   "cell_type": "code",
   "execution_count": 67,
   "id": "southern-carol",
   "metadata": {},
   "outputs": [
    {
     "ename": "ERROR",
     "evalue": "Error in library(\"apeglm\"): there is no package called 'apeglm'\n",
     "output_type": "error",
     "traceback": [
      "Error in library(\"apeglm\"): there is no package called 'apeglm'\nTraceback:\n",
      "1. library(\"apeglm\")"
     ]
    }
   ],
   "source": [
    "library(\"apeglm\")\n",
    "resultsNames(dds)"
   ]
  },
  {
   "cell_type": "code",
   "execution_count": 68,
   "id": "boxed-oklahoma",
   "metadata": {},
   "outputs": [
    {
     "ename": "ERROR",
     "evalue": "Error in lfcShrink(dds, coef = \"dex_trt_vs_untrt\", type = \"apeglm\"): could not find function \"lfcShrink\"\n",
     "output_type": "error",
     "traceback": [
      "Error in lfcShrink(dds, coef = \"dex_trt_vs_untrt\", type = \"apeglm\"): could not find function \"lfcShrink\"\nTraceback:\n"
     ]
    }
   ],
   "source": [
    "res <- lfcShrink(dds, coef=\"dex_trt_vs_untrt\", type=\"apeglm\")"
   ]
  },
  {
   "cell_type": "code",
   "execution_count": 69,
   "id": "honey-folder",
   "metadata": {},
   "outputs": [
    {
     "ename": "ERROR",
     "evalue": "Error in plotMA(res, ylim = c(-5, 5)): could not find function \"plotMA\"\n",
     "output_type": "error",
     "traceback": [
      "Error in plotMA(res, ylim = c(-5, 5)): could not find function \"plotMA\"\nTraceback:\n"
     ]
    }
   ],
   "source": [
    "plotMA(res, ylim = c(-5, 5))"
   ]
  },
  {
   "cell_type": "markdown",
   "id": "vital-allah",
   "metadata": {},
   "source": [
    "An MA-plot of changes induced by treatment. The log2 fold change for a particular comparison is plotted on the y-axis and the average of the counts normalized by size factor is shown on the x-axis. Each gene is represented with a dot. Genes with an adjusted p value below a threshold (here 0.1, the default) are shown in red.\n",
    "\n",
    "The DESeq2 package uses a Bayesian procedure to moderate (or “shrink”) log2 fold changes from genes with very low counts and highly variable counts, as can be seen by the narrowing of the vertical spread of points on the left side of the MA-plot. As shown above, the lfcShrink function performs this operation. For a detailed explanation of the rationale of moderated fold changes, please see the DESeq2 paper (Love, Huber, and Anders 2014).\n",
    "\n",
    "If we had not used statistical moderation to shrink the noisy log2 fold changes, we would have instead seen the following plot:"
   ]
  },
  {
   "cell_type": "code",
   "execution_count": 70,
   "id": "august-plant",
   "metadata": {},
   "outputs": [
    {
     "ename": "ERROR",
     "evalue": "Error in results(dds, name = \"dex_trt_vs_untrt\"): could not find function \"results\"\n",
     "output_type": "error",
     "traceback": [
      "Error in results(dds, name = \"dex_trt_vs_untrt\"): could not find function \"results\"\nTraceback:\n"
     ]
    }
   ],
   "source": [
    "res.noshr <- results(dds, name=\"dex_trt_vs_untrt\")\n",
    "plotMA(res.noshr, ylim = c(-5, 5))"
   ]
  },
  {
   "cell_type": "markdown",
   "id": "distinguished-virginia",
   "metadata": {},
   "source": [
    "We can label individual points on the MA-plot as well. Here we use the with R function to plot a circle and text for a selected row of the results object. Within the with function, only the baseMean and log2FoldChange values for the selected rows of res are used."
   ]
  },
  {
   "cell_type": "code",
   "execution_count": 71,
   "id": "progressive-factory",
   "metadata": {},
   "outputs": [
    {
     "ename": "ERROR",
     "evalue": "Error in plotMA(res, ylim = c(-5, 5)): could not find function \"plotMA\"\n",
     "output_type": "error",
     "traceback": [
      "Error in plotMA(res, ylim = c(-5, 5)): could not find function \"plotMA\"\nTraceback:\n"
     ]
    }
   ],
   "source": [
    "plotMA(res, ylim = c(-5,5))\n",
    "topGene <- rownames(res)[which.min(res$padj)]\n",
    "with(res[topGene, ], {\n",
    "  points(baseMean, log2FoldChange, col=\"dodgerblue\", cex=2, lwd=2)\n",
    "  text(baseMean, log2FoldChange, topGene, pos=2, col=\"dodgerblue\")\n",
    "})"
   ]
  },
  {
   "cell_type": "markdown",
   "id": "touched-yesterday",
   "metadata": {},
   "source": [
    "Another useful diagnostic plot is the histogram of the p values (figure below). This plot is best formed by excluding genes with very small counts, which otherwise generate spikes in the histogram."
   ]
  },
  {
   "cell_type": "code",
   "execution_count": 72,
   "id": "failing-custom",
   "metadata": {},
   "outputs": [
    {
     "ename": "ERROR",
     "evalue": "Error in hist(res$pvalue[res$baseMean > 1], breaks = 0:20/20, col = \"grey50\", : object 'res' not found\n",
     "output_type": "error",
     "traceback": [
      "Error in hist(res$pvalue[res$baseMean > 1], breaks = 0:20/20, col = \"grey50\", : object 'res' not found\nTraceback:\n",
      "1. hist(res$pvalue[res$baseMean > 1], breaks = 0:20/20, col = \"grey50\", \n .     border = \"white\")"
     ]
    }
   ],
   "source": [
    "hist(res$pvalue[res$baseMean > 1], breaks = 0:20/20,\n",
    "     col = \"grey50\", border = \"white\")"
   ]
  },
  {
   "cell_type": "markdown",
   "id": "utility-breathing",
   "metadata": {},
   "source": [
    "\n",
    "*****\n",
    "[back to the top](#top)"
   ]
  },
  {
   "cell_type": "markdown",
   "id": "broken-aaron",
   "metadata": {},
   "source": [
    "\n",
    "<a href id=\"#clustering\"></a>\n",
    "\n",
    "## Gene clustering\n",
    "\n",
    "\n",
    "In the sample distance heatmap made previously, the dendrogram at the side shows us a hierarchical clustering of the samples. Such a clustering can also be performed for the genes. Since the clustering is only relevant for genes that actually carry a signal, one usually would only cluster a subset of the most highly variable genes. Here, for demonstration, let us select the 20 genes with the highest variance across samples. We will work with the VST data."
   ]
  },
  {
   "cell_type": "code",
   "execution_count": 73,
   "id": "unusual-citizen",
   "metadata": {},
   "outputs": [
    {
     "ename": "ERROR",
     "evalue": "Error in library(\"genefilter\"): there is no package called 'genefilter'\n",
     "output_type": "error",
     "traceback": [
      "Error in library(\"genefilter\"): there is no package called 'genefilter'\nTraceback:\n",
      "1. library(\"genefilter\")"
     ]
    }
   ],
   "source": [
    "library(\"genefilter\")"
   ]
  },
  {
   "cell_type": "code",
   "execution_count": 74,
   "id": "supported-parker",
   "metadata": {},
   "outputs": [
    {
     "ename": "ERROR",
     "evalue": "Error in rowVars(assay(vsd)): could not find function \"rowVars\"\n",
     "output_type": "error",
     "traceback": [
      "Error in rowVars(assay(vsd)): could not find function \"rowVars\"\nTraceback:\n",
      "1. head(order(rowVars(assay(vsd)), decreasing = TRUE), 20)",
      "2. order(rowVars(assay(vsd)), decreasing = TRUE)"
     ]
    }
   ],
   "source": [
    "topVarGenes <- head(order(rowVars(assay(vsd)), decreasing = TRUE), 20)"
   ]
  },
  {
   "cell_type": "markdown",
   "id": "republican-scene",
   "metadata": {},
   "source": [
    "The heatmap becomes more interesting if we do not look at absolute expression strength but rather at the amount by which each gene deviates in a specific sample from the gene’s average across all samples. Hence, we center each genes’ values across samples, and plot a heatmap (figure below). We provide a data.frame that instructs the pheatmap function how to label the columns.\n",
    "\n"
   ]
  },
  {
   "cell_type": "code",
   "execution_count": 75,
   "id": "primary-resistance",
   "metadata": {},
   "outputs": [
    {
     "ename": "ERROR",
     "evalue": "Error in assay(vsd): could not find function \"assay\"\n",
     "output_type": "error",
     "traceback": [
      "Error in assay(vsd): could not find function \"assay\"\nTraceback:\n"
     ]
    }
   ],
   "source": [
    "mat  <- assay(vsd)[ topVarGenes, ]\n",
    "mat  <- mat - rowMeans(mat)\n",
    "anno <- as.data.frame(colData(vsd)[, c(\"cell\",\"dex\")])\n",
    "pheatmap(mat, annotation_col = anno)"
   ]
  },
  {
   "cell_type": "markdown",
   "id": "biological-front",
   "metadata": {},
   "source": [
    "\n",
    "\n",
    "*****\n",
    "[back to the top](#top)"
   ]
  },
  {
   "cell_type": "markdown",
   "id": "tight-peter",
   "metadata": {},
   "source": [
    "<a href id=\"#results\"></a>\n",
    "\n",
    "## Annotating and exporting results\n",
    "\n",
    "Our result table so far only contains the Ensembl gene IDs, but alternative gene names may be more informative for interpretation. Bioconductor’s annotation packages help with mapping various ID schemes to each other. We load the AnnotationDbi package and the annotation package org.Hs.eg.db:\n",
    "\n",
    "Further downstream analysis can be performed, e.g. gene and pathway enrichment analysis etc."
   ]
  },
  {
   "cell_type": "markdown",
   "id": "super-anthropology",
   "metadata": {},
   "source": [
    "*****\n",
    "[back to the top](#top)"
   ]
  },
  {
   "cell_type": "markdown",
   "id": "white-circumstances",
   "metadata": {},
   "source": [
    "<a id=\"yourturn\"></a>\n",
    "## Your Turn\n"
   ]
  },
  {
   "cell_type": "markdown",
   "id": "pediatric-composite",
   "metadata": {},
   "source": [
    "<div class=\"alert alert-block alert-info\">\n",
    "    <b>Task 1</b><br/>\n",
    "   <p>Text</p> \n",
    "</div>"
   ]
  },
  {
   "cell_type": "code",
   "execution_count": null,
   "id": "bizarre-writer",
   "metadata": {
    "hide_input": false,
    "solution": "hidden",
    "solution_first": true
   },
   "outputs": [],
   "source": []
  },
  {
   "cell_type": "markdown",
   "id": "prescribed-services",
   "metadata": {},
   "source": [
    "<div class=\"alert alert-block alert-info\">\n",
    "    <b>Task 2</b></br>\n",
    "<p>Text</p>\n",
    "</div>"
   ]
  },
  {
   "cell_type": "code",
   "execution_count": null,
   "id": "south-intake",
   "metadata": {
    "hide_input": false,
    "solution": "hidden",
    "solution_first": true
   },
   "outputs": [],
   "source": []
  },
  {
   "cell_type": "code",
   "execution_count": null,
   "id": "nominated-white",
   "metadata": {},
   "outputs": [],
   "source": []
  },
  {
   "cell_type": "markdown",
   "id": "coral-strain",
   "metadata": {},
   "source": [
    "<div class=\"alert alert-block alert-info\">\n",
    "    <b>Task 3</b> </br>\n",
    "<p>Text</p>"
   ]
  },
  {
   "cell_type": "code",
   "execution_count": null,
   "id": "accomplished-volume",
   "metadata": {},
   "outputs": [],
   "source": []
  },
  {
   "cell_type": "code",
   "execution_count": null,
   "id": "boxed-block",
   "metadata": {},
   "outputs": [],
   "source": []
  },
  {
   "cell_type": "markdown",
   "id": "convinced-consultation",
   "metadata": {},
   "source": [
    "*****\n",
    "[back to the top](#top)"
   ]
  },
  {
   "cell_type": "markdown",
   "id": "vital-capacity",
   "metadata": {},
   "source": [
    "### Notebook details\n",
    "<br>\n",
    "<i>Notebook created by <strong>Mudassar Iqbal</strong>. Other contributors include Fran Hooley... \n",
    "\n",
    "Publish date: July 2021<br>\n",
    "Review date: July 2022</i>\n",
    "\n",
    "Please give your feedback using the button below:"
   ]
  },
  {
   "cell_type": "markdown",
   "id": "basic-compact",
   "metadata": {},
   "source": [
    "****\n",
    "\n",
    "## Your Notes:\n"
   ]
  },
  {
   "cell_type": "code",
   "execution_count": null,
   "id": "informational-tiger",
   "metadata": {},
   "outputs": [],
   "source": []
  },
  {
   "cell_type": "code",
   "execution_count": null,
   "id": "unavailable-backup",
   "metadata": {},
   "outputs": [],
   "source": []
  },
  {
   "cell_type": "code",
   "execution_count": null,
   "id": "cosmetic-store",
   "metadata": {},
   "outputs": [],
   "source": []
  }
 ],
 "metadata": {
  "kernelspec": {
   "display_name": "R",
   "language": "R",
   "name": "ir"
  },
  "language_info": {
   "codemirror_mode": "r",
   "file_extension": ".r",
   "mimetype": "text/x-r-source",
   "name": "R",
   "pygments_lexer": "r",
   "version": "3.6.1"
  }
 },
 "nbformat": 4,
 "nbformat_minor": 5
}

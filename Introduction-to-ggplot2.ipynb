{
 "cells": [
  {
   "cell_type": "markdown",
   "id": "particular-audio",
   "metadata": {},
   "source": [
    "<img src=\"images/banner_introRProg.png\" align=\"left\" />"
   ]
  },
  {
   "cell_type": "markdown",
   "id": "alien-austria",
   "metadata": {},
   "source": [
    "<table style=\"float:right;\">\n",
    "    <tr>\n",
    "        <td>                      \n",
    "            <div style=\"text-align: right\"><a href=\"https://www.research.manchester.ac.uk/portal/syed.murtuzabaker.html\" target=\"_blank\">Syed Murtuza Baker</a></div>\n",
    "            <div style=\"text-align: right\">Research Fellow</div>\n",
    "            <div style=\"text-align: right\">University of Manchester</div>\n",
    "         </td>\n",
    "         <td>\n",
    "             <img src=\"images/Syed_Baker.jpg\" width=\"50%\" />\n",
    "         </td>\n",
    "     </tr>\n",
    "</table>"
   ]
  },
  {
   "cell_type": "markdown",
   "id": "dense-operator",
   "metadata": {},
   "source": [
    "# Introduction to ggplot2\n",
    "****"
   ]
  },
  {
   "cell_type": "markdown",
   "id": "suspended-investing",
   "metadata": {},
   "source": [
    "#### About this Notebook\n",
    "This notebook introduces ggplot2 ..."
   ]
  },
  {
   "cell_type": "markdown",
   "id": "charming-survey",
   "metadata": {},
   "source": [
    "Level: <code>beginner</code> "
   ]
  },
  {
   "cell_type": "markdown",
   "id": "congressional-georgia",
   "metadata": {},
   "source": [
    "Duration: Approximately 2 hours to complete"
   ]
  },
  {
   "cell_type": "markdown",
   "id": "acknowledged-parker",
   "metadata": {},
   "source": [
    "<div class=\"alert alert-block alert-warning\"><b>Learning Objectives:</b> \n",
    "<br/> At the end of this notebook you will be able to:\n",
    "    \n",
    "- Describe the features of the ggplot2 package\n",
    "    \n",
    "- Plot in R \n",
    "    \n",
    "- Explain which plots require statistical transformations\n",
    "\n",
    "\n",
    "</div> "
   ]
  },
  {
   "cell_type": "markdown",
   "id": "genetic-boulder",
   "metadata": {},
   "source": [
    "<a id=\"top\"></a>\n",
    "\n",
    "<b>Table of contents</b><br>\n",
    "\n",
    "1.0 [Introduction](#intro)\n",
    "\n",
    "2.0 [About ggplot2](#ggplot2)\n",
    "\n",
    "3.0 [Your Turn](#yourturn)\n",
    "\n",
    "*****"
   ]
  },
  {
   "cell_type": "markdown",
   "id": "metropolitan-bristol",
   "metadata": {},
   "source": [
    "<a id=\"intro\"></a>\n",
    "\n",
    "## Introduction\n",
    "\n",
    "R is ... link to other notebook\n",
    "\n",
    "This notebook... \n",
    "\n",
    "For help in using this Jupyter notebook please refer to the [Jupyter Notebook User Guide](https://online.manchester.ac.uk/bbcswebdav/orgs/I3116-ADHOC-I3HS-HUB-1/Jupyter%20Notebooks/content/index.html#/)\n",
    "\n",
    "\n",
    "\n"
   ]
  },
  {
   "cell_type": "markdown",
   "id": "august-sudan",
   "metadata": {},
   "source": [
    "\n",
    "*****\n",
    "[back to the top](#top)"
   ]
  },
  {
   "cell_type": "markdown",
   "id": "modern-ready",
   "metadata": {},
   "source": [
    "<a id=\"ggplot2\"></a>\n",
    "\n",
    "## About ggplot2\n",
    "\n",
    "GGPlot2 is a powerful and a flexible R package, implemented by Hadley Wickham, for producing elegant graphics piece by piece (Wickham et al. 2017).\n",
    "\n",
    "The gg in ggplot2 means Grammar of Graphics, a graphic concept which describes plots by using a “grammar”. According to the ggplot2 concept, a plot can be divided into different fundamental parts:\n",
    "\n",
    "ggplot2 is\n",
    "\n",
    ">Plot = Data + Aesthetics + Geometry\n",
    "\n",
    "Data: a data frame\n",
    "Aesthetics: used to indicate the x and y variables. It can be also used to control the color, the size and the shape of points, etc…..\n",
    "Geometry: corresponds to the type of graphics (scatter plot, histogram, box plot, line plot, ….)\n",
    "additional layers for customization — title, labels, axis, etc."
   ]
  },
  {
   "cell_type": "markdown",
   "id": "later-accreditation",
   "metadata": {},
   "source": [
    "### First Plotting\n",
    "\n",
    "The main function in the ggplot2 package is ggplot(), which can be used to initialize the plotting system with data and x/y variables.\n",
    "\n",
    "ggplot() creates a coordinate system to which you can add layers to. The first argument of ggplot() is the dataset to use in the graph. So ggplot(data = d_exp) creates an empty graph.\n",
    "\n",
    "For example, the following R code takes the KLF4 and RUNX1 data set to initialize the ggplot and then a layer (geom_point()) is added onto the ggplot to create a scatter plot of x = KLF4 by y = RUNX1:\n",
    "\n",
    "Data= d_exp\n",
    "Aesthetic=: aes(x=KLF4, y=RUNX1)\n",
    "Geometry= geom_point()"
   ]
  },
  {
   "cell_type": "code",
   "execution_count": 1,
   "id": "seventh-shipping",
   "metadata": {},
   "outputs": [
    {
     "ename": "ERROR",
     "evalue": "Error in ggplot(d_exp): could not find function \"ggplot\"\n",
     "output_type": "error",
     "traceback": [
      "Error in ggplot(d_exp): could not find function \"ggplot\"\nTraceback:\n"
     ]
    }
   ],
   "source": [
    "ggplot(d_exp)"
   ]
  },
  {
   "cell_type": "code",
   "execution_count": 2,
   "id": "wrapped-fellow",
   "metadata": {},
   "outputs": [
    {
     "ename": "ERROR",
     "evalue": "Error in ggplot(d_exp, aes(x = KLF4, y = RUNX1)): could not find function \"ggplot\"\n",
     "output_type": "error",
     "traceback": [
      "Error in ggplot(d_exp, aes(x = KLF4, y = RUNX1)): could not find function \"ggplot\"\nTraceback:\n"
     ]
    }
   ],
   "source": [
    "ggplot(d_exp, aes(x=KLF4, y=RUNX1))"
   ]
  },
  {
   "cell_type": "code",
   "execution_count": 3,
   "id": "atmospheric-console",
   "metadata": {},
   "outputs": [
    {
     "ename": "ERROR",
     "evalue": "Error in ggplot(d_exp, aes(x = KLF4, y = RUNX1)): could not find function \"ggplot\"\n",
     "output_type": "error",
     "traceback": [
      "Error in ggplot(d_exp, aes(x = KLF4, y = RUNX1)): could not find function \"ggplot\"\nTraceback:\n"
     ]
    }
   ],
   "source": [
    "ggplot(d_exp, aes(x=KLF4, y=RUNX1)) + geom_point()"
   ]
  },
  {
   "cell_type": "code",
   "execution_count": 4,
   "id": "virgin-employee",
   "metadata": {},
   "outputs": [
    {
     "ename": "ERROR",
     "evalue": "Error in ggplot(d_exp, aes(x = KLF4, y = RUNX1)): could not find function \"ggplot\"\n",
     "output_type": "error",
     "traceback": [
      "Error in ggplot(d_exp, aes(x = KLF4, y = RUNX1)): could not find function \"ggplot\"\nTraceback:\n"
     ]
    }
   ],
   "source": [
    "ggplot(d_exp, aes(x=KLF4, y=RUNX1)) + geom_point(size = 1.2, color = \"steelblue\", shape = 21)"
   ]
  },
  {
   "cell_type": "markdown",
   "id": "split-scroll",
   "metadata": {},
   "source": [
    "It’s also possible to control points shape and color by a grouping variable (here, Sample). For example, in the code below, we map points color and shape to the datasets grouping variable.\n",
    "\n",
    "Note that, a ggplot can be holded in a variable, say p, to be printed later\n",
    "\n"
   ]
  },
  {
   "cell_type": "code",
   "execution_count": 5,
   "id": "ordinary-stewart",
   "metadata": {},
   "outputs": [
    {
     "ename": "ERROR",
     "evalue": "Error in ggplot(d_exp, aes(x = KLF4, y = RUNX1)): could not find function \"ggplot\"\n",
     "output_type": "error",
     "traceback": [
      "Error in ggplot(d_exp, aes(x = KLF4, y = RUNX1)): could not find function \"ggplot\"\nTraceback:\n"
     ]
    }
   ],
   "source": [
    "# Control points color by groups\n",
    "ggplot(d_exp, aes(x=KLF4, y=RUNX1))+\n",
    "  geom_point(aes(color = Sample))"
   ]
  },
  {
   "cell_type": "code",
   "execution_count": 6,
   "id": "hairy-jefferson",
   "metadata": {},
   "outputs": [
    {
     "ename": "ERROR",
     "evalue": "Error in ggplot(d_exp, aes(x = KLF4, y = RUNX1)): could not find function \"ggplot\"\n",
     "output_type": "error",
     "traceback": [
      "Error in ggplot(d_exp, aes(x = KLF4, y = RUNX1)): could not find function \"ggplot\"\nTraceback:\n"
     ]
    }
   ],
   "source": [
    "\n",
    "# Change the default color manually.\n",
    "# Use the scale_color_manual() function\n",
    "p <- ggplot(d_exp, aes(x=KLF4, y=RUNX1))+\n",
    "  geom_point(aes(color = Sample))+\n",
    "  scale_color_manual(values = c(\"#00AFBB\", \"#E7B800\", \"#FC4E07\", \"#A2AFBB\", \"#17B8AB\", \"#3F4E77\", \"#FCFA27\", \"#BFAFFB\", \"#69B89B\", \"#7F4E97\"))\n",
    "print(p)"
   ]
  },
  {
   "cell_type": "markdown",
   "id": "adaptive-monitor",
   "metadata": {},
   "source": [
    "*****\n",
    "[back to the top](#top)"
   ]
  },
  {
   "cell_type": "markdown",
   "id": "charitable-replacement",
   "metadata": {},
   "source": [
    "### GGPlot theme\n",
    "\n",
    "Note that, the default theme of ggplots is theme_gray() (or theme_grey()), which is theme with grey background and white grid lines. More themes are available for professional presentations or publications. These include: theme_bw(), theme_classic() and theme_minimal().\n",
    "\n",
    "To change the theme of a given ggplot (p), use this: p + theme_classic()."
   ]
  },
  {
   "cell_type": "code",
   "execution_count": 7,
   "id": "public-bruce",
   "metadata": {},
   "outputs": [
    {
     "ename": "ERROR",
     "evalue": "Error in ggplot(d_exp, aes(x = KLF4, y = RUNX1)): could not find function \"ggplot\"\n",
     "output_type": "error",
     "traceback": [
      "Error in ggplot(d_exp, aes(x = KLF4, y = RUNX1)): could not find function \"ggplot\"\nTraceback:\n"
     ]
    }
   ],
   "source": [
    "p <- ggplot(d_exp, aes(x=KLF4, y=RUNX1))+\n",
    "  geom_point(aes(color = Sample))+\n",
    "  scale_color_manual(values = c(\"#00AFBB\", \"#E7B800\", \"#FC4E07\", \"#A2AFBB\", \"#17B8AB\", \"#3F4E77\", \"#FCFA27\", \"#BFAFFB\", \"#69B89B\", \"#7F4E97\"))\n",
    "p <- p + theme_classic()\n",
    "print(p)"
   ]
  },
  {
   "cell_type": "code",
   "execution_count": 8,
   "id": "prescription-landing",
   "metadata": {},
   "outputs": [
    {
     "ename": "ERROR",
     "evalue": "Error in reducedDim(sce): could not find function \"reducedDim\"\n",
     "output_type": "error",
     "traceback": [
      "Error in reducedDim(sce): could not find function \"reducedDim\"\nTraceback:\n"
     ]
    }
   ],
   "source": [
    "df <- reducedDim(sce)\n",
    "head(df)"
   ]
  },
  {
   "cell_type": "markdown",
   "id": "embedded-jimmy",
   "metadata": {},
   "source": [
    "Adding layers to ggplot, Lines (Prediction Line)\n",
    "A plot constructed with ggplot can have more than one geom. In that case the mappings established in the ggplot() call are plot defaults that can be added to or overridden. Our plot could use a regression line:"
   ]
  },
  {
   "cell_type": "code",
   "execution_count": 9,
   "id": "statutory-oxygen",
   "metadata": {},
   "outputs": [
    {
     "ename": "ERROR",
     "evalue": "Error in is.data.frame(data): object 'd_exp' not found\n",
     "output_type": "error",
     "traceback": [
      "Error in is.data.frame(data): object 'd_exp' not found\nTraceback:\n",
      "1. predict(lm(RUNX1 ~ KLF4, data = d_exp))",
      "2. lm(RUNX1 ~ KLF4, data = d_exp)",
      "3. eval(mf, parent.frame())",
      "4. eval(mf, parent.frame())",
      "5. stats::model.frame(formula = RUNX1 ~ KLF4, data = d_exp, drop.unused.levels = TRUE)",
      "6. model.frame.default(formula = RUNX1 ~ KLF4, data = d_exp, drop.unused.levels = TRUE)",
      "7. is.data.frame(data)"
     ]
    }
   ],
   "source": [
    "d_exp$pred.SC <- predict(lm(RUNX1 ~ KLF4, data = d_exp))\n",
    "\n",
    "ggplot(d_exp, aes(x = KLF4, y = RUNX1)) + \n",
    "  geom_point(aes(color = Sample)) +\n",
    "  geom_line(aes(y = pred.SC)) +\n",
    "  theme_classic()"
   ]
  },
  {
   "cell_type": "markdown",
   "id": "driving-meditation",
   "metadata": {},
   "source": [
    "### Title, xlab & ylab"
   ]
  },
  {
   "cell_type": "code",
   "execution_count": 10,
   "id": "coastal-defense",
   "metadata": {},
   "outputs": [
    {
     "ename": "ERROR",
     "evalue": "Error in reducedDim(sce): could not find function \"reducedDim\"\n",
     "output_type": "error",
     "traceback": [
      "Error in reducedDim(sce): could not find function \"reducedDim\"\nTraceback:\n",
      "1. as.data.frame(reducedDim(sce))"
     ]
    }
   ],
   "source": [
    "df <- as.data.frame(reducedDim(sce))\n",
    "df$Sample <- colData(sce)$Sample\n",
    "p <- ggplot(df, aes(x=V1, y=V2))+\n",
    "  geom_point(size = 0.4, aes(color = Sample))+\n",
    "  scale_color_manual(values = c(\"#00AFBB\", \"#E7B800\", \"#FC4E07\", \"#A2AFBB\", \"#17B8AB\", \"#3F4E77\", \"#FCFA27\", \"#BFAFFB\", \"#69B89B\", \"#7F4E97\")) + \n",
    "  ggtitle('t-SNE plot for Samples') + \n",
    "  xlab('tSNE-1') + \n",
    "  ylab('tSNE-2') + \n",
    "  theme_classic()\n",
    "print(p)"
   ]
  },
  {
   "cell_type": "markdown",
   "id": "social-tuesday",
   "metadata": {},
   "source": [
    "### Histogram"
   ]
  },
  {
   "cell_type": "code",
   "execution_count": 11,
   "id": "necessary-wilderness",
   "metadata": {},
   "outputs": [
    {
     "ename": "ERROR",
     "evalue": "Error in ggplot(d_exp, aes(x = total_counts)): could not find function \"ggplot\"\n",
     "output_type": "error",
     "traceback": [
      "Error in ggplot(d_exp, aes(x = total_counts)): could not find function \"ggplot\"\nTraceback:\n"
     ]
    }
   ],
   "source": [
    "ggplot(d_exp, aes(x=total_counts)) + geom_histogram() + theme_classic() "
   ]
  },
  {
   "cell_type": "markdown",
   "id": "latter-bridges",
   "metadata": {},
   "source": [
    "### Density plot"
   ]
  },
  {
   "cell_type": "code",
   "execution_count": 12,
   "id": "accredited-radius",
   "metadata": {},
   "outputs": [
    {
     "ename": "ERROR",
     "evalue": "Error in data.frame(x = log10(sce$total_counts + 1), Sample = sce$Sample): object 'sce' not found\n",
     "output_type": "error",
     "traceback": [
      "Error in data.frame(x = log10(sce$total_counts + 1), Sample = sce$Sample): object 'sce' not found\nTraceback:\n",
      "1. data.frame(x = log10(sce$total_counts + 1), Sample = sce$Sample)"
     ]
    }
   ],
   "source": [
    "df <- data.frame(x=log10(sce$total_counts+1), Sample = sce$Sample)\n",
    "ggplot(df,\n",
    "       aes(x = x, fill = as.factor(Sample))) + \n",
    "       geom_density(alpha = 0.5) +\n",
    "       labs(x = expression('log'[10]*'(Library Size)'), title = \"Total reads density\", fill = \"Sample\") + \n",
    "       theme_classic(base_size = 14) + # Setting the base size text for plots\n",
    "       scale_fill_manual(values = c(\"#00AFBB\", \"#E7B800\", \"#FC4E07\", \"#A2AFBB\", \"#17B8AB\", \"#3F4E77\", \"#FCFA27\", \"#BFAFFB\", \"#69B89B\", \"#7F4E97\")) # Need to set fill manual"
   ]
  },
  {
   "cell_type": "markdown",
   "id": "cellular-notion",
   "metadata": {},
   "source": [
    "### Facet"
   ]
  },
  {
   "cell_type": "code",
   "execution_count": 13,
   "id": "dramatic-prince",
   "metadata": {},
   "outputs": [
    {
     "ename": "ERROR",
     "evalue": "Error in data.frame(x = log10(sce$total_counts + 1), Sample = sce$Sample): object 'sce' not found\n",
     "output_type": "error",
     "traceback": [
      "Error in data.frame(x = log10(sce$total_counts + 1), Sample = sce$Sample): object 'sce' not found\nTraceback:\n",
      "1. data.frame(x = log10(sce$total_counts + 1), Sample = sce$Sample)"
     ]
    }
   ],
   "source": [
    "df <- data.frame(x=log10(sce$total_counts+1), Sample = sce$Sample)\n",
    "ggplot(df,\n",
    "       aes(x = x, fill = as.factor(Sample))) + \n",
    "       geom_density(alpha = 0.5) +\n",
    "       labs(x = expression('log'[10]*'(Library Size)'), title = \"Total reads density\", fill = \"Sample\") + \n",
    "       theme_classic(base_size = 14) + # Setting the base size text for plots\n",
    "       scale_fill_manual(values = c(\"#00AFBB\", \"#E7B800\", \"#FC4E07\", \"#A2AFBB\", \"#17B8AB\", \"#3F4E77\", \"#FCFA27\", \"#BFAFFB\", \"#69B89B\", \"#7F4E97\")) +  # Need to set fill manual \n",
    "  facet_wrap(~Sample)"
   ]
  },
  {
   "cell_type": "markdown",
   "id": "super-anthropology",
   "metadata": {},
   "source": [
    "*****\n",
    "[back to the top](#top)"
   ]
  },
  {
   "cell_type": "markdown",
   "id": "ruled-aaron",
   "metadata": {},
   "source": [
    "## Statistical Transformations\n",
    "\n",
    "Some plot types (such as scatterplots) do not require transformations–each point is plotted at x and y coordinates equal to the original value. Other plots, such as boxplots, histograms, prediction lines etc. require statistical transformations:\n",
    "\n",
    "for a smoother the y values must be transformed into predicted values"
   ]
  },
  {
   "cell_type": "code",
   "execution_count": 14,
   "id": "continued-keeping",
   "metadata": {},
   "outputs": [
    {
     "ename": "ERROR",
     "evalue": "Error in ggplot(d_exp, aes(x = KLF4, y = RUNX1)): could not find function \"ggplot\"\n",
     "output_type": "error",
     "traceback": [
      "Error in ggplot(d_exp, aes(x = KLF4, y = RUNX1)): could not find function \"ggplot\"\nTraceback:\n"
     ]
    }
   ],
   "source": [
    "#d_exp$pred.SC <- predict(lm(RUNX1 ~ KLF4, data = d_exp))\n",
    "\n",
    "ggplot(d_exp, aes(x = KLF4, y = RUNX1)) + \n",
    "  geom_point(aes(color = Sample)) +\n",
    "  geom_smooth() +\n",
    "  theme_classic()"
   ]
  },
  {
   "cell_type": "code",
   "execution_count": 15,
   "id": "constant-defensive",
   "metadata": {},
   "outputs": [
    {
     "ename": "ERROR",
     "evalue": "Error in ggplot(d_exp, aes(x = KLF4, y = RUNX1)): could not find function \"ggplot\"\n",
     "output_type": "error",
     "traceback": [
      "Error in ggplot(d_exp, aes(x = KLF4, y = RUNX1)): could not find function \"ggplot\"\nTraceback:\n"
     ]
    }
   ],
   "source": [
    "ggplot(d_exp, aes(x = KLF4, y = RUNX1)) + \n",
    "  geom_point(aes(color = Sample)) +\n",
    "  geom_smooth(method = \"lm\") +\n",
    "  theme_classic()"
   ]
  },
  {
   "cell_type": "markdown",
   "id": "white-circumstances",
   "metadata": {},
   "source": [
    "<a id=\"yourturn\"></a>\n",
    "## Your Turn\n"
   ]
  },
  {
   "cell_type": "markdown",
   "id": "pediatric-composite",
   "metadata": {},
   "source": [
    "First let us look at the mpg dataset\n"
   ]
  },
  {
   "cell_type": "code",
   "execution_count": 16,
   "id": "bizarre-writer",
   "metadata": {
    "hide_input": false,
    "solution": "hidden",
    "solution_first": true
   },
   "outputs": [
    {
     "ename": "ERROR",
     "evalue": "Error in eval(expr, envir, enclos): object 'mpg' not found\n",
     "output_type": "error",
     "traceback": [
      "Error in eval(expr, envir, enclos): object 'mpg' not found\nTraceback:\n"
     ]
    }
   ],
   "source": [
    "mpg\n"
   ]
  },
  {
   "cell_type": "markdown",
   "id": "prescribed-services",
   "metadata": {},
   "source": [
    "<div class=\"alert alert-block alert-info\">\n",
    "    <b>Task 1</b></br>\n",
    "<p>How would you plot the relationship between cty, the average city mileage, and hwy, the average highway mileage? How would you describe this relationship?</p>\n",
    "</div>"
   ]
  },
  {
   "cell_type": "code",
   "execution_count": 17,
   "id": "south-intake",
   "metadata": {
    "hide_input": false,
    "solution": "hidden",
    "solution_first": true
   },
   "outputs": [
    {
     "ename": "ERROR",
     "evalue": "Error in ggplot(mpg, aes(cty, hwy)): could not find function \"ggplot\"\n",
     "output_type": "error",
     "traceback": [
      "Error in ggplot(mpg, aes(cty, hwy)): could not find function \"ggplot\"\nTraceback:\n"
     ]
    }
   ],
   "source": [
    "ggplot(mpg, aes(cty, hwy)) + \n",
    "  geom_point() +\n",
    "  theme_classic()"
   ]
  },
  {
   "cell_type": "markdown",
   "id": "coral-strain",
   "metadata": {},
   "source": [
    "<div class=\"alert alert-block alert-info\">\n",
    "    <b>Task 2</b> </br>\n",
    "<p>How would you draw a smooth line? Also, how would you colour the transmissions differently?</p>"
   ]
  },
  {
   "cell_type": "code",
   "execution_count": 18,
   "id": "accomplished-volume",
   "metadata": {},
   "outputs": [
    {
     "ename": "ERROR",
     "evalue": "Error in ggplot(mpg, aes(cty, hwy)): could not find function \"ggplot\"\n",
     "output_type": "error",
     "traceback": [
      "Error in ggplot(mpg, aes(cty, hwy)): could not find function \"ggplot\"\nTraceback:\n"
     ]
    }
   ],
   "source": [
    "ggplot(mpg, aes(cty, hwy)) + \n",
    "  geom_point(aes(colour = drv)) +\n",
    "  geom_smooth(method = \"lm\") +\n",
    "  theme_classic()"
   ]
  },
  {
   "cell_type": "markdown",
   "id": "adolescent-carpet",
   "metadata": {},
   "source": [
    "<div class=\"alert alert-block alert-info\">\n",
    "    <b>Task 3</b> </br>\n",
    "    <p>Show the distribution of scores for hwy, highway miles per gallon</p></div>"
   ]
  },
  {
   "cell_type": "code",
   "execution_count": 19,
   "id": "mighty-kidney",
   "metadata": {},
   "outputs": [
    {
     "ename": "ERROR",
     "evalue": "Error in ggplot(mpg, aes(hwy)): could not find function \"ggplot\"\n",
     "output_type": "error",
     "traceback": [
      "Error in ggplot(mpg, aes(hwy)): could not find function \"ggplot\"\nTraceback:\n"
     ]
    }
   ],
   "source": [
    "ggplot(mpg, aes(hwy)) + \n",
    "  geom_histogram()"
   ]
  },
  {
   "cell_type": "markdown",
   "id": "recorded-certificate",
   "metadata": {},
   "source": [
    "<div class=\"alert alert-block alert-info\">\n",
    "    <b>Task 4</b> </br>\n",
    "    <p>Produce a similar plot as shown below</p></div>"
   ]
  },
  {
   "cell_type": "markdown",
   "id": "convinced-consultation",
   "metadata": {},
   "source": [
    "<img src=\"images/task4-ggplot.png\" align=\"left\" width=\"80%\" />"
   ]
  },
  {
   "cell_type": "code",
   "execution_count": 20,
   "id": "spiritual-installation",
   "metadata": {},
   "outputs": [
    {
     "ename": "ERROR",
     "evalue": "Error in ggplot(mpg, aes(x = displ, y = cty, colour = drv, size = cyl)): could not find function \"ggplot\"\n",
     "output_type": "error",
     "traceback": [
      "Error in ggplot(mpg, aes(x = displ, y = cty, colour = drv, size = cyl)): could not find function \"ggplot\"\nTraceback:\n"
     ]
    }
   ],
   "source": [
    "ggplot(mpg, aes(x=displ, y=cty, colour=drv, size=cyl)) +\n",
    "  geom_point() + theme_classic()"
   ]
  },
  {
   "cell_type": "markdown",
   "id": "wanted-coach",
   "metadata": {},
   "source": [
    "*****\n",
    "[back to the top](#top)"
   ]
  },
  {
   "cell_type": "markdown",
   "id": "vital-capacity",
   "metadata": {},
   "source": [
    "### Notebook details\n",
    "<br>\n",
    "<i>Notebook created by <strong>Syed Murtaza Baker</strong>. Other contributors include Fran Hooley... \n",
    "\n",
    "Publish date: May 2021<br>\n",
    "Review date: May 2022</i>\n",
    "\n",
    "Please give your feedback using the button below:"
   ]
  },
  {
   "cell_type": "markdown",
   "id": "basic-compact",
   "metadata": {},
   "source": [
    "****\n",
    "\n",
    "## Your Notes:\n"
   ]
  },
  {
   "cell_type": "code",
   "execution_count": null,
   "id": "informational-tiger",
   "metadata": {},
   "outputs": [],
   "source": []
  },
  {
   "cell_type": "code",
   "execution_count": null,
   "id": "unavailable-backup",
   "metadata": {},
   "outputs": [],
   "source": []
  },
  {
   "cell_type": "code",
   "execution_count": null,
   "id": "cosmetic-store",
   "metadata": {},
   "outputs": [],
   "source": []
  }
 ],
 "metadata": {
  "kernelspec": {
   "display_name": "R",
   "language": "R",
   "name": "ir"
  },
  "language_info": {
   "codemirror_mode": "r",
   "file_extension": ".r",
   "mimetype": "text/x-r-source",
   "name": "R",
   "pygments_lexer": "r",
   "version": "3.6.1"
  }
 },
 "nbformat": 4,
 "nbformat_minor": 5
}

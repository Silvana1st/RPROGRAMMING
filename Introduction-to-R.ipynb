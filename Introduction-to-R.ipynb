{
 "cells": [
  {
   "cell_type": "markdown",
   "id": "particular-audio",
   "metadata": {},
   "source": [
    "<img src=\"images/banner_introRProg.png\" align=\"left\" />"
   ]
  },
  {
   "cell_type": "markdown",
   "id": "alien-austria",
   "metadata": {},
   "source": [
    "<table style=\"float:right;\">\n",
    "    <tr>\n",
    "        <td>                      \n",
    "            <div style=\"text-align: right\"><a href=\"https://www.research.manchester.ac.uk/portal/syed.murtuzabaker.html\" target=\"_blank\">Syed Murtuza Baker</a></div>\n",
    "            <div style=\"text-align: right\">Research Fellow</div>\n",
    "            <div style=\"text-align: right\">University of Manchester</div>\n",
    "         </td>\n",
    "         <td>\n",
    "             <img src=\"images/Syed_Baker.jpg\" width=\"50%\" />\n",
    "         </td>\n",
    "     </tr>\n",
    "</table>"
   ]
  },
  {
   "cell_type": "markdown",
   "id": "dense-operator",
   "metadata": {},
   "source": [
    "# Introduction to Programming with R\n",
    "****"
   ]
  },
  {
   "cell_type": "markdown",
   "id": "suspended-investing",
   "metadata": {},
   "source": [
    "#### About this Notebook\n",
    "This notebook introduces the R programming language and the Jupyter notebook environment. "
   ]
  },
  {
   "cell_type": "markdown",
   "id": "charming-survey",
   "metadata": {},
   "source": [
    "Level: <code>beginner</code> "
   ]
  },
  {
   "cell_type": "markdown",
   "id": "congressional-georgia",
   "metadata": {},
   "source": [
    "Duration: Approximately 2 hours to complete"
   ]
  },
  {
   "cell_type": "markdown",
   "id": "acknowledged-parker",
   "metadata": {},
   "source": [
    "<div class=\"alert alert-block alert-warning\"><b>Learning Objectives:</b> \n",
    "<br/> At the end of this notebook you will be able to:\n",
    "    \n",
    "- Describe the basic principles of R language\n",
    "\n",
    "- Log your work in a Jupyter notebook\n",
    "    \n",
    "- Explain the features of R that support object-oriented programming\n",
    "\n",
    "\n",
    "</div> "
   ]
  },
  {
   "cell_type": "markdown",
   "id": "genetic-boulder",
   "metadata": {},
   "source": [
    "<a id=\"top\"></a>\n",
    "\n",
    "<b>Table of contents</b><br>\n",
    "\n",
    "1.0 [Introduction](#intro)\n",
    "\n",
    "2.0 [Variables](#variables)\n",
    "\n",
    "3.0 [Vectors](#vectors)\n",
    "\n",
    "4.0 [Data Frames](#dataframes)\n",
    "\n",
    "5.0 [Lists](#lists)\n",
    "\n",
    "6.0 [Indexing](#indexing)\n",
    "\n",
    "7.0 [If Statement](#ifstatement)\n",
    "\n",
    "8.0 [If...else Statement](#ifelsestatement)\n",
    "\n",
    "9.0 [For Loop](#forloop)\n",
    "\n",
    "10.0 [Functions](#functions)\n",
    "\n",
    "11.0 [Your Turn](#yourturn)\n",
    "\n",
    "*****"
   ]
  },
  {
   "cell_type": "markdown",
   "id": "metropolitan-bristol",
   "metadata": {},
   "source": [
    "<a id=\"intro\"></a>\n",
    "\n",
    "## Introduction\n",
    "\n",
    "R is one of the leading programming languages in Biological data analysis. It is used to perform data analyis, statistics, machine learning and visualisations. This course is designed as an introduction to R for participants with no previous programming experience. \n",
    "\n",
    "We first introduce on how to start programming in R and progress our way. We will learn how to manipulate data and visualise it, read and write to files. During the course we will also be working with tidyverse which will allow us to manipulate our data effectively.\n",
    "\n",
    "For help in using this Jupyter notebook please refer to the [Jupyter Notebook User Guide](https://online.manchester.ac.uk/bbcswebdav/orgs/I3116-ADHOC-I3HS-HUB-1/Jupyter%20Notebooks/content/index.html#/)\n",
    "\n",
    "\n",
    "\n"
   ]
  },
  {
   "cell_type": "markdown",
   "id": "coastal-expert",
   "metadata": {},
   "source": [
    "<div class=\"alert alert-block alert-info\">\n",
    "<b>Task 1:</b>\n",
    "<br> \n",
    "Let's run our very first R program to display the classic <code>Hello world</code> message on the screen. To do this select (click on) the cell below and hold the <code>shift</code> key and press the <code>enter</code> key at the same time. Alternatively click on the <code>run cell</code> button on the menu above. You should see <code>Hello world</code> displayed under the cell.\n",
    "</div>"
   ]
  },
  {
   "cell_type": "code",
   "execution_count": 3,
   "id": "oriental-entity",
   "metadata": {},
   "outputs": [
    {
     "name": "stdout",
     "output_type": "stream",
     "text": [
      "[1] \"Hello, world\"\n"
     ]
    }
   ],
   "source": [
    "hello.string <- 'Hello, world'\n",
    "print(hello.string)"
   ]
  },
  {
   "cell_type": "markdown",
   "id": "august-sudan",
   "metadata": {},
   "source": [
    "\n",
    "*****\n",
    "[back to the top](#top)"
   ]
  },
  {
   "cell_type": "markdown",
   "id": "timely-gather",
   "metadata": {},
   "source": [
    "<a id=\"variables\"></a>\n",
    "\n",
    "## Variables\n",
    "\n"
   ]
  },
  {
   "cell_type": "markdown",
   "id": "blind-peace",
   "metadata": {},
   "source": [
    "Another thing you’ll want to do using R is assign things to a name so that you can use it later. Think of this as being if you were a chipmunk and you buried a nut in the ground to dig up later. You can assign anything in R to a name, then use it later (in the current R session of course :)).\n",
    "\n",
    "Assign the number 5 to the name mynumber"
   ]
  },
  {
   "cell_type": "code",
   "execution_count": 4,
   "id": "seeing-yellow",
   "metadata": {},
   "outputs": [],
   "source": [
    "mynumber <- 5"
   ]
  },
  {
   "cell_type": "markdown",
   "id": "joined-nancy",
   "metadata": {},
   "source": [
    "Later you can use <code>mynumber</code> , like adding it to another number"
   ]
  },
  {
   "cell_type": "code",
   "execution_count": 5,
   "id": "fundamental-packaging",
   "metadata": {},
   "outputs": [
    {
     "data": {
      "text/html": [
       "6"
      ],
      "text/latex": [
       "6"
      ],
      "text/markdown": [
       "6"
      ],
      "text/plain": [
       "[1] 6"
      ]
     },
     "metadata": {},
     "output_type": "display_data"
    }
   ],
   "source": [
    "mynumber + 1"
   ]
  },
  {
   "cell_type": "markdown",
   "id": "regular-humanitarian",
   "metadata": {},
   "source": [
    "### While working with variables\n",
    "- Data types \n",
    "    - integers: 1, 5, 7\n",
    "    - double: 1.5, 3.2\n",
    "    - stings: Hellow\n",
    "    - boolean: TRUE/FALSE\n",
    "    - factor\n",
    "- Variable Names\n",
    "- Working with Strings (data length, changing test to lower case, check on spaces etc functions)\n",
    "- changing a variable type\n",
    "\n",
    "We will introduce the data types while going through vectors\n"
   ]
  },
  {
   "cell_type": "markdown",
   "id": "distinct-avenue",
   "metadata": {},
   "source": [
    "<a id=\"vectors\"></a>\n",
    "\n",
    "## Vectors\n",
    "\n",
    "Vectors are one of the simplest and common objects in R. Think of a vector like a cat’s tail. Some are short. Some are long. But they are are pretty much the same width - that is, they can only contain a single data type. So a vector can only have all <code>numeric</code> , <code>all character</code> , <code>all factor </code>, etc.\n",
    "\n",
    "But how do we make a vector? The easiest way is to use a function called `c`. So `c(5,6,7)` will create a vector of numbers 5, 6, and 7."
   ]
  },
  {
   "cell_type": "markdown",
   "id": "377b512c",
   "metadata": {},
   "source": [
    "#### Integer"
   ]
  },
  {
   "cell_type": "code",
   "execution_count": 6,
   "id": "fatal-power",
   "metadata": {},
   "outputs": [
    {
     "data": {
      "text/html": [
       "<ol class=list-inline>\n",
       "\t<li>5</li>\n",
       "\t<li>6</li>\n",
       "\t<li>7</li>\n",
       "</ol>\n"
      ],
      "text/latex": [
       "\\begin{enumerate*}\n",
       "\\item 5\n",
       "\\item 6\n",
       "\\item 7\n",
       "\\end{enumerate*}\n"
      ],
      "text/markdown": [
       "1. 5\n",
       "2. 6\n",
       "3. 7\n",
       "\n",
       "\n"
      ],
      "text/plain": [
       "[1] 5 6 7"
      ]
     },
     "metadata": {},
     "output_type": "display_data"
    }
   ],
   "source": [
    "c(5,6,7)"
   ]
  },
  {
   "cell_type": "markdown",
   "id": "1c79392b",
   "metadata": {},
   "source": [
    "#### Double\n",
    "Making a value as double will make all other values double"
   ]
  },
  {
   "cell_type": "code",
   "execution_count": 7,
   "id": "overhead-course",
   "metadata": {},
   "outputs": [
    {
     "data": {
      "text/html": [
       "<ol class=list-inline>\n",
       "\t<li>5</li>\n",
       "\t<li>8</li>\n",
       "\t<li>200</li>\n",
       "\t<li>1</li>\n",
       "\t<li>1.5</li>\n",
       "\t<li>0.9</li>\n",
       "</ol>\n"
      ],
      "text/latex": [
       "\\begin{enumerate*}\n",
       "\\item 5\n",
       "\\item 8\n",
       "\\item 200\n",
       "\\item 1\n",
       "\\item 1.5\n",
       "\\item 0.9\n",
       "\\end{enumerate*}\n"
      ],
      "text/markdown": [
       "1. 5\n",
       "2. 8\n",
       "3. 200\n",
       "4. 1\n",
       "5. 1.5\n",
       "6. 0.9\n",
       "\n",
       "\n"
      ],
      "text/plain": [
       "[1]   5.0   8.0 200.0   1.0   1.5   0.9"
      ]
     },
     "metadata": {},
     "output_type": "display_data"
    }
   ],
   "source": [
    "c(5, 8, 200, 1, 1.5, 0.9)"
   ]
  },
  {
   "cell_type": "markdown",
   "id": "paperback-carnival",
   "metadata": {},
   "source": [
    "#### String\n",
    "Let’s say you have a vector of three types of animals:\n",
    "\n"
   ]
  },
  {
   "cell_type": "code",
   "execution_count": 8,
   "id": "oriented-syria",
   "metadata": {},
   "outputs": [
    {
     "data": {
      "text/html": [
       "<ol class=list-inline>\n",
       "\t<li>'birds'</li>\n",
       "\t<li>'squirrels'</li>\n",
       "\t<li>'fish'</li>\n",
       "</ol>\n"
      ],
      "text/latex": [
       "\\begin{enumerate*}\n",
       "\\item 'birds'\n",
       "\\item 'squirrels'\n",
       "\\item 'fish'\n",
       "\\end{enumerate*}\n"
      ],
      "text/markdown": [
       "1. 'birds'\n",
       "2. 'squirrels'\n",
       "3. 'fish'\n",
       "\n",
       "\n"
      ],
      "text/plain": [
       "[1] \"birds\"     \"squirrels\" \"fish\"     "
      ]
     },
     "metadata": {},
     "output_type": "display_data"
    }
   ],
   "source": [
    "animals <- c(\"birds\",\"squirrels\",\"fish\")\n",
    "animals"
   ]
  },
  {
   "cell_type": "markdown",
   "id": "strange-parade",
   "metadata": {},
   "source": [
    "You can add something to each of them like:\n"
   ]
  },
  {
   "cell_type": "code",
   "execution_count": 9,
   "id": "minus-course",
   "metadata": {},
   "outputs": [
    {
     "data": {
      "text/html": [
       "<ol class=list-inline>\n",
       "\t<li>'birds are beautiful'</li>\n",
       "\t<li>'squirrels are beautiful'</li>\n",
       "\t<li>'fish are beautiful'</li>\n",
       "</ol>\n"
      ],
      "text/latex": [
       "\\begin{enumerate*}\n",
       "\\item 'birds are beautiful'\n",
       "\\item 'squirrels are beautiful'\n",
       "\\item 'fish are beautiful'\n",
       "\\end{enumerate*}\n"
      ],
      "text/markdown": [
       "1. 'birds are beautiful'\n",
       "2. 'squirrels are beautiful'\n",
       "3. 'fish are beautiful'\n",
       "\n",
       "\n"
      ],
      "text/plain": [
       "[1] \"birds are beautiful\"     \"squirrels are beautiful\"\n",
       "[3] \"fish are beautiful\"     "
      ]
     },
     "metadata": {},
     "output_type": "display_data"
    }
   ],
   "source": [
    "paste(animals, \"are beautiful\")"
   ]
  },
  {
   "cell_type": "markdown",
   "id": "2f971d02",
   "metadata": {},
   "source": [
    "#### Boolean"
   ]
  },
  {
   "cell_type": "code",
   "execution_count": 1,
   "id": "1c4f5604",
   "metadata": {},
   "outputs": [
    {
     "data": {
      "text/html": [
       "TRUE"
      ],
      "text/latex": [
       "TRUE"
      ],
      "text/markdown": [
       "TRUE"
      ],
      "text/plain": [
       "[1] TRUE"
      ]
     },
     "metadata": {},
     "output_type": "display_data"
    }
   ],
   "source": [
    "are_you_good <- TRUE\n",
    "are_you_good"
   ]
  },
  {
   "cell_type": "markdown",
   "id": "f000442b",
   "metadata": {},
   "source": [
    "#### Factor\n",
    "Factor variables are categorical variables that can be either numeric or string variables."
   ]
  },
  {
   "cell_type": "code",
   "execution_count": 3,
   "id": "426a6a38",
   "metadata": {},
   "outputs": [
    {
     "data": {
      "text/html": [
       "<style>\n",
       ".list-inline {list-style: none; margin:0; padding: 0}\n",
       ".list-inline>li {display: inline-block}\n",
       ".list-inline>li:not(:last-child)::after {content: \"\\00b7\"; padding: 0 .5ex}\n",
       "</style>\n",
       "<ol class=list-inline><li>Control</li><li>Control</li><li>Control</li><li>Treatment</li><li>Treatment</li></ol>\n",
       "\n",
       "<details>\n",
       "\t<summary style=display:list-item;cursor:pointer>\n",
       "\t\t<strong>Levels</strong>:\n",
       "\t</summary>\n",
       "\t<style>\n",
       "\t.list-inline {list-style: none; margin:0; padding: 0}\n",
       "\t.list-inline>li {display: inline-block}\n",
       "\t.list-inline>li:not(:last-child)::after {content: \"\\00b7\"; padding: 0 .5ex}\n",
       "\t</style>\n",
       "\t<ol class=list-inline><li>'Control'</li><li>'Treatment'</li></ol>\n",
       "</details>"
      ],
      "text/latex": [
       "\\begin{enumerate*}\n",
       "\\item Control\n",
       "\\item Control\n",
       "\\item Control\n",
       "\\item Treatment\n",
       "\\item Treatment\n",
       "\\end{enumerate*}\n",
       "\n",
       "\\emph{Levels}: \\begin{enumerate*}\n",
       "\\item 'Control'\n",
       "\\item 'Treatment'\n",
       "\\end{enumerate*}\n"
      ],
      "text/markdown": [
       "1. Control\n",
       "2. Control\n",
       "3. Control\n",
       "4. Treatment\n",
       "5. Treatment\n",
       "\n",
       "\n",
       "\n",
       "**Levels**: 1. 'Control'\n",
       "2. 'Treatment'\n",
       "\n",
       "\n"
      ],
      "text/plain": [
       "[1] Control   Control   Control   Treatment Treatment\n",
       "Levels: Control Treatment"
      ]
     },
     "metadata": {},
     "output_type": "display_data"
    }
   ],
   "source": [
    "condition <- factor(c('Control','Control','Control','Treatment','Treatment'))\n",
    "condition"
   ]
  },
  {
   "cell_type": "markdown",
   "id": "coordinate-darwin",
   "metadata": {},
   "source": [
    "\n",
    "\n",
    "*****\n",
    "[back to the top](#top)"
   ]
  },
  {
   "cell_type": "markdown",
   "id": "collected-elite",
   "metadata": {},
   "source": [
    "<a id=\"dataframes\"></a>\n",
    "## Data Frames\n",
    "\n",
    "A `data.frame` is one of the most commonly used objects in R. Just think of a `data.frame` like a table, or a spreadsheet, with rows and columns and numbers, text, etc. in the cells. A very special thing about the `data.frame` in R is that it can handle multiple types of data - that is, each column can have a different type. Like in the below table the first column is of __numeric__ type, the second a __factor__, and the third __character__.\n",
    "\n"
   ]
  },
  {
   "cell_type": "code",
   "execution_count": 10,
   "id": "worldwide-shift",
   "metadata": {},
   "outputs": [
    {
     "data": {
      "text/html": [
       "<table>\n",
       "<thead><tr><th scope=col>hey</th><th scope=col>there</th><th scope=col>fella</th></tr></thead>\n",
       "<tbody>\n",
       "\t<tr><td>5    </td><td>a    </td><td>blue </td></tr>\n",
       "\t<tr><td>6    </td><td>b    </td><td>brown</td></tr>\n",
       "\t<tr><td>7    </td><td>c    </td><td>green</td></tr>\n",
       "</tbody>\n",
       "</table>\n"
      ],
      "text/latex": [
       "\\begin{tabular}{r|lll}\n",
       " hey & there & fella\\\\\n",
       "\\hline\n",
       "\t 5     & a     & blue \\\\\n",
       "\t 6     & b     & brown\\\\\n",
       "\t 7     & c     & green\\\\\n",
       "\\end{tabular}\n"
      ],
      "text/markdown": [
       "\n",
       "| hey | there | fella |\n",
       "|---|---|---|\n",
       "| 5     | a     | blue  |\n",
       "| 6     | b     | brown |\n",
       "| 7     | c     | green |\n",
       "\n"
      ],
      "text/plain": [
       "  hey there fella\n",
       "1 5   a     blue \n",
       "2 6   b     brown\n",
       "3 7   c     green"
      ]
     },
     "metadata": {},
     "output_type": "display_data"
    }
   ],
   "source": [
    "df <- data.frame(hey=c(5,6,7), there=as.factor(c(\"a\",\"b\",\"c\")),\n",
    "             fella=c(\"blue\",\"brown\",\"green\"))\n",
    "df"
   ]
  },
  {
   "cell_type": "markdown",
   "id": "oriented-lease",
   "metadata": {},
   "source": [
    "Notice that the first column of numbers are actually row names, and are not part of the data.frame per se, though are part of the metadata for the data.frame.\n",
    "\n",
    "We can quickly get a sense for the type of data in the df object by using the function str , which gives information on the types of data in each column."
   ]
  },
  {
   "cell_type": "code",
   "execution_count": 11,
   "id": "suspended-delay",
   "metadata": {},
   "outputs": [
    {
     "name": "stdout",
     "output_type": "stream",
     "text": [
      "'data.frame':\t3 obs. of  3 variables:\n",
      " $ hey  : num  5 6 7\n",
      " $ there: Factor w/ 3 levels \"a\",\"b\",\"c\": 1 2 3\n",
      " $ fella: Factor w/ 3 levels \"blue\",\"brown\",..: 1 2 3\n"
     ]
    }
   ],
   "source": [
    "str(df)"
   ]
  },
  {
   "cell_type": "markdown",
   "id": "protecting-investment",
   "metadata": {},
   "source": [
    "### Matrices\n",
    "\n",
    "Think of a matrix in R like a data.frame with all the same type of data, only numeric, only character, etc. A matrix is technically a special case of a two- dimensional array."
   ]
  },
  {
   "cell_type": "code",
   "execution_count": 12,
   "id": "dutch-culture",
   "metadata": {},
   "outputs": [],
   "source": [
    "mat <- matrix(c(1,2,3, 11,12,13), nrow = 2, ncol = 3)"
   ]
  },
  {
   "cell_type": "code",
   "execution_count": 13,
   "id": "tracked-playing",
   "metadata": {},
   "outputs": [
    {
     "data": {
      "text/html": [
       "<table>\n",
       "<tbody>\n",
       "\t<tr><td>1 </td><td> 3</td><td>12</td></tr>\n",
       "\t<tr><td>2 </td><td>11</td><td>13</td></tr>\n",
       "</tbody>\n",
       "</table>\n"
      ],
      "text/latex": [
       "\\begin{tabular}{lll}\n",
       "\t 1  &  3 & 12\\\\\n",
       "\t 2  & 11 & 13\\\\\n",
       "\\end{tabular}\n"
      ],
      "text/markdown": [
       "\n",
       "| 1  |  3 | 12 |\n",
       "| 2  | 11 | 13 |\n",
       "\n"
      ],
      "text/plain": [
       "     [,1] [,2] [,3]\n",
       "[1,] 1     3   12  \n",
       "[2,] 2    11   13  "
      ]
     },
     "metadata": {},
     "output_type": "display_data"
    }
   ],
   "source": [
    "mat"
   ]
  },
  {
   "cell_type": "markdown",
   "id": "loaded-permission",
   "metadata": {},
   "source": [
    "*****\n",
    "[back to the top](#top)"
   ]
  },
  {
   "cell_type": "markdown",
   "id": "serial-couple",
   "metadata": {},
   "source": [
    "<a id=\"lists\"></a>\n",
    "## Lists\n",
    "\n",
    "Lists are quite special. They are kinda like vectors, but kinda not. Using our cat tail analogy again, lists are like cat tails in that they can be short or long, but they can also vary in width. That is, they can hold any type of object. Whereas vectors can only hold one type of object (only character for example), lists can hold for example, a data.frame and a numeric , or a data.frame and another list! The way we make a list is via the function list"
   ]
  },
  {
   "cell_type": "code",
   "execution_count": 14,
   "id": "protective-immigration",
   "metadata": {},
   "outputs": [
    {
     "data": {
      "text/html": [
       "<ol>\n",
       "\t<li>1</li>\n",
       "\t<li>'a'</li>\n",
       "</ol>\n"
      ],
      "text/latex": [
       "\\begin{enumerate}\n",
       "\\item 1\n",
       "\\item 'a'\n",
       "\\end{enumerate}\n"
      ],
      "text/markdown": [
       "1. 1\n",
       "2. 'a'\n",
       "\n",
       "\n"
      ],
      "text/plain": [
       "[[1]]\n",
       "[1] 1\n",
       "\n",
       "[[2]]\n",
       "[1] \"a\"\n"
      ]
     },
     "metadata": {},
     "output_type": "display_data"
    }
   ],
   "source": [
    "list(1, \"a\")"
   ]
  },
  {
   "cell_type": "markdown",
   "id": "respiratory-flooring",
   "metadata": {},
   "source": [
    "A nested list"
   ]
  },
  {
   "cell_type": "code",
   "execution_count": 15,
   "id": "available-forge",
   "metadata": {},
   "outputs": [
    {
     "data": {
      "text/html": [
       "<ol>\n",
       "\t<li>1</li>\n",
       "\t<li><ol>\n",
       "\t<li>'a'</li>\n",
       "\t<li>'b'</li>\n",
       "\t<li>'c'</li>\n",
       "</ol>\n",
       "</li>\n",
       "</ol>\n"
      ],
      "text/latex": [
       "\\begin{enumerate}\n",
       "\\item 1\n",
       "\\item \\begin{enumerate}\n",
       "\\item 'a'\n",
       "\\item 'b'\n",
       "\\item 'c'\n",
       "\\end{enumerate}\n",
       "\n",
       "\\end{enumerate}\n"
      ],
      "text/markdown": [
       "1. 1\n",
       "2. 1. 'a'\n",
       "2. 'b'\n",
       "3. 'c'\n",
       "\n",
       "\n",
       "\n",
       "\n",
       "\n"
      ],
      "text/plain": [
       "[[1]]\n",
       "[1] 1\n",
       "\n",
       "[[2]]\n",
       "[[2]][[1]]\n",
       "[1] \"a\"\n",
       "\n",
       "[[2]][[2]]\n",
       "[1] \"b\"\n",
       "\n",
       "[[2]][[3]]\n",
       "[1] \"c\"\n",
       "\n"
      ]
     },
     "metadata": {},
     "output_type": "display_data"
    }
   ],
   "source": [
    "mylist <- list(1, list(\"a\",\"b\",\"c\")) \n",
    "mylist"
   ]
  },
  {
   "cell_type": "markdown",
   "id": "younger-bridges",
   "metadata": {},
   "source": [
    "Just like vectors, you can do operations on each element of the list. However, since lists can be nested you have to worry about what level of nesting you want to manipulate."
   ]
  },
  {
   "cell_type": "code",
   "execution_count": 16,
   "id": "dangerous-mining",
   "metadata": {},
   "outputs": [
    {
     "data": {
      "text/html": [
       "1"
      ],
      "text/latex": [
       "1"
      ],
      "text/markdown": [
       "1"
      ],
      "text/plain": [
       "[1] 1"
      ]
     },
     "metadata": {},
     "output_type": "display_data"
    }
   ],
   "source": [
    "mylist[[1]]"
   ]
  },
  {
   "cell_type": "code",
   "execution_count": 17,
   "id": "eastern-vegetation",
   "metadata": {},
   "outputs": [
    {
     "data": {
      "text/html": [
       "<ol>\n",
       "\t<li>'a'</li>\n",
       "\t<li>'b'</li>\n",
       "\t<li>'c'</li>\n",
       "</ol>\n"
      ],
      "text/latex": [
       "\\begin{enumerate}\n",
       "\\item 'a'\n",
       "\\item 'b'\n",
       "\\item 'c'\n",
       "\\end{enumerate}\n"
      ],
      "text/markdown": [
       "1. 'a'\n",
       "2. 'b'\n",
       "3. 'c'\n",
       "\n",
       "\n"
      ],
      "text/plain": [
       "[[1]]\n",
       "[1] \"a\"\n",
       "\n",
       "[[2]]\n",
       "[1] \"b\"\n",
       "\n",
       "[[3]]\n",
       "[1] \"c\"\n"
      ]
     },
     "metadata": {},
     "output_type": "display_data"
    }
   ],
   "source": [
    "mylist[[2]]"
   ]
  },
  {
   "cell_type": "code",
   "execution_count": 18,
   "id": "declared-cannon",
   "metadata": {},
   "outputs": [
    {
     "data": {
      "text/html": [
       "'a'"
      ],
      "text/latex": [
       "'a'"
      ],
      "text/markdown": [
       "'a'"
      ],
      "text/plain": [
       "[1] \"a\""
      ]
     },
     "metadata": {},
     "output_type": "display_data"
    }
   ],
   "source": [
    "mylist[[2]][[1]]"
   ]
  },
  {
   "cell_type": "markdown",
   "id": "literary-dodge",
   "metadata": {},
   "source": [
    "*****\n",
    "[back to the top](#top)"
   ]
  },
  {
   "cell_type": "markdown",
   "id": "bulgarian-electron",
   "metadata": {},
   "source": [
    "<a id=\"indexing\"></a>\n",
    "## Indexing\n",
    "\n",
    "Okay, so let’s say you have made a vector, list, or data.frame. How do you get to the things in them? Its slightly different for each one. There is a general way to index objects in R that can be used across vectors, lists, and data.frame. That is the square bracket: []. For some objects you can index by the sequence number (e.g., 5 ) of the thing you want, while with others you can do that, but also index by the character name of the thing (e.g., kitty).\n",
    "\n",
    "\n",
    "### Indexing Vectors\n",
    "Vectors only have one dimension, as we said above. So with [] there is only one number to give here. For example, let’s say we have the vector"
   ]
  },
  {
   "cell_type": "code",
   "execution_count": 19,
   "id": "certain-nickname",
   "metadata": {},
   "outputs": [],
   "source": [
    "bb <- c(5,6,7)"
   ]
  },
  {
   "cell_type": "markdown",
   "id": "regulation-closer",
   "metadata": {},
   "source": [
    "We can index to each of those 3 numbers by the sequence of its place in the vector. Get the 6 by doing"
   ]
  },
  {
   "cell_type": "code",
   "execution_count": 20,
   "id": "destroyed-framing",
   "metadata": {},
   "outputs": [
    {
     "data": {
      "text/html": [
       "6"
      ],
      "text/latex": [
       "6"
      ],
      "text/markdown": [
       "6"
      ],
      "text/plain": [
       "[1] 6"
      ]
     },
     "metadata": {},
     "output_type": "display_data"
    }
   ],
   "source": [
    "bb[2]"
   ]
  },
  {
   "cell_type": "markdown",
   "id": "experienced-smoke",
   "metadata": {},
   "source": [
    "### Indexing Named Vectors\n",
    "\n",
    "is this a sub section?\n",
    "You can also have a named vector. What’s that? A named vector is like bb above, but each of the three elements has a name."
   ]
  },
  {
   "cell_type": "code",
   "execution_count": 21,
   "id": "printable-weekend",
   "metadata": {},
   "outputs": [
    {
     "data": {
      "text/html": [
       "<dl class=dl-horizontal>\n",
       "\t<dt>hey</dt>\n",
       "\t\t<dd>5</dd>\n",
       "\t<dt>hello</dt>\n",
       "\t\t<dd>6</dd>\n",
       "\t<dt>wadup</dt>\n",
       "\t\t<dd>7</dd>\n",
       "</dl>\n"
      ],
      "text/latex": [
       "\\begin{description*}\n",
       "\\item[hey] 5\n",
       "\\item[hello] 6\n",
       "\\item[wadup] 7\n",
       "\\end{description*}\n"
      ],
      "text/markdown": [
       "hey\n",
       ":   5hello\n",
       ":   6wadup\n",
       ":   7\n",
       "\n"
      ],
      "text/plain": [
       "  hey hello wadup \n",
       "    5     6     7 "
      ]
     },
     "metadata": {},
     "output_type": "display_data"
    }
   ],
   "source": [
    "bb <- c(5,6,7)\n",
    "names(bb) <- c(\"hey\",\"hello\",\"wadup\") \n",
    "bb"
   ]
  },
  {
   "cell_type": "code",
   "execution_count": 22,
   "id": "chemical-posting",
   "metadata": {},
   "outputs": [
    {
     "data": {
      "text/html": [
       "<ol class=list-inline>\n",
       "\t<li>'hey'</li>\n",
       "\t<li>'hello'</li>\n",
       "\t<li>'wadup'</li>\n",
       "</ol>\n"
      ],
      "text/latex": [
       "\\begin{enumerate*}\n",
       "\\item 'hey'\n",
       "\\item 'hello'\n",
       "\\item 'wadup'\n",
       "\\end{enumerate*}\n"
      ],
      "text/markdown": [
       "1. 'hey'\n",
       "2. 'hello'\n",
       "3. 'wadup'\n",
       "\n",
       "\n"
      ],
      "text/plain": [
       "[1] \"hey\"   \"hello\" \"wadup\""
      ]
     },
     "metadata": {},
     "output_type": "display_data"
    }
   ],
   "source": [
    "names(bb)"
   ]
  },
  {
   "cell_type": "markdown",
   "id": "prerequisite-myrtle",
   "metadata": {},
   "source": [
    "With a named vector we can get to each element in the vector using its name with a single set, or double set of brackets to get the value, or the value and name, respectively."
   ]
  },
  {
   "cell_type": "code",
   "execution_count": 23,
   "id": "offensive-twist",
   "metadata": {},
   "outputs": [
    {
     "data": {
      "text/html": [
       "<strong>hello:</strong> 6"
      ],
      "text/latex": [
       "\\textbf{hello:} 6"
      ],
      "text/markdown": [
       "**hello:** 6"
      ],
      "text/plain": [
       "hello \n",
       "    6 "
      ]
     },
     "metadata": {},
     "output_type": "display_data"
    }
   ],
   "source": [
    "bb[\"hello\"]"
   ]
  },
  {
   "cell_type": "code",
   "execution_count": 24,
   "id": "strong-median",
   "metadata": {},
   "outputs": [
    {
     "data": {
      "text/html": [
       "6"
      ],
      "text/latex": [
       "6"
      ],
      "text/markdown": [
       "6"
      ],
      "text/plain": [
       "[1] 6"
      ]
     },
     "metadata": {},
     "output_type": "display_data"
    }
   ],
   "source": [
    "bb[[\"hello\"]]"
   ]
  },
  {
   "cell_type": "markdown",
   "id": "spectacular-orientation",
   "metadata": {},
   "source": [
    "### Indexing Lists\n",
    "\n",
    "Indexing on lists is similar to vectors. A huge difference though is that lists can be nested. So there could be infinite things within each slot of a list. For example, let’s say we have the nested list from above <code>mylist</code>"
   ]
  },
  {
   "cell_type": "code",
   "execution_count": 25,
   "id": "golden-surprise",
   "metadata": {},
   "outputs": [],
   "source": [
    "mylist <- list(foo=1, bar=list(\"a\",\"b\",\"c\"))"
   ]
  },
  {
   "cell_type": "markdown",
   "id": "widespread-constitutional",
   "metadata": {},
   "source": [
    "We can index to the first item in the list, including its name, by"
   ]
  },
  {
   "cell_type": "code",
   "execution_count": 26,
   "id": "functional-rolling",
   "metadata": {},
   "outputs": [
    {
     "data": {
      "text/html": [
       "<strong>$foo</strong> = 1"
      ],
      "text/latex": [
       "\\textbf{\\$foo} = 1"
      ],
      "text/markdown": [
       "**$foo** = 1"
      ],
      "text/plain": [
       "$foo\n",
       "[1] 1\n"
      ]
     },
     "metadata": {},
     "output_type": "display_data"
    }
   ],
   "source": [
    "mylist[1]"
   ]
  },
  {
   "cell_type": "markdown",
   "id": "pharmaceutical-roads",
   "metadata": {},
   "source": [
    "Or equivalently"
   ]
  },
  {
   "cell_type": "code",
   "execution_count": 27,
   "id": "alert-equivalent",
   "metadata": {},
   "outputs": [
    {
     "data": {
      "text/html": [
       "<strong>$foo</strong> = 1"
      ],
      "text/latex": [
       "\\textbf{\\$foo} = 1"
      ],
      "text/markdown": [
       "**$foo** = 1"
      ],
      "text/plain": [
       "$foo\n",
       "[1] 1\n"
      ]
     },
     "metadata": {},
     "output_type": "display_data"
    }
   ],
   "source": [
    "mylist[\"foo\"]"
   ]
  },
  {
   "cell_type": "markdown",
   "id": "false-brave",
   "metadata": {},
   "source": [
    "And get just the value by using two ["
   ]
  },
  {
   "cell_type": "code",
   "execution_count": 28,
   "id": "boring-teens",
   "metadata": {},
   "outputs": [
    {
     "data": {
      "text/html": [
       "1"
      ],
      "text/latex": [
       "1"
      ],
      "text/markdown": [
       "1"
      ],
      "text/plain": [
       "[1] 1"
      ]
     },
     "metadata": {},
     "output_type": "display_data"
    }
   ],
   "source": [
    "mylist[[1]]"
   ]
  },
  {
   "cell_type": "markdown",
   "id": "caroline-interview",
   "metadata": {},
   "source": [
    "Or equivalently"
   ]
  },
  {
   "cell_type": "code",
   "execution_count": 29,
   "id": "inner-firmware",
   "metadata": {},
   "outputs": [
    {
     "data": {
      "text/html": [
       "1"
      ],
      "text/latex": [
       "1"
      ],
      "text/markdown": [
       "1"
      ],
      "text/plain": [
       "[1] 1"
      ]
     },
     "metadata": {},
     "output_type": "display_data"
    }
   ],
   "source": [
    "mylist[[\"foo\"]]"
   ]
  },
  {
   "cell_type": "markdown",
   "id": "legendary-quest",
   "metadata": {},
   "source": [
    "### Indexing data.frame and matrix"
   ]
  },
  {
   "cell_type": "markdown",
   "id": "necessary-culture",
   "metadata": {},
   "source": [
    "Indexing on a <code>data.frame</code> and <code>matrix</code> is similar. Both have two things to index on: <code>rows</code> and <code>columns</code>. Within [,], the part before the comma is for rows, and the part after the comma for columns. So if you have a data frame <code>iris</code> in R"
   ]
  },
  {
   "cell_type": "code",
   "execution_count": 38,
   "id": "dress-decline",
   "metadata": {},
   "outputs": [
    {
     "data": {
      "text/html": [
       "<table>\n",
       "<thead><tr><th scope=col>Sepal.Length</th><th scope=col>Sepal.Width</th><th scope=col>Petal.Length</th><th scope=col>Petal.Width</th><th scope=col>Species</th></tr></thead>\n",
       "<tbody>\n",
       "\t<tr><td>5.1   </td><td>3.5   </td><td>1.4   </td><td>0.2   </td><td>setosa</td></tr>\n",
       "\t<tr><td>4.9   </td><td>3.0   </td><td>1.4   </td><td>0.2   </td><td>setosa</td></tr>\n",
       "\t<tr><td>4.7   </td><td>3.2   </td><td>1.3   </td><td>0.2   </td><td>setosa</td></tr>\n",
       "\t<tr><td>4.6   </td><td>3.1   </td><td>1.5   </td><td>0.2   </td><td>setosa</td></tr>\n",
       "\t<tr><td>5.0   </td><td>3.6   </td><td>1.4   </td><td>0.2   </td><td>setosa</td></tr>\n",
       "\t<tr><td>5.4   </td><td>3.9   </td><td>1.7   </td><td>0.4   </td><td>setosa</td></tr>\n",
       "</tbody>\n",
       "</table>\n"
      ],
      "text/latex": [
       "\\begin{tabular}{r|lllll}\n",
       " Sepal.Length & Sepal.Width & Petal.Length & Petal.Width & Species\\\\\n",
       "\\hline\n",
       "\t 5.1    & 3.5    & 1.4    & 0.2    & setosa\\\\\n",
       "\t 4.9    & 3.0    & 1.4    & 0.2    & setosa\\\\\n",
       "\t 4.7    & 3.2    & 1.3    & 0.2    & setosa\\\\\n",
       "\t 4.6    & 3.1    & 1.5    & 0.2    & setosa\\\\\n",
       "\t 5.0    & 3.6    & 1.4    & 0.2    & setosa\\\\\n",
       "\t 5.4    & 3.9    & 1.7    & 0.4    & setosa\\\\\n",
       "\\end{tabular}\n"
      ],
      "text/markdown": [
       "\n",
       "| Sepal.Length | Sepal.Width | Petal.Length | Petal.Width | Species |\n",
       "|---|---|---|---|---|\n",
       "| 5.1    | 3.5    | 1.4    | 0.2    | setosa |\n",
       "| 4.9    | 3.0    | 1.4    | 0.2    | setosa |\n",
       "| 4.7    | 3.2    | 1.3    | 0.2    | setosa |\n",
       "| 4.6    | 3.1    | 1.5    | 0.2    | setosa |\n",
       "| 5.0    | 3.6    | 1.4    | 0.2    | setosa |\n",
       "| 5.4    | 3.9    | 1.7    | 0.4    | setosa |\n",
       "\n"
      ],
      "text/plain": [
       "  Sepal.Length Sepal.Width Petal.Length Petal.Width Species\n",
       "1 5.1          3.5         1.4          0.2         setosa \n",
       "2 4.9          3.0         1.4          0.2         setosa \n",
       "3 4.7          3.2         1.3          0.2         setosa \n",
       "4 4.6          3.1         1.5          0.2         setosa \n",
       "5 5.0          3.6         1.4          0.2         setosa \n",
       "6 5.4          3.9         1.7          0.4         setosa "
      ]
     },
     "metadata": {},
     "output_type": "display_data"
    }
   ],
   "source": [
    "head(iris)"
   ]
  },
  {
   "cell_type": "markdown",
   "id": "private-magnet",
   "metadata": {},
   "source": [
    "You can index to the third row and second column by doing"
   ]
  },
  {
   "cell_type": "code",
   "execution_count": 39,
   "id": "lyric-domestic",
   "metadata": {},
   "outputs": [
    {
     "data": {
      "text/html": [
       "3.2"
      ],
      "text/latex": [
       "3.2"
      ],
      "text/markdown": [
       "3.2"
      ],
      "text/plain": [
       "[1] 3.2"
      ]
     },
     "metadata": {},
     "output_type": "display_data"
    }
   ],
   "source": [
    "iris[3,2]"
   ]
  },
  {
   "cell_type": "markdown",
   "id": "collaborative-artwork",
   "metadata": {},
   "source": [
    "You can also use names to index if you have named rows or columns. For example,"
   ]
  },
  {
   "cell_type": "code",
   "execution_count": 40,
   "id": "fuzzy-blake",
   "metadata": {},
   "outputs": [
    {
     "data": {
      "text/html": [
       "setosa\n",
       "<details>\n",
       "\t<summary style=display:list-item;cursor:pointer>\n",
       "\t\t<strong>Levels</strong>:\n",
       "\t</summary>\n",
       "\t<ol class=list-inline>\n",
       "\t\t<li>'setosa'</li>\n",
       "\t\t<li>'versicolor'</li>\n",
       "\t\t<li>'virginica'</li>\n",
       "\t</ol>\n",
       "</details>"
      ],
      "text/latex": [
       "setosa\n",
       "\\emph{Levels}: \\begin{enumerate*}\n",
       "\\item 'setosa'\n",
       "\\item 'versicolor'\n",
       "\\item 'virginica'\n",
       "\\end{enumerate*}\n"
      ],
      "text/markdown": [
       "setosa\n",
       "**Levels**: 1. 'setosa'\n",
       "2. 'versicolor'\n",
       "3. 'virginica'\n",
       "\n",
       "\n"
      ],
      "text/plain": [
       "[1] setosa\n",
       "Levels: setosa versicolor virginica"
      ]
     },
     "metadata": {},
     "output_type": "display_data"
    }
   ],
   "source": [
    "iris[2,\"Species\"]"
   ]
  },
  {
   "cell_type": "markdown",
   "id": "national-crest",
   "metadata": {},
   "source": [
    "You can also use the $ symbol to index to a column, like"
   ]
  },
  {
   "cell_type": "code",
   "execution_count": 41,
   "id": "executive-laundry",
   "metadata": {},
   "outputs": [
    {
     "data": {
      "text/html": [
       "<ol class=list-inline>\n",
       "\t<li>21</li>\n",
       "\t<li>21</li>\n",
       "\t<li>22.8</li>\n",
       "\t<li>21.4</li>\n",
       "\t<li>18.7</li>\n",
       "\t<li>18.1</li>\n",
       "\t<li>14.3</li>\n",
       "\t<li>24.4</li>\n",
       "\t<li>22.8</li>\n",
       "\t<li>19.2</li>\n",
       "\t<li>17.8</li>\n",
       "\t<li>16.4</li>\n",
       "\t<li>17.3</li>\n",
       "\t<li>15.2</li>\n",
       "\t<li>10.4</li>\n",
       "\t<li>10.4</li>\n",
       "\t<li>14.7</li>\n",
       "\t<li>32.4</li>\n",
       "\t<li>30.4</li>\n",
       "\t<li>33.9</li>\n",
       "\t<li>21.5</li>\n",
       "\t<li>15.5</li>\n",
       "\t<li>15.2</li>\n",
       "\t<li>13.3</li>\n",
       "\t<li>19.2</li>\n",
       "\t<li>27.3</li>\n",
       "\t<li>26</li>\n",
       "\t<li>30.4</li>\n",
       "\t<li>15.8</li>\n",
       "\t<li>19.7</li>\n",
       "\t<li>15</li>\n",
       "\t<li>21.4</li>\n",
       "</ol>\n"
      ],
      "text/latex": [
       "\\begin{enumerate*}\n",
       "\\item 21\n",
       "\\item 21\n",
       "\\item 22.8\n",
       "\\item 21.4\n",
       "\\item 18.7\n",
       "\\item 18.1\n",
       "\\item 14.3\n",
       "\\item 24.4\n",
       "\\item 22.8\n",
       "\\item 19.2\n",
       "\\item 17.8\n",
       "\\item 16.4\n",
       "\\item 17.3\n",
       "\\item 15.2\n",
       "\\item 10.4\n",
       "\\item 10.4\n",
       "\\item 14.7\n",
       "\\item 32.4\n",
       "\\item 30.4\n",
       "\\item 33.9\n",
       "\\item 21.5\n",
       "\\item 15.5\n",
       "\\item 15.2\n",
       "\\item 13.3\n",
       "\\item 19.2\n",
       "\\item 27.3\n",
       "\\item 26\n",
       "\\item 30.4\n",
       "\\item 15.8\n",
       "\\item 19.7\n",
       "\\item 15\n",
       "\\item 21.4\n",
       "\\end{enumerate*}\n"
      ],
      "text/markdown": [
       "1. 21\n",
       "2. 21\n",
       "3. 22.8\n",
       "4. 21.4\n",
       "5. 18.7\n",
       "6. 18.1\n",
       "7. 14.3\n",
       "8. 24.4\n",
       "9. 22.8\n",
       "10. 19.2\n",
       "11. 17.8\n",
       "12. 16.4\n",
       "13. 17.3\n",
       "14. 15.2\n",
       "15. 10.4\n",
       "16. 10.4\n",
       "17. 14.7\n",
       "18. 32.4\n",
       "19. 30.4\n",
       "20. 33.9\n",
       "21. 21.5\n",
       "22. 15.5\n",
       "23. 15.2\n",
       "24. 13.3\n",
       "25. 19.2\n",
       "26. 27.3\n",
       "27. 26\n",
       "28. 30.4\n",
       "29. 15.8\n",
       "30. 19.7\n",
       "31. 15\n",
       "32. 21.4\n",
       "\n",
       "\n"
      ],
      "text/plain": [
       " [1] 21.0 21.0 22.8 21.4 18.7 18.1 14.3 24.4 22.8 19.2 17.8 16.4 17.3 15.2 10.4\n",
       "[16] 10.4 14.7 32.4 30.4 33.9 21.5 15.5 15.2 13.3 19.2 27.3 26.0 30.4 15.8 19.7\n",
       "[31] 15.0 21.4"
      ]
     },
     "metadata": {},
     "output_type": "display_data"
    }
   ],
   "source": [
    "mtcars$mpg"
   ]
  },
  {
   "cell_type": "markdown",
   "id": "mexican-heavy",
   "metadata": {},
   "source": [
    "*****\n",
    "[back to the top](#top)"
   ]
  },
  {
   "cell_type": "markdown",
   "id": "conceptual-ebony",
   "metadata": {},
   "source": [
    "<a id=\"ifstatement\"></a>\n",
    "## If Statement\n",
    "\n",
    "Example of an if statement in real life could be:\n",
    "\n",
    "*If it rains I bring my umbrella.*\n",
    "\n",
    "The syntax of if statement is:"
   ]
  },
  {
   "cell_type": "markdown",
   "id": "59ae4cd0",
   "metadata": {},
   "source": [
    "```\n",
    "if (test_expression) {\n",
    "  statement\n",
    "}\n",
    "```"
   ]
  },
  {
   "cell_type": "markdown",
   "id": "false-bidding",
   "metadata": {},
   "source": [
    "If the test_expression is <code>TRUE</code>, the statement gets executed. But if it’s <code>FALSE</code>, nothing happens. Here, test_expression can be a logical or numeric vector, but only the first element is taken into consideration. In the case of numeric vector, zero is taken as <code>FALSE</code>, rest as <code>TRUE</code>"
   ]
  },
  {
   "cell_type": "code",
   "execution_count": 47,
   "id": "trained-jordan",
   "metadata": {},
   "outputs": [
    {
     "name": "stdout",
     "output_type": "stream",
     "text": [
      "[1] \"Positive number\"\n"
     ]
    }
   ],
   "source": [
    "x <- 5\n",
    "if(x > 0){\n",
    "  print(\"Positive number\")\n",
    "}"
   ]
  },
  {
   "cell_type": "markdown",
   "id": "infinite-compact",
   "metadata": {},
   "source": [
    "*****\n",
    "[back to the top](#top)"
   ]
  },
  {
   "cell_type": "markdown",
   "id": "boring-drama",
   "metadata": {},
   "source": [
    "<a id=\"ifelsestatement\"></a>\n",
    "## If...else Statement\n",
    "\n",
    "Example of an If else statement in real life could be: \n",
    "\n",
    "*If it rains then I will bring my umbrella if not (else) then let's go*\n",
    "\n",
    "The syntax of if… else statement is:\n"
   ]
  },
  {
   "cell_type": "code",
   "execution_count": 51,
   "id": "frozen-tennis",
   "metadata": {},
   "outputs": [
    {
     "name": "stdout",
     "output_type": "stream",
     "text": [
      "[1] \"Negative number\"\n"
     ]
    }
   ],
   "source": [
    "x <- -5\n",
    "if(x > 0){\n",
    "  print(\"Non-negative number\")\n",
    "} else {\n",
    "  print(\"Negative number\")\n",
    "}"
   ]
  },
  {
   "cell_type": "markdown",
   "id": "published-ladder",
   "metadata": {},
   "source": [
    "*****\n",
    "[back to the top](#top)"
   ]
  },
  {
   "cell_type": "markdown",
   "id": "sixth-sewing",
   "metadata": {},
   "source": [
    "<a id=\"forloop\"></a>\n",
    "## For Loop\n",
    "\n",
    "Loops allow you to automate your code when are used in programming to repeat a specific block of code."
   ]
  },
  {
   "cell_type": "markdown",
   "id": "0948fa65",
   "metadata": {},
   "source": [
    "```\n",
    "for (val in sequence)\n",
    "{\n",
    "  statement\n",
    "}\n",
    "```"
   ]
  },
  {
   "cell_type": "markdown",
   "id": "harmful-algeria",
   "metadata": {},
   "source": [
    "Here, sequence is a vector and val takes on each of its value during the loop. In each iteration, statement is evaluated.\n",
    "\n",
    "### Example: for loop\n",
    "\n",
    "Below is an example to count the number of even numbers in a vector."
   ]
  },
  {
   "cell_type": "code",
   "execution_count": 54,
   "id": "chemical-breast",
   "metadata": {},
   "outputs": [
    {
     "name": "stdout",
     "output_type": "stream",
     "text": [
      "[1] 3\n"
     ]
    }
   ],
   "source": [
    "x <- c(2,5,3,9,8,11,6)\n",
    "count <- 0\n",
    "for (val in x) {\n",
    "  if(val %% 2 == 0)  \n",
    "    count = count+1\n",
    "}\n",
    "print(count)"
   ]
  },
  {
   "cell_type": "markdown",
   "id": "preliminary-highlight",
   "metadata": {},
   "source": [
    "*****\n",
    "[back to the top](#top)"
   ]
  },
  {
   "cell_type": "markdown",
   "id": "extended-anthony",
   "metadata": {},
   "source": [
    "<a id=\"functions\"></a>\n",
    "## Functions\n",
    "\n",
    "Cats are the type of feline to love functions. Functions make your life easier by allowing you to generalize many lines of code, and avoiding repeating yourself. Functions make your work tidier - just like cats like it. Functions are written like this"
   ]
  },
  {
   "cell_type": "code",
   "execution_count": 4,
   "id": "f8750274",
   "metadata": {},
   "outputs": [],
   "source": [
    "I_want_to_add <- function(){\n",
    "  2 + 3\n",
    "}"
   ]
  },
  {
   "cell_type": "code",
   "execution_count": 5,
   "id": "43c816cb",
   "metadata": {},
   "outputs": [
    {
     "data": {
      "text/html": [
       "5"
      ],
      "text/latex": [
       "5"
      ],
      "text/markdown": [
       "5"
      ],
      "text/plain": [
       "[1] 5"
      ]
     },
     "metadata": {},
     "output_type": "display_data"
    }
   ],
   "source": [
    "I_want_to_add()"
   ]
  },
  {
   "cell_type": "code",
   "execution_count": 6,
   "id": "879d91c6",
   "metadata": {},
   "outputs": [],
   "source": [
    "I_want_to_add <- function(a, b){\n",
    "  a + b\n",
    "}"
   ]
  },
  {
   "cell_type": "code",
   "execution_count": 7,
   "id": "47709280",
   "metadata": {},
   "outputs": [
    {
     "data": {
      "text/html": [
       "12"
      ],
      "text/latex": [
       "12"
      ],
      "text/markdown": [
       "12"
      ],
      "text/plain": [
       "[1] 12"
      ]
     },
     "metadata": {},
     "output_type": "display_data"
    }
   ],
   "source": [
    "I_want_to_add(5,7)"
   ]
  },
  {
   "cell_type": "markdown",
   "id": "887f8781",
   "metadata": {},
   "source": [
    "__Do it yourself: change the value to 27, 12 and see the result__"
   ]
  },
  {
   "cell_type": "markdown",
   "id": "b75375e2",
   "metadata": {},
   "source": [
    "#### Function within function"
   ]
  },
  {
   "cell_type": "code",
   "execution_count": 55,
   "id": "subsequent-noise",
   "metadata": {},
   "outputs": [],
   "source": [
    "foo <- function(){\n",
    "  writeLines(\"Being a cat, I strongly dislike dogs\")\n",
    "}"
   ]
  },
  {
   "cell_type": "markdown",
   "id": "advisory-switch",
   "metadata": {},
   "source": [
    "Now call the <code>function</code>"
   ]
  },
  {
   "cell_type": "code",
   "execution_count": 56,
   "id": "authentic-roulette",
   "metadata": {},
   "outputs": [
    {
     "name": "stdout",
     "output_type": "stream",
     "text": [
      "Being a cat, I strongly dislike dogs\n"
     ]
    }
   ],
   "source": [
    "foo()"
   ]
  },
  {
   "cell_type": "markdown",
   "id": "continuing-gospel",
   "metadata": {},
   "source": [
    "The foo function was pretty simple. We can also pass in parameters to the function."
   ]
  },
  {
   "cell_type": "code",
   "execution_count": 57,
   "id": "surprised-cleaner",
   "metadata": {},
   "outputs": [],
   "source": [
    "foo <- function(printVal){ \n",
    "  writeLines(printVal)\n",
    "}"
   ]
  },
  {
   "cell_type": "code",
   "execution_count": 58,
   "id": "ceramic-criterion",
   "metadata": {},
   "outputs": [
    {
     "name": "stdout",
     "output_type": "stream",
     "text": [
      "Being a cat, I strongly dislike dogs\n"
     ]
    }
   ],
   "source": [
    "foo(\"Being a cat, I strongly dislike dogs\")"
   ]
  },
  {
   "cell_type": "markdown",
   "id": "vocal-municipality",
   "metadata": {},
   "source": [
    "And set parameters to default values."
   ]
  },
  {
   "cell_type": "code",
   "execution_count": 59,
   "id": "lonely-deviation",
   "metadata": {},
   "outputs": [],
   "source": [
    "foo <- function(printVal = \"Being a cat, I strongly dislike dogs\"){ \n",
    "  writeLines(printVal)\n",
    "}"
   ]
  },
  {
   "cell_type": "code",
   "execution_count": 60,
   "id": "complete-aquatic",
   "metadata": {},
   "outputs": [
    {
     "name": "stdout",
     "output_type": "stream",
     "text": [
      "Being a cat, I strongly dislike dogs\n"
     ]
    }
   ],
   "source": [
    "foo()"
   ]
  },
  {
   "cell_type": "code",
   "execution_count": 61,
   "id": "incorporated-style",
   "metadata": {},
   "outputs": [
    {
     "name": "stdout",
     "output_type": "stream",
     "text": [
      "I print whatever I like\n"
     ]
    }
   ],
   "source": [
    "foo('I print whatever I like')"
   ]
  },
  {
   "cell_type": "markdown",
   "id": "super-anthropology",
   "metadata": {},
   "source": [
    "*****\n",
    "[back to the top](#top)"
   ]
  },
  {
   "cell_type": "markdown",
   "id": "aef5c68f",
   "metadata": {},
   "source": [
    "## R console\n",
    "Writing code is fun. So open up R, and you’ll see something like this:\n",
    "![R console](images/R_Console.png)\n",
    "\n",
    "## R studio\n",
    "when loading R-Studio it will look like this\n",
    "![R-Studio](images/R-Studio.png)"
   ]
  },
  {
   "cell_type": "markdown",
   "id": "815c77a9",
   "metadata": {},
   "source": [
    "____________"
   ]
  },
  {
   "cell_type": "markdown",
   "id": "white-circumstances",
   "metadata": {},
   "source": [
    "<a id=\"yourturn\"></a>\n",
    "## Your Turn\n"
   ]
  },
  {
   "cell_type": "markdown",
   "id": "pediatric-composite",
   "metadata": {
    "solution2": "hidden",
    "solution2_first": true
   },
   "source": [
    "<div class=\"alert alert-block alert-info\">\n",
    "    <b>Task 1</b><br/>\n",
    "   <p> Write a chunk of code that converts 24 hour time into am/pm. If the time is more than 12 then it says it is now pm otherwise it says it is now am. Think about how to split the sequence of hours up into before midday and afterwards in order to write a simple if else statement</p> \n",
    "</div>"
   ]
  },
  {
   "cell_type": "code",
   "execution_count": 68,
   "id": "bizarre-writer",
   "metadata": {
    "hide_input": false,
    "solution": "hidden",
    "solution2": "hidden",
    "solution_first": true
   },
   "outputs": [
    {
     "name": "stdout",
     "output_type": "stream",
     "text": [
      "[1] \"It is now pm\"\n"
     ]
    }
   ],
   "source": [
    "inputTime <- 13\n",
    "if(inputTime > 12){\n",
    "  print('It is now pm')\n",
    "}else{\n",
    "  print(\"It is now am\")\n",
    "}\n",
    "\n"
   ]
  },
  {
   "cell_type": "markdown",
   "id": "prescribed-services",
   "metadata": {
    "solution2": "hidden",
    "solution2_first": true
   },
   "source": [
    "<div class=\"alert alert-block alert-info\">\n",
    "    <b>Task 2</b></br>\n",
    "<p>Write for loop to calculate the first 10 terms of Fibonacci sequence.<br/>\n",
    "The Fibonacci Sequence is the series of numbers: 0, 1, 1, 2, 3, 5, 8, 13, 21, 34,… i.e. the third number is calculated by adding up the two numbers before it:<br/>\n",
    "[Hint: Assign the first two numbers in two variables and iterate from third variable]</p>\n",
    "</div>"
   ]
  },
  {
   "cell_type": "code",
   "execution_count": 69,
   "id": "south-intake",
   "metadata": {
    "hide_input": false,
    "solution": "hidden",
    "solution2": "hidden",
    "solution_first": true
   },
   "outputs": [
    {
     "name": "stdout",
     "output_type": "stream",
     "text": [
      "[1] 0\n"
     ]
    }
   ],
   "source": [
    "a <- 0\n",
    "b <- 1\n",
    "print(a)"
   ]
  },
  {
   "cell_type": "code",
   "execution_count": 70,
   "id": "nominated-white",
   "metadata": {
    "solution2": "hidden"
   },
   "outputs": [
    {
     "name": "stdout",
     "output_type": "stream",
     "text": [
      "[1] 1\n"
     ]
    }
   ],
   "source": [
    "print(b)"
   ]
  },
  {
   "cell_type": "code",
   "execution_count": 71,
   "id": "scenic-fraction",
   "metadata": {
    "solution2": "hidden"
   },
   "outputs": [
    {
     "name": "stdout",
     "output_type": "stream",
     "text": [
      "[1] 1\n",
      "[1] 2\n",
      "[1] 3\n",
      "[1] 5\n",
      "[1] 8\n",
      "[1] 13\n",
      "[1] 21\n",
      "[1] 34\n"
     ]
    }
   ],
   "source": [
    "for(i in 1:8){\n",
    "  c <- a + b\n",
    "  print(c)\n",
    "  a <- b\n",
    "  b <- c\n",
    "}"
   ]
  },
  {
   "cell_type": "markdown",
   "id": "coral-strain",
   "metadata": {
    "solution2": "hidden",
    "solution2_first": true
   },
   "source": [
    "<div class=\"alert alert-block alert-info\">\n",
    "    <b>Task 3</b> </br>\n",
    "<p>Write a function that will say whether a number is prime or not.\n",
    "</br>\n",
    "[Hint: <code>%%</code> would give you the reminder of the calculation. For eg. <code>5%%2</code> will give you <code>1</code>]</p>"
   ]
  },
  {
   "cell_type": "code",
   "execution_count": 1,
   "id": "accomplished-volume",
   "metadata": {
    "solution2": "hidden"
   },
   "outputs": [],
   "source": [
    "find_prime <- function(val){\n",
    "  count <- 0\n",
    "  for (i in 2:(val/2)) {\n",
    "    if(val%%i == 0)\n",
    "      count = count + 1\n",
    "  }\n",
    "  #print(count)\n",
    "  if(count > 0)\n",
    "    print('It is not a prime number')\n",
    "  else\n",
    "    print('It is a prime number')\n",
    "}\n"
   ]
  },
  {
   "cell_type": "code",
   "execution_count": 2,
   "id": "boxed-block",
   "metadata": {
    "solution2": "hidden"
   },
   "outputs": [
    {
     "name": "stdout",
     "output_type": "stream",
     "text": [
      "[1] \"It is a prime number\"\n"
     ]
    }
   ],
   "source": [
    "find_prime(23)"
   ]
  },
  {
   "cell_type": "code",
   "execution_count": 3,
   "id": "mighty-kidney",
   "metadata": {
    "solution2": "hidden"
   },
   "outputs": [
    {
     "name": "stdout",
     "output_type": "stream",
     "text": [
      "[1] \"It is not a prime number\"\n"
     ]
    }
   ],
   "source": [
    "find_prime(21)"
   ]
  },
  {
   "cell_type": "markdown",
   "id": "convinced-consultation",
   "metadata": {},
   "source": [
    "*****\n",
    "[back to the top](#top)"
   ]
  },
  {
   "cell_type": "markdown",
   "id": "vital-capacity",
   "metadata": {},
   "source": [
    "### Notebook details\n",
    "<br>\n",
    "<i>Notebook created by <strong>Syed Murtaza Baker</strong>. Other contributors include Fran Hooley... \n",
    "\n",
    "Publish date: May 2021<br>\n",
    "Review date: May 2022</i>\n",
    "\n",
    "Please give your feedback using the button below:"
   ]
  },
  {
   "cell_type": "markdown",
   "id": "basic-compact",
   "metadata": {},
   "source": [
    "****\n",
    "\n",
    "## Notes:\n"
   ]
  },
  {
   "cell_type": "code",
   "execution_count": null,
   "id": "informational-tiger",
   "metadata": {},
   "outputs": [],
   "source": []
  },
  {
   "cell_type": "code",
   "execution_count": null,
   "id": "unavailable-backup",
   "metadata": {},
   "outputs": [],
   "source": []
  },
  {
   "cell_type": "code",
   "execution_count": null,
   "id": "cosmetic-store",
   "metadata": {},
   "outputs": [],
   "source": []
  }
 ],
 "metadata": {
  "kernelspec": {
   "display_name": "R",
   "language": "R",
   "name": "ir"
  },
  "language_info": {
   "codemirror_mode": "r",
   "file_extension": ".r",
   "mimetype": "text/x-r-source",
   "name": "R",
   "pygments_lexer": "r",
   "version": "4.1.1"
  }
 },
 "nbformat": 4,
 "nbformat_minor": 5
}

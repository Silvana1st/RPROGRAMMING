{
 "cells": [
  {
   "cell_type": "markdown",
   "id": "particular-audio",
   "metadata": {},
   "source": [
    "<img src=\"images/banner_introRProg.png\" align=\"left\" />"
   ]
  },
  {
   "cell_type": "markdown",
   "id": "alien-austria",
   "metadata": {},
   "source": [
    "<table style=\"float:right;\">\n",
    "    <tr>\n",
    "        <td>                      \n",
    "            <div style=\"text-align: right\"><a href=\"https://www.research.manchester.ac.uk/portal/syed.murtuzabaker.html\" target=\"_blank\">Syed Murtuza Baker</a></div>\n",
    "            <div style=\"text-align: right\">Research Fellow</div>\n",
    "            <div style=\"text-align: right\">University of Manchester</div>\n",
    "         </td>\n",
    "         <td>\n",
    "             <img src=\"images/Syed_Baker.jpg\" width=\"50%\" />\n",
    "         </td>\n",
    "     </tr>\n",
    "</table>"
   ]
  },
  {
   "cell_type": "markdown",
   "id": "dense-operator",
   "metadata": {},
   "source": [
    "# Introduction to Tidyverse\n",
    "****"
   ]
  },
  {
   "cell_type": "markdown",
   "id": "suspended-investing",
   "metadata": {},
   "source": [
    "#### About this Notebook\n",
    "This notebook introduces Tidyverse"
   ]
  },
  {
   "cell_type": "markdown",
   "id": "charming-survey",
   "metadata": {},
   "source": [
    "Level: <code>beginner</code> "
   ]
  },
  {
   "cell_type": "markdown",
   "id": "congressional-georgia",
   "metadata": {},
   "source": [
    "Duration: Approximately 2 hours to complete"
   ]
  },
  {
   "cell_type": "markdown",
   "id": "acknowledged-parker",
   "metadata": {},
   "source": [
    "<div class=\"alert alert-block alert-warning\"><b>Learning Objectives:</b> \n",
    "<br/> At the end of this notebook you will be able to:\n",
    "    \n",
    "- Describe the features of the Tidyverse R package\n",
    "    \n",
    "- Explain the use of different functions such as Tibble, Pipe, \n",
    "    \n",
    "- Explore deployr, Mutate, Slice & Arrange\n",
    "\n",
    "\n",
    "</div> "
   ]
  },
  {
   "cell_type": "markdown",
   "id": "genetic-boulder",
   "metadata": {},
   "source": [
    "<a id=\"top\"></a>\n",
    "\n",
    "<b>Table of contents</b><br>\n",
    "\n",
    "1.0 [Introduction](#intro)\n",
    "\n",
    "2.0 [About Tidyverse](#tidyverse)\n",
    "\n",
    "3.0 [Your Turn](#yourturn)\n",
    "\n",
    "*****"
   ]
  },
  {
   "cell_type": "markdown",
   "id": "metropolitan-bristol",
   "metadata": {},
   "source": [
    "<a id=\"intro\"></a>\n",
    "\n",
    "## Introduction\n",
    "\n",
    "R is ... link to other notebook\n",
    "\n",
    "This notebook... \n",
    "\n",
    "For help in using this Jupyter notebook please refer to the [Jupyter Notebook User Guide](https://online.manchester.ac.uk/bbcswebdav/orgs/I3116-ADHOC-I3HS-HUB-1/Jupyter%20Notebooks/content/index.html#/)\n",
    "\n",
    "\n",
    "\n"
   ]
  },
  {
   "cell_type": "markdown",
   "id": "august-sudan",
   "metadata": {},
   "source": [
    "\n",
    "*****\n",
    "[back to the top](#top)"
   ]
  },
  {
   "cell_type": "markdown",
   "id": "modern-ready",
   "metadata": {},
   "source": [
    "<a id=\"tidyverse\"></a>\n",
    "\n",
    "## About Tidyverse"
   ]
  },
  {
   "cell_type": "markdown",
   "id": "later-accreditation",
   "metadata": {},
   "source": [
    "tidyverse.org defines Tidyverse as\n",
    "\n",
    ">The tidyverse is an opinionated collection of R packages designed for data science. All packages share an underlying design philosophy, grammar, and data structures."
   ]
  },
  {
   "cell_type": "code",
   "execution_count": 1,
   "id": "seventh-shipping",
   "metadata": {},
   "outputs": [
    {
     "name": "stderr",
     "output_type": "stream",
     "text": [
      "Registered S3 methods overwritten by 'ggplot2':\n",
      "  method         from \n",
      "  [.quosures     rlang\n",
      "  c.quosures     rlang\n",
      "  print.quosures rlang\n",
      "Registered S3 method overwritten by 'rvest':\n",
      "  method            from\n",
      "  read_xml.response xml2\n",
      "-- Attaching packages --------------------------------------- tidyverse 1.2.1 --\n",
      "v ggplot2 3.1.1       v purrr   0.3.2  \n",
      "v tibble  2.1.1       v dplyr   0.8.0.1\n",
      "v tidyr   0.8.3       v stringr 1.4.0  \n",
      "v readr   1.3.1       v forcats 0.4.0  \n",
      "-- Conflicts ------------------------------------------ tidyverse_conflicts() --\n",
      "x dplyr::filter() masks stats::filter()\n",
      "x dplyr::lag()    masks stats::lag()\n"
     ]
    },
    {
     "ename": "ERROR",
     "evalue": "Error in library(scater): there is no package called 'scater'\n",
     "output_type": "error",
     "traceback": [
      "Error in library(scater): there is no package called 'scater'\nTraceback:\n",
      "1. library(scater)"
     ]
    }
   ],
   "source": [
    "library(tidyverse)\n",
    "library(dplyr)\n",
    "library(scater)"
   ]
  },
  {
   "cell_type": "markdown",
   "id": "greenhouse-turtle",
   "metadata": {},
   "source": [
    "We will use single-cell RNA sequencing on 6826 stem cells from Chronic myelomonocytic leukaemia (CMML) patients and healthy controls using the droplet-based, ultra-high-throughput 10x platform. We found substantial inter and intra-patient heterogeneity, with CMML stem cells displaying distinctive transcriptional programs. Compared with normal controls, CMML stem cells exhibited transcriptomes characterized by increased expression of myeloid-lineage and cell cycle genes, and lower expression of genes selectively expressed by normal haematopoietic stem cells."
   ]
  },
  {
   "cell_type": "code",
   "execution_count": null,
   "id": "wrapped-fellow",
   "metadata": {},
   "outputs": [],
   "source": [
    "sce <- readRDS('sce.rds')\n",
    "sce"
   ]
  },
  {
   "cell_type": "markdown",
   "id": "adaptive-monitor",
   "metadata": {},
   "source": [
    "*****\n",
    "[back to the top](#top)"
   ]
  },
  {
   "cell_type": "markdown",
   "id": "charitable-replacement",
   "metadata": {},
   "source": [
    "### Tibble\n",
    "\n",
    "Tibbles are data-frames\n",
    "tibble() does much less: it never changes the type of the inputs (e.g. it never converts strings to factors!)\n",
    "it never changes the names of variables, and it never creates row names.\n",
    "tibble can have column names that are not valid R variable names, aka non-syntactic names."
   ]
  },
  {
   "cell_type": "code",
   "execution_count": 2,
   "id": "public-bruce",
   "metadata": {},
   "outputs": [
    {
     "data": {
      "text/html": [
       "<table>\n",
       "<thead><tr><th scope=col>:)</th><th scope=col> </th><th scope=col>2000</th></tr></thead>\n",
       "<tbody>\n",
       "\t<tr><td>smile </td><td>space </td><td>number</td></tr>\n",
       "</tbody>\n",
       "</table>\n"
      ],
      "text/latex": [
       "\\begin{tabular}{r|lll}\n",
       " :) &   & 2000\\\\\n",
       "\\hline\n",
       "\t smile  & space  & number\\\\\n",
       "\\end{tabular}\n"
      ],
      "text/markdown": [
       "\n",
       "| :) |   | 2000 |\n",
       "|---|---|---|\n",
       "| smile  | space  | number |\n",
       "\n"
      ],
      "text/plain": [
       "  :)          2000  \n",
       "1 smile space number"
      ]
     },
     "metadata": {},
     "output_type": "display_data"
    }
   ],
   "source": [
    "tb <- tibble(\n",
    "  `:)` = \"smile\", \n",
    "  ` ` = \"space\",\n",
    "  `2000` = \"number\"\n",
    ")\n",
    "tb"
   ]
  },
  {
   "cell_type": "markdown",
   "id": "narrative-playback",
   "metadata": {},
   "source": [
    "### Pipe %>%\n",
    "\n",
    "Pipe %>% passes the output from one stage to the other."
   ]
  },
  {
   "cell_type": "code",
   "execution_count": 3,
   "id": "prescription-landing",
   "metadata": {},
   "outputs": [
    {
     "ename": "ERROR",
     "evalue": "Error in colData(sce): could not find function \"colData\"\n",
     "output_type": "error",
     "traceback": [
      "Error in colData(sce): could not find function \"colData\"\nTraceback:\n",
      "1. tbl_df(colData(sce))",
      "2. as_tibble(data, .name_repair = \"check_unique\")"
     ]
    }
   ],
   "source": [
    "tbl_df(colData(sce))"
   ]
  },
  {
   "cell_type": "code",
   "execution_count": 4,
   "id": "certified-happening",
   "metadata": {},
   "outputs": [
    {
     "ename": "ERROR",
     "evalue": "Error in colData(sce): could not find function \"colData\"\n",
     "output_type": "error",
     "traceback": [
      "Error in colData(sce): could not find function \"colData\"\nTraceback:\n",
      "1. tbl_df(colData(sce)) %>% group_by(Sample) %>% summarise(total.features = mean(total_features), \n .     total.counts = mean(total_counts))",
      "2. eval(lhs, parent, parent)",
      "3. eval(lhs, parent, parent)",
      "4. tbl_df(colData(sce))",
      "5. as_tibble(data, .name_repair = \"check_unique\")"
     ]
    }
   ],
   "source": [
    "tbl_df(colData(sce)) %>%\n",
    "  group_by(Sample) %>%\n",
    "  summarise(\n",
    "    total.features = mean(total_features),\n",
    "    total.counts = mean(total_counts)\n",
    "  )"
   ]
  },
  {
   "cell_type": "code",
   "execution_count": 5,
   "id": "statutory-oxygen",
   "metadata": {},
   "outputs": [
    {
     "ename": "ERROR",
     "evalue": "Error in parse(text = x, srcfile = src): <text>:1:15: unexpected symbol\n1: `summarise()` ungrouping\n                  ^\n",
     "output_type": "error",
     "traceback": [
      "Error in parse(text = x, srcfile = src): <text>:1:15: unexpected symbol\n1: `summarise()` ungrouping\n                  ^\nTraceback:\n"
     ]
    }
   ],
   "source": [
    "`summarise()` ungrouping output (override with `.groups` argument)"
   ]
  },
  {
   "cell_type": "markdown",
   "id": "congressional-premises",
   "metadata": {},
   "source": [
    "### dplyr - Functions as verbs.\n",
    "\n",
    "The most useful\n",
    "\n",
    "<code>select()</code>: select columns\n",
    "\n",
    "<code>mutate()</code>: create new variables, change existing\n",
    "\n",
    "<code>filter()</code>: subset your data by some criterion\n",
    "\n",
    "<code>summarize()</code>: summarize your data in some way\n",
    "\n",
    "<code>group_by()</code>: group your data by a variable\n",
    "\n",
    "<code>slice()</code>: grab specific rows\n",
    "\n",
    "<code>select()</code>: select an observation\n",
    "\n",
    "Some others\n",
    "\n",
    "<code>count()</code>: count your data\n",
    "\n",
    "<code>arrange()</code>: arrange your data by a column or variable\n",
    "\n",
    "<code>distinct()</code>: gather all distinct values of a variable\n",
    "\n",
    "<code>n_distinct()</code>: count how many distinct values you have (only works with summarize)\n",
    "\n",
    "<code>n()</code>: count how many observation you have for a subgroup\n",
    "\n",
    "<code>sample_n()</code>: Grab an N sample of your data\n",
    "\n",
    "<code>ungroup()</code>: ungroup grouped data by a variable\n",
    "\n",
    "<code>top_n()</code>: get the top N number of entries from a data frame\n",
    "\n",
    "\n",
    "To make it easier we copy the metadata for our <code>SingleCellExperiment</code> object <code>sce</code> to <code>d</code>"
   ]
  },
  {
   "cell_type": "code",
   "execution_count": 6,
   "id": "wrong-cargo",
   "metadata": {},
   "outputs": [
    {
     "ename": "ERROR",
     "evalue": "Error in colData(sce): could not find function \"colData\"\n",
     "output_type": "error",
     "traceback": [
      "Error in colData(sce): could not find function \"colData\"\nTraceback:\n",
      "1. tbl_df(colData(sce))",
      "2. as_tibble(data, .name_repair = \"check_unique\")"
     ]
    }
   ],
   "source": [
    "d <- tbl_df(colData(sce))"
   ]
  },
  {
   "cell_type": "code",
   "execution_count": 7,
   "id": "narrative-partnership",
   "metadata": {},
   "outputs": [
    {
     "ename": "ERROR",
     "evalue": "Error in eval(lhs, parent, parent): object 'd' not found\n",
     "output_type": "error",
     "traceback": [
      "Error in eval(lhs, parent, parent): object 'd' not found\nTraceback:\n",
      "1. d %>% select(Sample, Cluster, cellType)",
      "2. eval(lhs, parent, parent)",
      "3. eval(lhs, parent, parent)"
     ]
    }
   ],
   "source": [
    "d %>% \n",
    "  select(Sample, Cluster, cellType)"
   ]
  },
  {
   "cell_type": "markdown",
   "id": "tamil-handling",
   "metadata": {},
   "source": [
    "#### Filter : To select rows\n"
   ]
  },
  {
   "cell_type": "code",
   "execution_count": 8,
   "id": "electrical-catalog",
   "metadata": {},
   "outputs": [
    {
     "ename": "ERROR",
     "evalue": "Error in eval(lhs, parent, parent): object 'd' not found\n",
     "output_type": "error",
     "traceback": [
      "Error in eval(lhs, parent, parent): object 'd' not found\nTraceback:\n",
      "1. d %>% filter(cellType == \"HSC\")",
      "2. eval(lhs, parent, parent)",
      "3. eval(lhs, parent, parent)"
     ]
    }
   ],
   "source": [
    "d %>% \n",
    "  filter(cellType == \"HSC\")"
   ]
  },
  {
   "cell_type": "code",
   "execution_count": 9,
   "id": "fifteen-homeless",
   "metadata": {},
   "outputs": [
    {
     "ename": "ERROR",
     "evalue": "Error in eval(lhs, parent, parent): object 'd' not found\n",
     "output_type": "error",
     "traceback": [
      "Error in eval(lhs, parent, parent): object 'd' not found\nTraceback:\n",
      "1. d %>% select(barcode, Sample, total_features, cellType, Cluster) %>% \n .     filter(Sample == \"BC572\")",
      "2. eval(lhs, parent, parent)",
      "3. eval(lhs, parent, parent)"
     ]
    }
   ],
   "source": [
    "d %>% \n",
    "  select(barcode, Sample, total_features, cellType, Cluster) %>%\n",
    "  filter(Sample == \"BC572\")"
   ]
  },
  {
   "cell_type": "code",
   "execution_count": 10,
   "id": "charitable-moldova",
   "metadata": {},
   "outputs": [
    {
     "ename": "ERROR",
     "evalue": "Error in eval(lhs, parent, parent): object 'd' not found\n",
     "output_type": "error",
     "traceback": [
      "Error in eval(lhs, parent, parent): object 'd' not found\nTraceback:\n",
      "1. d %>% filter(cellType == \"Erythrocytes\", pct_counts_Mt > 1.5) %>% \n .     select(barcode, Sample, pct_counts_Mt, cellType, Cluster)",
      "2. eval(lhs, parent, parent)",
      "3. eval(lhs, parent, parent)"
     ]
    }
   ],
   "source": [
    "d %>% \n",
    "  filter(cellType == \"Erythrocytes\", pct_counts_Mt > 1.5) %>% \n",
    "  select(barcode, Sample, pct_counts_Mt, cellType, Cluster)"
   ]
  },
  {
   "cell_type": "markdown",
   "id": "congressional-kansas",
   "metadata": {},
   "source": [
    "#### Mutate\n",
    "\n",
    "To create new variables in the data table:"
   ]
  },
  {
   "cell_type": "code",
   "execution_count": 11,
   "id": "modified-newark",
   "metadata": {},
   "outputs": [
    {
     "ename": "ERROR",
     "evalue": "Error in eval(expr, envir, enclos): object 'd' not found\n",
     "output_type": "error",
     "traceback": [
      "Error in eval(expr, envir, enclos): object 'd' not found\nTraceback:\n"
     ]
    }
   ],
   "source": [
    "d_exp <- d\n",
    "d_exp <- cbind(d_exp, t(logcounts(sce)[c('KLF4','RUNX1','EGR1'),]))"
   ]
  },
  {
   "cell_type": "code",
   "execution_count": 12,
   "id": "following-representative",
   "metadata": {},
   "outputs": [
    {
     "ename": "ERROR",
     "evalue": "Error in eval(expr, envir, enclos): object 'd_exp' not found\n",
     "output_type": "error",
     "traceback": [
      "Error in eval(expr, envir, enclos): object 'd_exp' not found\nTraceback:\n"
     ]
    }
   ],
   "source": [
    "d_exp"
   ]
  },
  {
   "cell_type": "code",
   "execution_count": 13,
   "id": "spectacular-pickup",
   "metadata": {},
   "outputs": [
    {
     "ename": "ERROR",
     "evalue": "Error in eval(lhs, parent, parent): object 'd_exp' not found\n",
     "output_type": "error",
     "traceback": [
      "Error in eval(lhs, parent, parent): object 'd_exp' not found\nTraceback:\n",
      "1. d_exp %>% mutate(Klf4Diff = abs(KLF4 - RUNX1)) %>% select(barcode, \n .     Sample, cellType, Klf4Diff)",
      "2. eval(lhs, parent, parent)",
      "3. eval(lhs, parent, parent)"
     ]
    }
   ],
   "source": [
    "d_exp %>% \n",
    "  mutate(Klf4Diff = abs(KLF4 - RUNX1)) %>%\n",
    "  select(barcode, Sample, cellType, Klf4Diff)"
   ]
  },
  {
   "cell_type": "markdown",
   "id": "indoor-tribe",
   "metadata": {},
   "source": [
    "#### Arrange\n",
    "\n",
    "To order the data by a particular variable:"
   ]
  },
  {
   "cell_type": "code",
   "execution_count": 14,
   "id": "later-administrator",
   "metadata": {},
   "outputs": [
    {
     "ename": "ERROR",
     "evalue": "Error in eval(lhs, parent, parent): object 'd_exp' not found\n",
     "output_type": "error",
     "traceback": [
      "Error in eval(lhs, parent, parent): object 'd_exp' not found\nTraceback:\n",
      "1. d_exp %>% mutate(Klf4Diff = abs(KLF4 - RUNX1)) %>% arrange(desc(Klf4Diff)) %>% \n .     slice(1)",
      "2. eval(lhs, parent, parent)",
      "3. eval(lhs, parent, parent)"
     ]
    }
   ],
   "source": [
    "d_exp %>% \n",
    "  mutate(Klf4Diff = abs(KLF4 - RUNX1)) %>% \n",
    "  arrange(desc(Klf4Diff)) %>% \n",
    "  slice(1)"
   ]
  },
  {
   "cell_type": "markdown",
   "id": "agricultural-cardiff",
   "metadata": {},
   "source": [
    "#### Slice\n",
    "\n",
    "To slice your data by rows:"
   ]
  },
  {
   "cell_type": "code",
   "execution_count": 15,
   "id": "perceived-order",
   "metadata": {},
   "outputs": [
    {
     "ename": "ERROR",
     "evalue": "Error in eval(lhs, parent, parent): object 'd_exp' not found\n",
     "output_type": "error",
     "traceback": [
      "Error in eval(lhs, parent, parent): object 'd_exp' not found\nTraceback:\n",
      "1. d_exp %>% mutate(Klf4Diff = abs(KLF4 - RUNX1)) %>% arrange(desc(Klf4Diff)) %>% \n .     slice(1:5)",
      "2. eval(lhs, parent, parent)",
      "3. eval(lhs, parent, parent)"
     ]
    }
   ],
   "source": [
    "# The top 5 goleadas?\n",
    "d_exp %>% \n",
    "  mutate(Klf4Diff = abs(KLF4 - RUNX1)) %>% \n",
    "  arrange(desc(Klf4Diff)) %>% \n",
    "  slice(1:5)  # slice_max here would also do the trick"
   ]
  },
  {
   "cell_type": "code",
   "execution_count": 16,
   "id": "boring-retailer",
   "metadata": {},
   "outputs": [
    {
     "ename": "ERROR",
     "evalue": "Error in eval(lhs, parent, parent): object 'd_exp' not found\n",
     "output_type": "error",
     "traceback": [
      "Error in eval(lhs, parent, parent): object 'd_exp' not found\nTraceback:\n",
      "1. d_exp %>% mutate(Klf4Diff = (KLF4 - RUNX1)) %>% arrange(desc(Klf4Diff)) %>% \n .     select(barcode, Sample, cellType, Klf4Diff) %>% slice_min(Klf4Diff, \n .     n = 5)",
      "2. eval(lhs, parent, parent)",
      "3. eval(lhs, parent, parent)"
     ]
    }
   ],
   "source": [
    "# The top 5 goleadas?\n",
    "d_exp %>% \n",
    "  mutate(Klf4Diff = (KLF4 - RUNX1)) %>% \n",
    "  arrange(desc(Klf4Diff)) %>% \n",
    "  select(barcode, Sample, cellType, Klf4Diff) %>%\n",
    "  slice_min(Klf4Diff, n = 5)"
   ]
  },
  {
   "cell_type": "markdown",
   "id": "normal-cycling",
   "metadata": {},
   "source": [
    "#### Group by + sumarize : forget about loops\n",
    "\n",
    "First: group by a particular variables Second: summarize the data with new statistics. Summarize: Turn many rows into one.\n",
    "\n",
    "Examples:\n",
    "\n",
    "min(x) - minimum value of vector x.\n",
    "\n",
    "max(x) - maximum value of vector x.\n",
    "\n",
    "mean(x) - mean value of vector x.\n",
    "\n",
    "median(x) - median value of vector x.\n",
    "\n",
    "quantile(x, p) - pth quantile of vector x.\n",
    "\n",
    "sd(x) - standard deviation of vector x.\n",
    "\n",
    "var(x) - variance of vector x.\n",
    "\n",
    "IQR(x) - Inter Quartile Range (IQR) of vector x.\n",
    "\n",
    "diff(range(x)) - total range of vector x."
   ]
  },
  {
   "cell_type": "code",
   "execution_count": 17,
   "id": "cordless-strip",
   "metadata": {},
   "outputs": [
    {
     "ename": "ERROR",
     "evalue": "Error in eval(lhs, parent, parent): object 'd' not found\n",
     "output_type": "error",
     "traceback": [
      "Error in eval(lhs, parent, parent): object 'd' not found\nTraceback:\n",
      "1. d %>% group_by(cellType) %>% summarise(mean_total_counts = mean(total_counts, \n .     na.rm = TRUE), sd_total_counts = sd(total_counts), mean_pct_Mt_count = mean(pct_counts_Mt), \n .     count = n()) %>% slice_max(., n = 20, order_by = mean_total_counts)",
      "2. eval(lhs, parent, parent)",
      "3. eval(lhs, parent, parent)"
     ]
    }
   ],
   "source": [
    "d %>% \n",
    "  group_by(cellType) %>% \n",
    "  summarise(mean_total_counts = mean(total_counts, na.rm = TRUE), sd_total_counts = sd(total_counts), \n",
    "     mean_pct_Mt_count = mean(pct_counts_Mt), count = n()) %>% \n",
    "  #ungroup() %>% \n",
    "  slice_max(., n=20, order_by = mean_total_counts)  # note here, it does "
   ]
  },
  {
   "cell_type": "code",
   "execution_count": 18,
   "id": "freelance-apollo",
   "metadata": {},
   "outputs": [
    {
     "ename": "ERROR",
     "evalue": "Error in parse(text = x, srcfile = src): <text>:1:15: unexpected symbol\n1: `summarise()` ungrouping\n                  ^\n",
     "output_type": "error",
     "traceback": [
      "Error in parse(text = x, srcfile = src): <text>:1:15: unexpected symbol\n1: `summarise()` ungrouping\n                  ^\nTraceback:\n"
     ]
    }
   ],
   "source": [
    "`summarise()` ungrouping output (override with `.groups` argument)"
   ]
  },
  {
   "cell_type": "markdown",
   "id": "driving-meditation",
   "metadata": {},
   "source": [
    "<div class=\"alert alert-success\">\n",
    "    <strong>Note:</strong> <code>mutate()</code> either changes an existing column or adds a new one. summarise() calculates a single value (per group). As you can see, in the first example, new column is added.</a>.\n",
    "</div>"
   ]
  },
  {
   "cell_type": "markdown",
   "id": "super-anthropology",
   "metadata": {},
   "source": [
    "*****\n",
    "[back to the top](#top)"
   ]
  },
  {
   "cell_type": "markdown",
   "id": "white-circumstances",
   "metadata": {},
   "source": [
    "<a id=\"yourturn\"></a>\n",
    "## Your Turn\n"
   ]
  },
  {
   "cell_type": "markdown",
   "id": "pediatric-composite",
   "metadata": {},
   "source": [
    "<div class=\"alert alert-block alert-info\">\n",
    "    <b>Task 1</b><br/>\n",
    "   <p>Text</p> \n",
    "</div>"
   ]
  },
  {
   "cell_type": "code",
   "execution_count": null,
   "id": "bizarre-writer",
   "metadata": {
    "hide_input": false,
    "solution": "hidden",
    "solution_first": true
   },
   "outputs": [],
   "source": []
  },
  {
   "cell_type": "markdown",
   "id": "prescribed-services",
   "metadata": {},
   "source": [
    "<div class=\"alert alert-block alert-info\">\n",
    "    <b>Task 2</b></br>\n",
    "<p>Text</p>\n",
    "</div>"
   ]
  },
  {
   "cell_type": "code",
   "execution_count": null,
   "id": "south-intake",
   "metadata": {
    "hide_input": false,
    "solution": "hidden",
    "solution_first": true
   },
   "outputs": [],
   "source": []
  },
  {
   "cell_type": "code",
   "execution_count": null,
   "id": "nominated-white",
   "metadata": {},
   "outputs": [],
   "source": []
  },
  {
   "cell_type": "code",
   "execution_count": null,
   "id": "scenic-fraction",
   "metadata": {},
   "outputs": [],
   "source": []
  },
  {
   "cell_type": "markdown",
   "id": "coral-strain",
   "metadata": {},
   "source": [
    "<div class=\"alert alert-block alert-info\">\n",
    "    <b>Task 3</b> </br>\n",
    "<p>Text</p>"
   ]
  },
  {
   "cell_type": "code",
   "execution_count": null,
   "id": "accomplished-volume",
   "metadata": {},
   "outputs": [],
   "source": []
  },
  {
   "cell_type": "code",
   "execution_count": null,
   "id": "boxed-block",
   "metadata": {},
   "outputs": [],
   "source": []
  },
  {
   "cell_type": "code",
   "execution_count": null,
   "id": "mighty-kidney",
   "metadata": {},
   "outputs": [],
   "source": []
  },
  {
   "cell_type": "markdown",
   "id": "convinced-consultation",
   "metadata": {},
   "source": [
    "*****\n",
    "[back to the top](#top)"
   ]
  },
  {
   "cell_type": "markdown",
   "id": "vital-capacity",
   "metadata": {},
   "source": [
    "### Notebook details\n",
    "<br>\n",
    "<i>Notebook created by <strong>Syed Murtaza Baker</strong>. Other contributors include Fran Hooley... \n",
    "\n",
    "Publish date: May 2021<br>\n",
    "Review date: May 2022</i>\n",
    "\n",
    "Please give your feedback using the button below:"
   ]
  },
  {
   "cell_type": "markdown",
   "id": "basic-compact",
   "metadata": {},
   "source": [
    "****\n",
    "\n",
    "## Your Notes:\n"
   ]
  },
  {
   "cell_type": "code",
   "execution_count": null,
   "id": "informational-tiger",
   "metadata": {},
   "outputs": [],
   "source": []
  },
  {
   "cell_type": "code",
   "execution_count": null,
   "id": "unavailable-backup",
   "metadata": {},
   "outputs": [],
   "source": []
  },
  {
   "cell_type": "code",
   "execution_count": null,
   "id": "cosmetic-store",
   "metadata": {},
   "outputs": [],
   "source": []
  }
 ],
 "metadata": {
  "kernelspec": {
   "display_name": "R",
   "language": "R",
   "name": "ir"
  },
  "language_info": {
   "codemirror_mode": "r",
   "file_extension": ".r",
   "mimetype": "text/x-r-source",
   "name": "R",
   "pygments_lexer": "r",
   "version": "3.6.1"
  }
 },
 "nbformat": 4,
 "nbformat_minor": 5
}
